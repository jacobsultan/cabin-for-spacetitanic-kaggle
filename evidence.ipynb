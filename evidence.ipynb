{
 "cells": [
  {
   "cell_type": "code",
   "execution_count": 5,
   "metadata": {},
   "outputs": [],
   "source": [
    "import pandas as pd\n",
    "\n",
    "traindf = pd.read_csv('data/train.csv')\n",
    "testdf = pd.read_csv('data/test.csv')\n",
    "traindf['Set'] = 'Train'\n",
    "testdf['Set'] = 'Test'\n",
    "togeth = pd.concat([testdf,traindf])\n",
    "homeplanets = ['Earth', 'Europa', 'Mars']"
   ]
  },
  {
   "cell_type": "code",
   "execution_count": 6,
   "metadata": {},
   "outputs": [],
   "source": [
    "def splits(dataframe):\n",
    "    split_df = dataframe['PassengerId'].str.split('_', expand=True)\n",
    "    dataframe[['Group', 'GroupNumber']] = split_df\n",
    "\n",
    "    split_df =  dataframe['Cabin'].str.split(\"/\", expand = True)\n",
    "    dataframe[['Deck', 'Number', 'Side']]= split_df\n",
    "    \n",
    "    split_df = dataframe['Name'].str.split(\" \",expand = True)\n",
    "    dataframe[['FristName','LastName']] = split_df\n",
    "\n",
    "\n",
    "    return dataframe\n",
    "\n",
    "togeth = splits(togeth)\n"
   ]
  },
  {
   "cell_type": "markdown",
   "metadata": {},
   "source": [
    "#### Same name implies home planet"
   ]
  },
  {
   "cell_type": "markdown",
   "metadata": {},
   "source": [
    "write how many there are beforehand with same last name and therefore home planet "
   ]
  },
  {
   "cell_type": "code",
   "execution_count": 7,
   "metadata": {},
   "outputs": [
    {
     "name": "stdout",
     "output_type": "stream",
     "text": [
      "Number of people from groups where all share the same HomePlanet: 12398\n",
      "Number of people from groups where not all share the same HomePlanet: 0\n"
     ]
    }
   ],
   "source": [
    "togeth_cleaned = togeth.dropna(subset=['HomePlanet','LastName'])\n",
    "\n",
    "# Group by 'LastName' and aggregate HomePlanet into lists\n",
    "grouped = togeth_cleaned.groupby('LastName')['HomePlanet'].agg(list).reset_index()\n",
    "\n",
    "# Function to check if all elements in a list are the same\n",
    "def is_uniform(homeplanets):\n",
    "    return len(set(homeplanets)) == 1\n",
    "\n",
    "# Apply the function to identify uniform and mixed groups\n",
    "grouped['UniformPlanet'] = grouped['HomePlanet'].apply(is_uniform)\n",
    "\n",
    "# Count how many people are in uniform and mixed planet groups\n",
    "uniform_groups = grouped[grouped['UniformPlanet'] == True]\n",
    "mixed_groups = grouped[grouped['UniformPlanet'] == False]\n",
    "\n",
    "# Sum up the number of people in uniform and mixed groups\n",
    "people_uniform = uniform_groups['HomePlanet'].apply(len).sum()\n",
    "people_mixed = mixed_groups['HomePlanet'].apply(len).sum()\n",
    "\n",
    "print(f\"Number of people from groups where all share the same HomePlanet: {people_uniform}\")\n",
    "print(f\"Number of people from groups where not all share the same HomePlanet: {people_mixed}\")\n"
   ]
  },
  {
   "cell_type": "markdown",
   "metadata": {},
   "source": [
    "#### same group implies homeplanet "
   ]
  },
  {
   "cell_type": "code",
   "execution_count": 8,
   "metadata": {},
   "outputs": [
    {
     "name": "stdout",
     "output_type": "stream",
     "text": [
      "Number of people from groups where all share the same HomePlanet: 12682\n",
      "Number of people from groups where not all share the same HomePlanet: 0\n"
     ]
    }
   ],
   "source": [
    "togeth_cleaned = togeth.dropna(subset=['HomePlanet','Group'])\n",
    "\n",
    "\n",
    "# Group by 'LastName' and aggregate HomePlanet into lists\n",
    "grouped = togeth_cleaned.groupby('Group')['HomePlanet'].agg(list).reset_index()\n",
    "\n",
    "# Function to check if all elements in a list are the same\n",
    "def is_uniform(homeplanets):\n",
    "    return len(set(homeplanets)) == 1\n",
    "\n",
    "# Apply the function to identify uniform and mixed groups\n",
    "grouped['UniformPlanet'] = grouped['HomePlanet'].apply(is_uniform)\n",
    "\n",
    "# Count how many people are in uniform and mixed planet groups\n",
    "uniform_groups = grouped[grouped['UniformPlanet'] == True]\n",
    "mixed_groups = grouped[grouped['UniformPlanet'] == False]\n",
    "\n",
    "# Sum up the number of people in uniform and mixed groups\n",
    "people_uniform = uniform_groups['HomePlanet'].apply(len).sum()\n",
    "people_mixed = mixed_groups['HomePlanet'].apply(len).sum()\n",
    "\n",
    "print(f\"Number of people from groups where all share the same HomePlanet: {people_uniform}\")\n",
    "print(f\"Number of people from groups where not all share the same HomePlanet: {people_mixed}\")\n"
   ]
  },
  {
   "cell_type": "markdown",
   "metadata": {},
   "source": [
    "## Homeplanet implies deck"
   ]
  },
  {
   "cell_type": "code",
   "execution_count": 9,
   "metadata": {},
   "outputs": [],
   "source": [
    "def checks(df):\n",
    "    for home in homeplanets:\n",
    "        print(\"\\n\" + home)\n",
    "        print(df[df.HomePlanet == home].Deck.value_counts())"
   ]
  },
  {
   "cell_type": "markdown",
   "metadata": {},
   "source": [
    "People from Earth are only in decks G, F, E\n",
    "People from Europa are only in decks B,C,A,D,E,T\n",
    "people from Mars are only in decks F,E,D"
   ]
  },
  {
   "cell_type": "markdown",
   "metadata": {},
   "source": [
    "#### Same cabin means same group"
   ]
  },
  {
   "cell_type": "code",
   "execution_count": null,
   "metadata": {},
   "outputs": [],
   "source": [
    "togeth_cleaned = togeth.dropna(subset=['Group','Cabin'])\n",
    "\n",
    "\n",
    "# Cabin by 'LastName' and aggregate Group into lists\n",
    "Cabined = togeth_cleaned.groupby('Cabin')['Group'].agg(list).reset_index()\n",
    "\n",
    "# Function to check if all elements in a list are the same\n",
    "def is_uniform(Groups):\n",
    "    return len(set(Groups)) == 1\n",
    "\n",
    "# Apply the function to identify uniform and mixed Cabins\n",
    "Cabined['UniformPlanet'] = Cabined['Group'].apply(is_uniform)\n",
    "\n",
    "# Count how many people are in uniform and mixed planet Cabins\n",
    "uniform_Cabins = Cabined[Cabined['UniformPlanet'] == True]\n",
    "mixed_Cabins = Cabined[Cabined['UniformPlanet'] == False]\n",
    "\n",
    "# Sum up the number of people in uniform and mixed Cabins\n",
    "people_uniform = uniform_Cabins['Group'].apply(len).sum()\n",
    "people_mixed = mixed_Cabins['Group'].apply(len).sum()\n",
    "\n",
    "print(f\"Number of people from Cabins where all share the same Group: {people_uniform}\")\n",
    "print(f\"Number of people from Cabins where not all share the same Group: {people_mixed}\")\n"
   ]
  }
 ],
 "metadata": {
  "kernelspec": {
   "display_name": "spaceenv",
   "language": "python",
   "name": "python3"
  },
  "language_info": {
   "codemirror_mode": {
    "name": "ipython",
    "version": 3
   },
   "file_extension": ".py",
   "mimetype": "text/x-python",
   "name": "python",
   "nbconvert_exporter": "python",
   "pygments_lexer": "ipython3",
   "version": "3.9.6"
  }
 },
 "nbformat": 4,
 "nbformat_minor": 2
}
