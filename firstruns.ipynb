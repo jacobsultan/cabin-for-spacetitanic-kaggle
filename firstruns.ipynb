{
 "cells": [
  {
   "cell_type": "code",
   "execution_count": 721,
   "metadata": {},
   "outputs": [],
   "source": [
    "import pandas as pd\n",
    "import numpy as np\n",
    "\n",
    "traindf = pd.read_csv('data/train.csv')\n",
    "testdf = pd.read_csv('data/test.csv')\n",
    "traindf['Set'] = 'Train'\n",
    "testdf['Set'] = 'Test'\n",
    "togeth = pd.concat([testdf,traindf])\n"
   ]
  },
  {
   "cell_type": "code",
   "execution_count": 722,
   "metadata": {},
   "outputs": [],
   "source": [
    "homeplanets = ['Earth', 'Europa', 'Mars']"
   ]
  },
  {
   "cell_type": "code",
   "execution_count": 723,
   "metadata": {},
   "outputs": [],
   "source": [
    "decks_by_planet = {\n",
    "    'earth':['E','F','G'],\n",
    "    'europa': ['A','B','C','D','E','T'],\n",
    "    'mars': ['D','E','F']\n",
    "}\n",
    "\n",
    "cabin_sides = ['P','S']"
   ]
  },
  {
   "cell_type": "code",
   "execution_count": null,
   "metadata": {},
   "outputs": [],
   "source": []
  },
  {
   "cell_type": "markdown",
   "metadata": {},
   "source": [
    "## datasplits "
   ]
  },
  {
   "cell_type": "code",
   "execution_count": 724,
   "metadata": {},
   "outputs": [],
   "source": [
    "def splits(dataframe):\n",
    "    split_df = dataframe['PassengerId'].str.split('_', expand=True)\n",
    "    dataframe[['Group', 'GroupNumber']] = split_df\n",
    "\n",
    "    split_df =  dataframe['Cabin'].str.split(\"/\", expand = True)\n",
    "    dataframe[['Deck', 'Number', 'Side']]= split_df\n",
    "    \n",
    "    split_df = dataframe['Name'].str.split(\" \",expand = True)\n",
    "    dataframe[['FristName','LastName']] = split_df\n",
    "\n",
    "\n",
    "    return dataframe\n",
    "\n",
    "togeth = splits(togeth)\n",
    "togeth = togeth.sort_values(by = ['Group','GroupNumber'])\n",
    "togeth = togeth.reset_index()\n",
    "togeth = togeth[['PassengerId','HomePlanet','Cabin','Destination','Group','GroupNumber','Deck','Number','Side','Set','LastName']]\n"
   ]
  },
  {
   "cell_type": "code",
   "execution_count": 725,
   "metadata": {},
   "outputs": [],
   "source": [
    "def group_size(df):\n",
    "    def group_size_apply(row):\n",
    "        group = df[df.Group == row.Group]\n",
    "        return len(group)\n",
    "    df['GroupSize'] = df.apply(group_size_apply, axis = 1)\n",
    "    return df\n",
    "togeth = group_size(togeth)"
   ]
  },
  {
   "cell_type": "code",
   "execution_count": 726,
   "metadata": {},
   "outputs": [
    {
     "data": {
      "text/html": [
       "<div>\n",
       "<style scoped>\n",
       "    .dataframe tbody tr th:only-of-type {\n",
       "        vertical-align: middle;\n",
       "    }\n",
       "\n",
       "    .dataframe tbody tr th {\n",
       "        vertical-align: top;\n",
       "    }\n",
       "\n",
       "    .dataframe thead th {\n",
       "        text-align: right;\n",
       "    }\n",
       "</style>\n",
       "<table border=\"1\" class=\"dataframe\">\n",
       "  <thead>\n",
       "    <tr style=\"text-align: right;\">\n",
       "      <th></th>\n",
       "      <th>PassengerId</th>\n",
       "      <th>HomePlanet</th>\n",
       "      <th>Cabin</th>\n",
       "      <th>Destination</th>\n",
       "      <th>Group</th>\n",
       "      <th>GroupNumber</th>\n",
       "      <th>Deck</th>\n",
       "      <th>Number</th>\n",
       "      <th>Side</th>\n",
       "      <th>Set</th>\n",
       "      <th>LastName</th>\n",
       "      <th>GroupSize</th>\n",
       "    </tr>\n",
       "  </thead>\n",
       "  <tbody>\n",
       "    <tr>\n",
       "      <th>0</th>\n",
       "      <td>0001_01</td>\n",
       "      <td>Europa</td>\n",
       "      <td>B/0/P</td>\n",
       "      <td>TRAPPIST-1e</td>\n",
       "      <td>0001</td>\n",
       "      <td>01</td>\n",
       "      <td>B</td>\n",
       "      <td>0</td>\n",
       "      <td>P</td>\n",
       "      <td>Train</td>\n",
       "      <td>Ofracculy</td>\n",
       "      <td>1</td>\n",
       "    </tr>\n",
       "    <tr>\n",
       "      <th>1</th>\n",
       "      <td>0002_01</td>\n",
       "      <td>Earth</td>\n",
       "      <td>F/0/S</td>\n",
       "      <td>TRAPPIST-1e</td>\n",
       "      <td>0002</td>\n",
       "      <td>01</td>\n",
       "      <td>F</td>\n",
       "      <td>0</td>\n",
       "      <td>S</td>\n",
       "      <td>Train</td>\n",
       "      <td>Vines</td>\n",
       "      <td>1</td>\n",
       "    </tr>\n",
       "    <tr>\n",
       "      <th>2</th>\n",
       "      <td>0003_01</td>\n",
       "      <td>Europa</td>\n",
       "      <td>A/0/S</td>\n",
       "      <td>TRAPPIST-1e</td>\n",
       "      <td>0003</td>\n",
       "      <td>01</td>\n",
       "      <td>A</td>\n",
       "      <td>0</td>\n",
       "      <td>S</td>\n",
       "      <td>Train</td>\n",
       "      <td>Susent</td>\n",
       "      <td>2</td>\n",
       "    </tr>\n",
       "    <tr>\n",
       "      <th>3</th>\n",
       "      <td>0003_02</td>\n",
       "      <td>Europa</td>\n",
       "      <td>A/0/S</td>\n",
       "      <td>TRAPPIST-1e</td>\n",
       "      <td>0003</td>\n",
       "      <td>02</td>\n",
       "      <td>A</td>\n",
       "      <td>0</td>\n",
       "      <td>S</td>\n",
       "      <td>Train</td>\n",
       "      <td>Susent</td>\n",
       "      <td>2</td>\n",
       "    </tr>\n",
       "    <tr>\n",
       "      <th>4</th>\n",
       "      <td>0004_01</td>\n",
       "      <td>Earth</td>\n",
       "      <td>F/1/S</td>\n",
       "      <td>TRAPPIST-1e</td>\n",
       "      <td>0004</td>\n",
       "      <td>01</td>\n",
       "      <td>F</td>\n",
       "      <td>1</td>\n",
       "      <td>S</td>\n",
       "      <td>Train</td>\n",
       "      <td>Santantines</td>\n",
       "      <td>1</td>\n",
       "    </tr>\n",
       "  </tbody>\n",
       "</table>\n",
       "</div>"
      ],
      "text/plain": [
       "  PassengerId HomePlanet  Cabin  Destination Group GroupNumber Deck Number  \\\n",
       "0     0001_01     Europa  B/0/P  TRAPPIST-1e  0001          01    B      0   \n",
       "1     0002_01      Earth  F/0/S  TRAPPIST-1e  0002          01    F      0   \n",
       "2     0003_01     Europa  A/0/S  TRAPPIST-1e  0003          01    A      0   \n",
       "3     0003_02     Europa  A/0/S  TRAPPIST-1e  0003          02    A      0   \n",
       "4     0004_01      Earth  F/1/S  TRAPPIST-1e  0004          01    F      1   \n",
       "\n",
       "  Side    Set     LastName  GroupSize  \n",
       "0    P  Train    Ofracculy          1  \n",
       "1    S  Train        Vines          1  \n",
       "2    S  Train       Susent          2  \n",
       "3    S  Train       Susent          2  \n",
       "4    S  Train  Santantines          1  "
      ]
     },
     "execution_count": 726,
     "metadata": {},
     "output_type": "execute_result"
    }
   ],
   "source": [
    "togeth.head()"
   ]
  },
  {
   "cell_type": "code",
   "execution_count": 727,
   "metadata": {},
   "outputs": [],
   "source": [
    "def impute_attribute_based_on_shared_feature(df, attribute, feature):\n",
    "    # Function to fill NaNs in a group based on the first available non-NaN value\n",
    "    def fill_with_first_available(group_df):\n",
    "        if not group_df[attribute].dropna().empty:\n",
    "            first_available = group_df[attribute].dropna().iloc[0]\n",
    "            group_df[attribute] = group_df[attribute].fillna(first_available)\n",
    "        return group_df\n",
    "\n",
    "    # Filter out rows where the feature is NaN, then apply the fill function to each group\n",
    "    filtered_df = df.dropna(subset=[feature])\n",
    "    imputed_df = filtered_df.groupby(feature, group_keys=False).apply(fill_with_first_available)\n",
    "    \n",
    "    # Merge back with original df rows where the feature is NaN to retain those rows unchanged\n",
    "    df_with_nan_feature = df[df[feature].isna()]\n",
    "    final_df = pd.concat([imputed_df, df_with_nan_feature], ignore_index=True)\n",
    "\n",
    "    return final_df"
   ]
  },
  {
   "cell_type": "markdown",
   "metadata": {},
   "source": [
    "## Certain imputes"
   ]
  },
  {
   "cell_type": "code",
   "execution_count": 728,
   "metadata": {},
   "outputs": [
    {
     "name": "stderr",
     "output_type": "stream",
     "text": [
      "/var/folders/nk/n25bjxk97j7213hk3kmrl6bm0000gp/T/ipykernel_59632/2494772570.py:11: DeprecationWarning: DataFrameGroupBy.apply operated on the grouping columns. This behavior is deprecated, and in a future version of pandas the grouping columns will be excluded from the operation. Either pass `include_groups=False` to exclude the groupings or explicitly select the grouping columns after groupby to silence this warning.\n",
      "  imputed_df = filtered_df.groupby(feature, group_keys=False).apply(fill_with_first_available)\n"
     ]
    }
   ],
   "source": [
    "togeth = impute_attribute_based_on_shared_feature(togeth,'HomePlanet','Group')"
   ]
  },
  {
   "cell_type": "markdown",
   "metadata": {},
   "source": [
    "# by last name"
   ]
  },
  {
   "cell_type": "code",
   "execution_count": 729,
   "metadata": {},
   "outputs": [
    {
     "name": "stderr",
     "output_type": "stream",
     "text": [
      "/var/folders/nk/n25bjxk97j7213hk3kmrl6bm0000gp/T/ipykernel_59632/2494772570.py:11: DeprecationWarning: DataFrameGroupBy.apply operated on the grouping columns. This behavior is deprecated, and in a future version of pandas the grouping columns will be excluded from the operation. Either pass `include_groups=False` to exclude the groupings or explicitly select the grouping columns after groupby to silence this warning.\n",
      "  imputed_df = filtered_df.groupby(feature, group_keys=False).apply(fill_with_first_available)\n"
     ]
    }
   ],
   "source": [
    "togeth = impute_attribute_based_on_shared_feature(togeth,'HomePlanet','LastName')"
   ]
  },
  {
   "cell_type": "code",
   "execution_count": 730,
   "metadata": {},
   "outputs": [],
   "source": [
    "togeth = togeth.sort_values(by = ['Group','GroupNumber'])\n",
    "togeth = togeth.reset_index(drop = True)\n"
   ]
  },
  {
   "cell_type": "code",
   "execution_count": 731,
   "metadata": {},
   "outputs": [],
   "source": [
    "def home_planet_from_deck_abc(df):\n",
    "    df.loc[df['Deck'].isin(['A', 'B', 'C']), 'HomePlanet'] = df.loc[df['Deck'].isin(['A', 'B', 'C']), 'HomePlanet'].fillna('Europa')\n",
    "    return df\n",
    "def home_planet_from_deck_g(df):\n",
    "    df.loc[df['Deck']== 'G', 'HomePlanet'] = df.loc[df['Deck'] == 'G', 'HomePlanet'].fillna('Earth')\n",
    "    return df\n"
   ]
  },
  {
   "cell_type": "markdown",
   "metadata": {},
   "source": [
    "## do i need these for my imputing?"
   ]
  },
  {
   "cell_type": "code",
   "execution_count": 732,
   "metadata": {},
   "outputs": [],
   "source": [
    "togeth = home_planet_from_deck_abc(togeth)\n",
    "togeth = home_planet_from_deck_g(togeth)"
   ]
  },
  {
   "cell_type": "code",
   "execution_count": 733,
   "metadata": {},
   "outputs": [
    {
     "data": {
      "text/html": [
       "<div>\n",
       "<style scoped>\n",
       "    .dataframe tbody tr th:only-of-type {\n",
       "        vertical-align: middle;\n",
       "    }\n",
       "\n",
       "    .dataframe tbody tr th {\n",
       "        vertical-align: top;\n",
       "    }\n",
       "\n",
       "    .dataframe thead th {\n",
       "        text-align: right;\n",
       "    }\n",
       "</style>\n",
       "<table border=\"1\" class=\"dataframe\">\n",
       "  <thead>\n",
       "    <tr style=\"text-align: right;\">\n",
       "      <th></th>\n",
       "      <th>PassengerId</th>\n",
       "      <th>HomePlanet</th>\n",
       "      <th>Cabin</th>\n",
       "      <th>Destination</th>\n",
       "      <th>Group</th>\n",
       "      <th>GroupNumber</th>\n",
       "      <th>Deck</th>\n",
       "      <th>Number</th>\n",
       "      <th>Side</th>\n",
       "      <th>Set</th>\n",
       "      <th>LastName</th>\n",
       "      <th>GroupSize</th>\n",
       "    </tr>\n",
       "  </thead>\n",
       "  <tbody>\n",
       "    <tr>\n",
       "      <th>870</th>\n",
       "      <td>0616_01</td>\n",
       "      <td>NaN</td>\n",
       "      <td>E/40/S</td>\n",
       "      <td>TRAPPIST-1e</td>\n",
       "      <td>0616</td>\n",
       "      <td>01</td>\n",
       "      <td>E</td>\n",
       "      <td>40</td>\n",
       "      <td>S</td>\n",
       "      <td>Test</td>\n",
       "      <td>Spriney</td>\n",
       "      <td>1</td>\n",
       "    </tr>\n",
       "    <tr>\n",
       "      <th>3439</th>\n",
       "      <td>2443_01</td>\n",
       "      <td>NaN</td>\n",
       "      <td>D/72/P</td>\n",
       "      <td>TRAPPIST-1e</td>\n",
       "      <td>2443</td>\n",
       "      <td>01</td>\n",
       "      <td>D</td>\n",
       "      <td>72</td>\n",
       "      <td>P</td>\n",
       "      <td>Train</td>\n",
       "      <td>NaN</td>\n",
       "      <td>1</td>\n",
       "    </tr>\n",
       "    <tr>\n",
       "      <th>3946</th>\n",
       "      <td>2817_01</td>\n",
       "      <td>NaN</td>\n",
       "      <td>F/584/P</td>\n",
       "      <td>TRAPPIST-1e</td>\n",
       "      <td>2817</td>\n",
       "      <td>01</td>\n",
       "      <td>F</td>\n",
       "      <td>584</td>\n",
       "      <td>P</td>\n",
       "      <td>Train</td>\n",
       "      <td>Sutty</td>\n",
       "      <td>1</td>\n",
       "    </tr>\n",
       "    <tr>\n",
       "      <th>4632</th>\n",
       "      <td>3331_01</td>\n",
       "      <td>NaN</td>\n",
       "      <td>F/631/S</td>\n",
       "      <td>TRAPPIST-1e</td>\n",
       "      <td>3331</td>\n",
       "      <td>01</td>\n",
       "      <td>F</td>\n",
       "      <td>631</td>\n",
       "      <td>S</td>\n",
       "      <td>Train</td>\n",
       "      <td>NaN</td>\n",
       "      <td>1</td>\n",
       "    </tr>\n",
       "    <tr>\n",
       "      <th>5687</th>\n",
       "      <td>4052_01</td>\n",
       "      <td>NaN</td>\n",
       "      <td>D/136/P</td>\n",
       "      <td>TRAPPIST-1e</td>\n",
       "      <td>4052</td>\n",
       "      <td>01</td>\n",
       "      <td>D</td>\n",
       "      <td>136</td>\n",
       "      <td>P</td>\n",
       "      <td>Test</td>\n",
       "      <td>Coneveseng</td>\n",
       "      <td>1</td>\n",
       "    </tr>\n",
       "    <tr>\n",
       "      <th>6786</th>\n",
       "      <td>4840_01</td>\n",
       "      <td>NaN</td>\n",
       "      <td>F/915/S</td>\n",
       "      <td>TRAPPIST-1e</td>\n",
       "      <td>4840</td>\n",
       "      <td>01</td>\n",
       "      <td>F</td>\n",
       "      <td>915</td>\n",
       "      <td>S</td>\n",
       "      <td>Train</td>\n",
       "      <td>NaN</td>\n",
       "      <td>1</td>\n",
       "    </tr>\n",
       "    <tr>\n",
       "      <th>8528</th>\n",
       "      <td>6108_01</td>\n",
       "      <td>NaN</td>\n",
       "      <td>F/1166/S</td>\n",
       "      <td>TRAPPIST-1e</td>\n",
       "      <td>6108</td>\n",
       "      <td>01</td>\n",
       "      <td>F</td>\n",
       "      <td>1166</td>\n",
       "      <td>S</td>\n",
       "      <td>Train</td>\n",
       "      <td>NaN</td>\n",
       "      <td>1</td>\n",
       "    </tr>\n",
       "    <tr>\n",
       "      <th>9916</th>\n",
       "      <td>7065_01</td>\n",
       "      <td>NaN</td>\n",
       "      <td>E/471/S</td>\n",
       "      <td>TRAPPIST-1e</td>\n",
       "      <td>7065</td>\n",
       "      <td>01</td>\n",
       "      <td>E</td>\n",
       "      <td>471</td>\n",
       "      <td>S</td>\n",
       "      <td>Test</td>\n",
       "      <td>Maltorted</td>\n",
       "      <td>1</td>\n",
       "    </tr>\n",
       "    <tr>\n",
       "      <th>11757</th>\n",
       "      <td>8435_01</td>\n",
       "      <td>NaN</td>\n",
       "      <td>F/1730/P</td>\n",
       "      <td>TRAPPIST-1e</td>\n",
       "      <td>8435</td>\n",
       "      <td>01</td>\n",
       "      <td>F</td>\n",
       "      <td>1730</td>\n",
       "      <td>P</td>\n",
       "      <td>Test</td>\n",
       "      <td>NaN</td>\n",
       "      <td>1</td>\n",
       "    </tr>\n",
       "    <tr>\n",
       "      <th>12244</th>\n",
       "      <td>8775_01</td>\n",
       "      <td>NaN</td>\n",
       "      <td>D/275/P</td>\n",
       "      <td>TRAPPIST-1e</td>\n",
       "      <td>8775</td>\n",
       "      <td>01</td>\n",
       "      <td>D</td>\n",
       "      <td>275</td>\n",
       "      <td>P</td>\n",
       "      <td>Test</td>\n",
       "      <td>Maltorted</td>\n",
       "      <td>1</td>\n",
       "    </tr>\n",
       "  </tbody>\n",
       "</table>\n",
       "</div>"
      ],
      "text/plain": [
       "      PassengerId HomePlanet     Cabin  Destination Group GroupNumber Deck  \\\n",
       "870       0616_01        NaN    E/40/S  TRAPPIST-1e  0616          01    E   \n",
       "3439      2443_01        NaN    D/72/P  TRAPPIST-1e  2443          01    D   \n",
       "3946      2817_01        NaN   F/584/P  TRAPPIST-1e  2817          01    F   \n",
       "4632      3331_01        NaN   F/631/S  TRAPPIST-1e  3331          01    F   \n",
       "5687      4052_01        NaN   D/136/P  TRAPPIST-1e  4052          01    D   \n",
       "6786      4840_01        NaN   F/915/S  TRAPPIST-1e  4840          01    F   \n",
       "8528      6108_01        NaN  F/1166/S  TRAPPIST-1e  6108          01    F   \n",
       "9916      7065_01        NaN   E/471/S  TRAPPIST-1e  7065          01    E   \n",
       "11757     8435_01        NaN  F/1730/P  TRAPPIST-1e  8435          01    F   \n",
       "12244     8775_01        NaN   D/275/P  TRAPPIST-1e  8775          01    D   \n",
       "\n",
       "      Number Side    Set    LastName  GroupSize  \n",
       "870       40    S   Test     Spriney          1  \n",
       "3439      72    P  Train         NaN          1  \n",
       "3946     584    P  Train       Sutty          1  \n",
       "4632     631    S  Train         NaN          1  \n",
       "5687     136    P   Test  Coneveseng          1  \n",
       "6786     915    S  Train         NaN          1  \n",
       "8528    1166    S  Train         NaN          1  \n",
       "9916     471    S   Test   Maltorted          1  \n",
       "11757   1730    P   Test         NaN          1  \n",
       "12244    275    P   Test   Maltorted          1  "
      ]
     },
     "execution_count": 733,
     "metadata": {},
     "output_type": "execute_result"
    }
   ],
   "source": [
    "togeth[togeth.HomePlanet.isna()]"
   ]
  },
  {
   "cell_type": "code",
   "execution_count": 734,
   "metadata": {},
   "outputs": [
    {
     "data": {
      "text/plain": [
       "PassengerId      0\n",
       "HomePlanet      10\n",
       "Cabin          299\n",
       "Destination    274\n",
       "Group            0\n",
       "GroupNumber      0\n",
       "Deck           299\n",
       "Number         299\n",
       "Side           299\n",
       "Set              0\n",
       "LastName       294\n",
       "GroupSize        0\n",
       "dtype: int64"
      ]
     },
     "execution_count": 734,
     "metadata": {},
     "output_type": "execute_result"
    }
   ],
   "source": [
    "togeth.isna().sum()"
   ]
  },
  {
   "cell_type": "markdown",
   "metadata": {},
   "source": [
    "# Filling missed Cabins\n"
   ]
  },
  {
   "cell_type": "code",
   "execution_count": 735,
   "metadata": {},
   "outputs": [],
   "source": [
    "used_cabins = {}\n",
    "for deck in list(togeth.dropna().Deck.unique()):\n",
    "    cab = {}\n",
    "    for side in list(togeth.dropna().Side.unique()):\n",
    "        rooms = list(togeth[(togeth.Deck == deck) & (togeth.Side == side)].dropna().Number.unique())\n",
    "        rooms.sort()\n",
    "        cab[side] = rooms\n",
    "    used_cabins[deck] = cab\n",
    "    "
   ]
  },
  {
   "cell_type": "markdown",
   "metadata": {},
   "source": [
    "#### fill people that must be sharing a room with people in the same group\n",
    "ie, from their chome planet we know the decks they could be in, if the side and number below and above are one above and one below then they must be sharing with someone from their group. make sure that their group has only one cabin"
   ]
  },
  {
   "cell_type": "markdown",
   "metadata": {},
   "source": [
    "need to make sure is only one person  with cabin being na in the group otherwise one na might be in another cabin "
   ]
  },
  {
   "cell_type": "code",
   "execution_count": 736,
   "metadata": {},
   "outputs": [],
   "source": [
    "df = togeth.copy()"
   ]
  },
  {
   "cell_type": "markdown",
   "metadata": {},
   "source": [
    "for row in dataframe\n",
    "\n",
    "if cabin.isna() and homeplanet is known,\n",
    " for potential decks in homeplanets remit ie europa check a, b , c in dataframe up to that point and over that point, see if any have a free space and if not then fill it with the one in the same group"
   ]
  },
  {
   "cell_type": "code",
   "execution_count": 737,
   "metadata": {},
   "outputs": [
    {
     "name": "stdout",
     "output_type": "stream",
     "text": [
      "\n",
      "Earth\n",
      "Deck\n",
      "G    3781\n",
      "F    2475\n",
      "E     595\n",
      "Name: count, dtype: int64\n",
      "\n",
      "Europa\n",
      "Deck\n",
      "B    1141\n",
      "C    1102\n",
      "A     354\n",
      "D     306\n",
      "E     203\n",
      "T      11\n",
      "Name: count, dtype: int64\n",
      "\n",
      "Mars\n",
      "Deck\n",
      "F    1759\n",
      "E     523\n",
      "D     411\n",
      "Name: count, dtype: int64\n"
     ]
    }
   ],
   "source": [
    "df = checks(df)"
   ]
  },
  {
   "cell_type": "code",
   "execution_count": 738,
   "metadata": {},
   "outputs": [],
   "source": [
    "passenger_index = 1000\n",
    "deck = 'A'"
   ]
  },
  {
   "cell_type": "code",
   "execution_count": 739,
   "metadata": {},
   "outputs": [
    {
     "data": {
      "text/plain": [
       "'6'"
      ]
     },
     "execution_count": 739,
     "metadata": {},
     "output_type": "execute_result"
    }
   ],
   "source": [
    "before_passenger = df.iloc[:passenger_index]\n",
    "np.max((before_passenger[before_passenger.Deck == deck].Number))"
   ]
  },
  {
   "cell_type": "markdown",
   "metadata": {},
   "source": [
    "Finding groups that have more than 1 member that all share the same cabin and that dont have other nans in group"
   ]
  },
  {
   "cell_type": "code",
   "execution_count": 740,
   "metadata": {},
   "outputs": [
    {
     "name": "stderr",
     "output_type": "stream",
     "text": [
      "/var/folders/nk/n25bjxk97j7213hk3kmrl6bm0000gp/T/ipykernel_59632/1166619980.py:8: DeprecationWarning: DataFrameGroupBy.apply operated on the grouping columns. This behavior is deprecated, and in a future version of pandas the grouping columns will be excluded from the operation. Either pass `include_groups=False` to exclude the groupings or explicitly select the grouping columns after groupby to silence this warning.\n",
      "  result_indices = df.groupby('Group').apply(filter_group)\n"
     ]
    }
   ],
   "source": [
    "# Analyze each group\n",
    "def filter_group(group):\n",
    "    # Check if all non-NaN Cabin values in the group are the same and no NaNs except for one\n",
    "    if group['Cabin'].nunique(dropna=True) == 1 and group['Cabin'].isna().sum() == 1:\n",
    "        return group[group['Cabin'].isna()].index  # Return index of NaN Cabin if conditions met\n",
    "\n",
    "# Apply function and collect results\n",
    "result_indices = df.groupby('Group').apply(filter_group)\n",
    "\n",
    "# Drop NaNs from result (groups that did not meet criteria will produce NaN entries)\n",
    "filtered_indices = result_indices.dropna()"
   ]
  },
  {
   "cell_type": "code",
   "execution_count": 744,
   "metadata": {},
   "outputs": [
    {
     "data": {
      "text/plain": [
       "pandas.core.series.Series"
      ]
     },
     "execution_count": 744,
     "metadata": {},
     "output_type": "execute_result"
    }
   ],
   "source": [
    "type(filtered_indices)"
   ]
  },
  {
   "cell_type": "code",
   "execution_count": 741,
   "metadata": {},
   "outputs": [
    {
     "ename": "TypeError",
     "evalue": "'NoneType' object is not iterable",
     "output_type": "error",
     "traceback": [
      "\u001b[0;31m---------------------------------------------------------------------------\u001b[0m",
      "\u001b[0;31mTypeError\u001b[0m                                 Traceback (most recent call last)",
      "Cell \u001b[0;32mIn[741], line 1\u001b[0m\n\u001b[0;32m----> 1\u001b[0m filtered_indices \u001b[38;5;241m=\u001b[39m [idx \u001b[38;5;28;01mfor\u001b[39;00m sublist \u001b[38;5;129;01min\u001b[39;00m result_indices \u001b[38;5;28;01mfor\u001b[39;00m idx \u001b[38;5;129;01min\u001b[39;00m sublist]\n",
      "Cell \u001b[0;32mIn[741], line 1\u001b[0m, in \u001b[0;36m<listcomp>\u001b[0;34m(.0)\u001b[0m\n\u001b[0;32m----> 1\u001b[0m filtered_indices \u001b[38;5;241m=\u001b[39m [idx \u001b[38;5;28;01mfor\u001b[39;00m sublist \u001b[38;5;129;01min\u001b[39;00m result_indices \u001b[38;5;28;01mfor\u001b[39;00m idx \u001b[38;5;129;01min\u001b[39;00m sublist]\n",
      "\u001b[0;31mTypeError\u001b[0m: 'NoneType' object is not iterable"
     ]
    }
   ],
   "source": [
    "filtered_indices = [idx for sublist in result_indices for idx in sublist]\n"
   ]
  },
  {
   "cell_type": "code",
   "execution_count": 720,
   "metadata": {},
   "outputs": [
    {
     "ename": "TypeError",
     "evalue": "unhashable type: 'Index'",
     "output_type": "error",
     "traceback": [
      "\u001b[0;31m---------------------------------------------------------------------------\u001b[0m",
      "\u001b[0;31mTypeError\u001b[0m                                 Traceback (most recent call last)",
      "Cell \u001b[0;32mIn[720], line 1\u001b[0m\n\u001b[0;32m----> 1\u001b[0m \u001b[38;5;28;01mfor\u001b[39;00m index, passenger \u001b[38;5;129;01min\u001b[39;00m \u001b[43mdf\u001b[49m\u001b[38;5;241;43m.\u001b[39;49m\u001b[43mloc\u001b[49m\u001b[43m[\u001b[49m\u001b[43mfiltered_indices\u001b[49m\u001b[43m]\u001b[49m\u001b[38;5;241m.\u001b[39miterrows():\n\u001b[1;32m      2\u001b[0m     \u001b[38;5;28mprint\u001b[39m()\n\u001b[1;32m      3\u001b[0m     \u001b[38;5;28mprint\u001b[39m(passenger)\n",
      "File \u001b[0;32m~/Documents/coding/cabin_spacetitanic/spaceenv/lib/python3.9/site-packages/pandas/core/indexing.py:1191\u001b[0m, in \u001b[0;36m_LocationIndexer.__getitem__\u001b[0;34m(self, key)\u001b[0m\n\u001b[1;32m   1189\u001b[0m maybe_callable \u001b[38;5;241m=\u001b[39m com\u001b[38;5;241m.\u001b[39mapply_if_callable(key, \u001b[38;5;28mself\u001b[39m\u001b[38;5;241m.\u001b[39mobj)\n\u001b[1;32m   1190\u001b[0m maybe_callable \u001b[38;5;241m=\u001b[39m \u001b[38;5;28mself\u001b[39m\u001b[38;5;241m.\u001b[39m_check_deprecated_callable_usage(key, maybe_callable)\n\u001b[0;32m-> 1191\u001b[0m \u001b[38;5;28;01mreturn\u001b[39;00m \u001b[38;5;28;43mself\u001b[39;49m\u001b[38;5;241;43m.\u001b[39;49m\u001b[43m_getitem_axis\u001b[49m\u001b[43m(\u001b[49m\u001b[43mmaybe_callable\u001b[49m\u001b[43m,\u001b[49m\u001b[43m \u001b[49m\u001b[43maxis\u001b[49m\u001b[38;5;241;43m=\u001b[39;49m\u001b[43maxis\u001b[49m\u001b[43m)\u001b[49m\n",
      "File \u001b[0;32m~/Documents/coding/cabin_spacetitanic/spaceenv/lib/python3.9/site-packages/pandas/core/indexing.py:1420\u001b[0m, in \u001b[0;36m_LocIndexer._getitem_axis\u001b[0;34m(self, key, axis)\u001b[0m\n\u001b[1;32m   1417\u001b[0m     \u001b[38;5;28;01mif\u001b[39;00m \u001b[38;5;28mhasattr\u001b[39m(key, \u001b[38;5;124m\"\u001b[39m\u001b[38;5;124mndim\u001b[39m\u001b[38;5;124m\"\u001b[39m) \u001b[38;5;129;01mand\u001b[39;00m key\u001b[38;5;241m.\u001b[39mndim \u001b[38;5;241m>\u001b[39m \u001b[38;5;241m1\u001b[39m:\n\u001b[1;32m   1418\u001b[0m         \u001b[38;5;28;01mraise\u001b[39;00m \u001b[38;5;167;01mValueError\u001b[39;00m(\u001b[38;5;124m\"\u001b[39m\u001b[38;5;124mCannot index with multidimensional key\u001b[39m\u001b[38;5;124m\"\u001b[39m)\n\u001b[0;32m-> 1420\u001b[0m     \u001b[38;5;28;01mreturn\u001b[39;00m \u001b[38;5;28;43mself\u001b[39;49m\u001b[38;5;241;43m.\u001b[39;49m\u001b[43m_getitem_iterable\u001b[49m\u001b[43m(\u001b[49m\u001b[43mkey\u001b[49m\u001b[43m,\u001b[49m\u001b[43m \u001b[49m\u001b[43maxis\u001b[49m\u001b[38;5;241;43m=\u001b[39;49m\u001b[43maxis\u001b[49m\u001b[43m)\u001b[49m\n\u001b[1;32m   1422\u001b[0m \u001b[38;5;66;03m# nested tuple slicing\u001b[39;00m\n\u001b[1;32m   1423\u001b[0m \u001b[38;5;28;01mif\u001b[39;00m is_nested_tuple(key, labels):\n",
      "File \u001b[0;32m~/Documents/coding/cabin_spacetitanic/spaceenv/lib/python3.9/site-packages/pandas/core/indexing.py:1360\u001b[0m, in \u001b[0;36m_LocIndexer._getitem_iterable\u001b[0;34m(self, key, axis)\u001b[0m\n\u001b[1;32m   1357\u001b[0m \u001b[38;5;28mself\u001b[39m\u001b[38;5;241m.\u001b[39m_validate_key(key, axis)\n\u001b[1;32m   1359\u001b[0m \u001b[38;5;66;03m# A collection of keys\u001b[39;00m\n\u001b[0;32m-> 1360\u001b[0m keyarr, indexer \u001b[38;5;241m=\u001b[39m \u001b[38;5;28;43mself\u001b[39;49m\u001b[38;5;241;43m.\u001b[39;49m\u001b[43m_get_listlike_indexer\u001b[49m\u001b[43m(\u001b[49m\u001b[43mkey\u001b[49m\u001b[43m,\u001b[49m\u001b[43m \u001b[49m\u001b[43maxis\u001b[49m\u001b[43m)\u001b[49m\n\u001b[1;32m   1361\u001b[0m \u001b[38;5;28;01mreturn\u001b[39;00m \u001b[38;5;28mself\u001b[39m\u001b[38;5;241m.\u001b[39mobj\u001b[38;5;241m.\u001b[39m_reindex_with_indexers(\n\u001b[1;32m   1362\u001b[0m     {axis: [keyarr, indexer]}, copy\u001b[38;5;241m=\u001b[39m\u001b[38;5;28;01mTrue\u001b[39;00m, allow_dups\u001b[38;5;241m=\u001b[39m\u001b[38;5;28;01mTrue\u001b[39;00m\n\u001b[1;32m   1363\u001b[0m )\n",
      "File \u001b[0;32m~/Documents/coding/cabin_spacetitanic/spaceenv/lib/python3.9/site-packages/pandas/core/indexing.py:1558\u001b[0m, in \u001b[0;36m_LocIndexer._get_listlike_indexer\u001b[0;34m(self, key, axis)\u001b[0m\n\u001b[1;32m   1555\u001b[0m ax \u001b[38;5;241m=\u001b[39m \u001b[38;5;28mself\u001b[39m\u001b[38;5;241m.\u001b[39mobj\u001b[38;5;241m.\u001b[39m_get_axis(axis)\n\u001b[1;32m   1556\u001b[0m axis_name \u001b[38;5;241m=\u001b[39m \u001b[38;5;28mself\u001b[39m\u001b[38;5;241m.\u001b[39mobj\u001b[38;5;241m.\u001b[39m_get_axis_name(axis)\n\u001b[0;32m-> 1558\u001b[0m keyarr, indexer \u001b[38;5;241m=\u001b[39m \u001b[43max\u001b[49m\u001b[38;5;241;43m.\u001b[39;49m\u001b[43m_get_indexer_strict\u001b[49m\u001b[43m(\u001b[49m\u001b[43mkey\u001b[49m\u001b[43m,\u001b[49m\u001b[43m \u001b[49m\u001b[43maxis_name\u001b[49m\u001b[43m)\u001b[49m\n\u001b[1;32m   1560\u001b[0m \u001b[38;5;28;01mreturn\u001b[39;00m keyarr, indexer\n",
      "File \u001b[0;32m~/Documents/coding/cabin_spacetitanic/spaceenv/lib/python3.9/site-packages/pandas/core/indexes/base.py:6195\u001b[0m, in \u001b[0;36mIndex._get_indexer_strict\u001b[0;34m(self, key, axis_name)\u001b[0m\n\u001b[1;32m   6192\u001b[0m     keyarr \u001b[38;5;241m=\u001b[39m com\u001b[38;5;241m.\u001b[39masarray_tuplesafe(keyarr)\n\u001b[1;32m   6194\u001b[0m \u001b[38;5;28;01mif\u001b[39;00m \u001b[38;5;28mself\u001b[39m\u001b[38;5;241m.\u001b[39m_index_as_unique:\n\u001b[0;32m-> 6195\u001b[0m     indexer \u001b[38;5;241m=\u001b[39m \u001b[38;5;28;43mself\u001b[39;49m\u001b[38;5;241;43m.\u001b[39;49m\u001b[43mget_indexer_for\u001b[49m\u001b[43m(\u001b[49m\u001b[43mkeyarr\u001b[49m\u001b[43m)\u001b[49m\n\u001b[1;32m   6196\u001b[0m     keyarr \u001b[38;5;241m=\u001b[39m \u001b[38;5;28mself\u001b[39m\u001b[38;5;241m.\u001b[39mreindex(keyarr)[\u001b[38;5;241m0\u001b[39m]\n\u001b[1;32m   6197\u001b[0m \u001b[38;5;28;01melse\u001b[39;00m:\n",
      "File \u001b[0;32m~/Documents/coding/cabin_spacetitanic/spaceenv/lib/python3.9/site-packages/pandas/core/indexes/base.py:6182\u001b[0m, in \u001b[0;36mIndex.get_indexer_for\u001b[0;34m(self, target)\u001b[0m\n\u001b[1;32m   6164\u001b[0m \u001b[38;5;250m\u001b[39m\u001b[38;5;124;03m\"\"\"\u001b[39;00m\n\u001b[1;32m   6165\u001b[0m \u001b[38;5;124;03mGuaranteed return of an indexer even when non-unique.\u001b[39;00m\n\u001b[1;32m   6166\u001b[0m \n\u001b[0;32m   (...)\u001b[0m\n\u001b[1;32m   6179\u001b[0m \u001b[38;5;124;03marray([0, 2])\u001b[39;00m\n\u001b[1;32m   6180\u001b[0m \u001b[38;5;124;03m\"\"\"\u001b[39;00m\n\u001b[1;32m   6181\u001b[0m \u001b[38;5;28;01mif\u001b[39;00m \u001b[38;5;28mself\u001b[39m\u001b[38;5;241m.\u001b[39m_index_as_unique:\n\u001b[0;32m-> 6182\u001b[0m     \u001b[38;5;28;01mreturn\u001b[39;00m \u001b[38;5;28;43mself\u001b[39;49m\u001b[38;5;241;43m.\u001b[39;49m\u001b[43mget_indexer\u001b[49m\u001b[43m(\u001b[49m\u001b[43mtarget\u001b[49m\u001b[43m)\u001b[49m\n\u001b[1;32m   6183\u001b[0m indexer, _ \u001b[38;5;241m=\u001b[39m \u001b[38;5;28mself\u001b[39m\u001b[38;5;241m.\u001b[39mget_indexer_non_unique(target)\n\u001b[1;32m   6184\u001b[0m \u001b[38;5;28;01mreturn\u001b[39;00m indexer\n",
      "File \u001b[0;32m~/Documents/coding/cabin_spacetitanic/spaceenv/lib/python3.9/site-packages/pandas/core/indexes/base.py:3949\u001b[0m, in \u001b[0;36mIndex.get_indexer\u001b[0;34m(self, target, method, limit, tolerance)\u001b[0m\n\u001b[1;32m   3947\u001b[0m     this \u001b[38;5;241m=\u001b[39m \u001b[38;5;28mself\u001b[39m\u001b[38;5;241m.\u001b[39mastype(dtype, copy\u001b[38;5;241m=\u001b[39m\u001b[38;5;28;01mFalse\u001b[39;00m)\n\u001b[1;32m   3948\u001b[0m     target \u001b[38;5;241m=\u001b[39m target\u001b[38;5;241m.\u001b[39mastype(dtype, copy\u001b[38;5;241m=\u001b[39m\u001b[38;5;28;01mFalse\u001b[39;00m)\n\u001b[0;32m-> 3949\u001b[0m     \u001b[38;5;28;01mreturn\u001b[39;00m \u001b[43mthis\u001b[49m\u001b[38;5;241;43m.\u001b[39;49m\u001b[43m_get_indexer\u001b[49m\u001b[43m(\u001b[49m\n\u001b[1;32m   3950\u001b[0m \u001b[43m        \u001b[49m\u001b[43mtarget\u001b[49m\u001b[43m,\u001b[49m\u001b[43m \u001b[49m\u001b[43mmethod\u001b[49m\u001b[38;5;241;43m=\u001b[39;49m\u001b[43mmethod\u001b[49m\u001b[43m,\u001b[49m\u001b[43m \u001b[49m\u001b[43mlimit\u001b[49m\u001b[38;5;241;43m=\u001b[39;49m\u001b[43mlimit\u001b[49m\u001b[43m,\u001b[49m\u001b[43m \u001b[49m\u001b[43mtolerance\u001b[49m\u001b[38;5;241;43m=\u001b[39;49m\u001b[43mtolerance\u001b[49m\n\u001b[1;32m   3951\u001b[0m \u001b[43m    \u001b[49m\u001b[43m)\u001b[49m\n\u001b[1;32m   3953\u001b[0m \u001b[38;5;28;01mreturn\u001b[39;00m \u001b[38;5;28mself\u001b[39m\u001b[38;5;241m.\u001b[39m_get_indexer(target, method, limit, tolerance)\n",
      "File \u001b[0;32m~/Documents/coding/cabin_spacetitanic/spaceenv/lib/python3.9/site-packages/pandas/core/indexes/base.py:3980\u001b[0m, in \u001b[0;36mIndex._get_indexer\u001b[0;34m(self, target, method, limit, tolerance)\u001b[0m\n\u001b[1;32m   3977\u001b[0m     \u001b[38;5;28;01melse\u001b[39;00m:\n\u001b[1;32m   3978\u001b[0m         tgt_values \u001b[38;5;241m=\u001b[39m target\u001b[38;5;241m.\u001b[39m_get_engine_target()\n\u001b[0;32m-> 3980\u001b[0m     indexer \u001b[38;5;241m=\u001b[39m \u001b[38;5;28;43mself\u001b[39;49m\u001b[38;5;241;43m.\u001b[39;49m\u001b[43m_engine\u001b[49m\u001b[38;5;241;43m.\u001b[39;49m\u001b[43mget_indexer\u001b[49m\u001b[43m(\u001b[49m\u001b[43mtgt_values\u001b[49m\u001b[43m)\u001b[49m\n\u001b[1;32m   3982\u001b[0m \u001b[38;5;28;01mreturn\u001b[39;00m ensure_platform_int(indexer)\n",
      "File \u001b[0;32mindex.pyx:351\u001b[0m, in \u001b[0;36mpandas._libs.index.IndexEngine.get_indexer\u001b[0;34m()\u001b[0m\n",
      "File \u001b[0;32mpandas/_libs/hashtable_class_helper.pxi:7132\u001b[0m, in \u001b[0;36mpandas._libs.hashtable.PyObjectHashTable.lookup\u001b[0;34m()\u001b[0m\n",
      "\u001b[0;31mTypeError\u001b[0m: unhashable type: 'Index'"
     ]
    }
   ],
   "source": [
    "for index, passenger in df.loc[filtered_indices].iterrows():\n",
    "    print()\n",
    "    print(passenger)\n",
    "    if passenger.HomePlanet.isna():\n",
    "        pass\n",
    "    else:\n",
    "        potentials = []\n",
    "        for deck in decks_by_planet[passenger.HomePlanet]:\n",
    "            for side in cabin_sides:\n",
    "                first_member_of_group_index = df[df.Group == passenger.Group].index[0]                \n",
    "                last_member_of_group_index = df[df.Group == passenger.Group].index[-1]\n",
    "                \n",
    "                before_passenger = df.iloc[:first_member_of_group_index]\n",
    "                top_room_number_before = np.max(before_passenger[(before_passenger.Deck == deck) & (before_passenger.Side == side)].Number)\n",
    "                after_passenger = df.iloc[last_member_of_group_index + 1:]\n",
    "                smallest_room_number_after = np.min(after_passenger[(after_passenger.Deck == deck) & (after_passenger.Side == side)].Number)\n",
    "                \n",
    "                if top_room_number_before + 1 != smallest_room_number_after:\n",
    "                    potentials.append([deck,side,top_room_number_before,smallest_room_number_after])\n",
    "        print(potentials)\n",
    "                    \n",
    "        \n",
    "                    \n",
    "                \n",
    "\n",
    "        \n",
    "        \n",
    "    \n"
   ]
  },
  {
   "cell_type": "code",
   "execution_count": 684,
   "metadata": {},
   "outputs": [
    {
     "data": {
      "text/html": [
       "<div>\n",
       "<style scoped>\n",
       "    .dataframe tbody tr th:only-of-type {\n",
       "        vertical-align: middle;\n",
       "    }\n",
       "\n",
       "    .dataframe tbody tr th {\n",
       "        vertical-align: top;\n",
       "    }\n",
       "\n",
       "    .dataframe thead th {\n",
       "        text-align: right;\n",
       "    }\n",
       "</style>\n",
       "<table border=\"1\" class=\"dataframe\">\n",
       "  <thead>\n",
       "    <tr style=\"text-align: right;\">\n",
       "      <th></th>\n",
       "      <th>PassengerId</th>\n",
       "      <th>HomePlanet</th>\n",
       "      <th>Cabin</th>\n",
       "      <th>Destination</th>\n",
       "      <th>Group</th>\n",
       "      <th>GroupNumber</th>\n",
       "      <th>Deck</th>\n",
       "      <th>Number</th>\n",
       "      <th>Side</th>\n",
       "      <th>Set</th>\n",
       "      <th>LastName</th>\n",
       "      <th>GroupSize</th>\n",
       "    </tr>\n",
       "  </thead>\n",
       "  <tbody>\n",
       "    <tr>\n",
       "      <th>62</th>\n",
       "      <td>0046_01</td>\n",
       "      <td>Earth</td>\n",
       "      <td>G/4/P</td>\n",
       "      <td>TRAPPIST-1e</td>\n",
       "      <td>0046</td>\n",
       "      <td>01</td>\n",
       "      <td>G</td>\n",
       "      <td>4</td>\n",
       "      <td>P</td>\n",
       "      <td>Test</td>\n",
       "      <td>Powery</td>\n",
       "      <td>3</td>\n",
       "    </tr>\n",
       "    <tr>\n",
       "      <th>63</th>\n",
       "      <td>0046_02</td>\n",
       "      <td>Earth</td>\n",
       "      <td>F/11/P</td>\n",
       "      <td>TRAPPIST-1e</td>\n",
       "      <td>0046</td>\n",
       "      <td>02</td>\n",
       "      <td>F</td>\n",
       "      <td>11</td>\n",
       "      <td>P</td>\n",
       "      <td>Test</td>\n",
       "      <td>Powery</td>\n",
       "      <td>3</td>\n",
       "    </tr>\n",
       "    <tr>\n",
       "      <th>64</th>\n",
       "      <td>0046_03</td>\n",
       "      <td>Earth</td>\n",
       "      <td>F/11/P</td>\n",
       "      <td>TRAPPIST-1e</td>\n",
       "      <td>0046</td>\n",
       "      <td>03</td>\n",
       "      <td>F</td>\n",
       "      <td>11</td>\n",
       "      <td>P</td>\n",
       "      <td>Test</td>\n",
       "      <td>Powery</td>\n",
       "      <td>3</td>\n",
       "    </tr>\n",
       "    <tr>\n",
       "      <th>65</th>\n",
       "      <td>0047_01</td>\n",
       "      <td>Europa</td>\n",
       "      <td>B/0/S</td>\n",
       "      <td>TRAPPIST-1e</td>\n",
       "      <td>0047</td>\n",
       "      <td>01</td>\n",
       "      <td>B</td>\n",
       "      <td>0</td>\n",
       "      <td>S</td>\n",
       "      <td>Test</td>\n",
       "      <td>Prucerod</td>\n",
       "      <td>3</td>\n",
       "    </tr>\n",
       "    <tr>\n",
       "      <th>66</th>\n",
       "      <td>0047_02</td>\n",
       "      <td>Europa</td>\n",
       "      <td>NaN</td>\n",
       "      <td>TRAPPIST-1e</td>\n",
       "      <td>0047</td>\n",
       "      <td>02</td>\n",
       "      <td>NaN</td>\n",
       "      <td>NaN</td>\n",
       "      <td>NaN</td>\n",
       "      <td>Test</td>\n",
       "      <td>Prucerod</td>\n",
       "      <td>3</td>\n",
       "    </tr>\n",
       "    <tr>\n",
       "      <th>67</th>\n",
       "      <td>0047_03</td>\n",
       "      <td>Europa</td>\n",
       "      <td>B/0/S</td>\n",
       "      <td>TRAPPIST-1e</td>\n",
       "      <td>0047</td>\n",
       "      <td>03</td>\n",
       "      <td>B</td>\n",
       "      <td>0</td>\n",
       "      <td>S</td>\n",
       "      <td>Test</td>\n",
       "      <td>NaN</td>\n",
       "      <td>3</td>\n",
       "    </tr>\n",
       "    <tr>\n",
       "      <th>68</th>\n",
       "      <td>0048_01</td>\n",
       "      <td>Earth</td>\n",
       "      <td>G/5/S</td>\n",
       "      <td>TRAPPIST-1e</td>\n",
       "      <td>0048</td>\n",
       "      <td>01</td>\n",
       "      <td>G</td>\n",
       "      <td>5</td>\n",
       "      <td>S</td>\n",
       "      <td>Test</td>\n",
       "      <td>Deckerry</td>\n",
       "      <td>1</td>\n",
       "    </tr>\n",
       "    <tr>\n",
       "      <th>69</th>\n",
       "      <td>0049_01</td>\n",
       "      <td>Earth</td>\n",
       "      <td>E/1/P</td>\n",
       "      <td>TRAPPIST-1e</td>\n",
       "      <td>0049</td>\n",
       "      <td>01</td>\n",
       "      <td>E</td>\n",
       "      <td>1</td>\n",
       "      <td>P</td>\n",
       "      <td>Test</td>\n",
       "      <td>Flynney</td>\n",
       "      <td>1</td>\n",
       "    </tr>\n",
       "    <tr>\n",
       "      <th>70</th>\n",
       "      <td>0050_01</td>\n",
       "      <td>Earth</td>\n",
       "      <td>E/1/S</td>\n",
       "      <td>55 Cancri e</td>\n",
       "      <td>0050</td>\n",
       "      <td>01</td>\n",
       "      <td>E</td>\n",
       "      <td>1</td>\n",
       "      <td>S</td>\n",
       "      <td>Train</td>\n",
       "      <td>Lancis</td>\n",
       "      <td>1</td>\n",
       "    </tr>\n",
       "    <tr>\n",
       "      <th>71</th>\n",
       "      <td>0051_01</td>\n",
       "      <td>Earth</td>\n",
       "      <td>E/2/S</td>\n",
       "      <td>TRAPPIST-1e</td>\n",
       "      <td>0051</td>\n",
       "      <td>01</td>\n",
       "      <td>E</td>\n",
       "      <td>2</td>\n",
       "      <td>S</td>\n",
       "      <td>Train</td>\n",
       "      <td>Johnshines</td>\n",
       "      <td>1</td>\n",
       "    </tr>\n",
       "  </tbody>\n",
       "</table>\n",
       "</div>"
      ],
      "text/plain": [
       "   PassengerId HomePlanet   Cabin  Destination Group GroupNumber Deck Number  \\\n",
       "62     0046_01      Earth   G/4/P  TRAPPIST-1e  0046          01    G      4   \n",
       "63     0046_02      Earth  F/11/P  TRAPPIST-1e  0046          02    F     11   \n",
       "64     0046_03      Earth  F/11/P  TRAPPIST-1e  0046          03    F     11   \n",
       "65     0047_01     Europa   B/0/S  TRAPPIST-1e  0047          01    B      0   \n",
       "66     0047_02     Europa     NaN  TRAPPIST-1e  0047          02  NaN    NaN   \n",
       "67     0047_03     Europa   B/0/S  TRAPPIST-1e  0047          03    B      0   \n",
       "68     0048_01      Earth   G/5/S  TRAPPIST-1e  0048          01    G      5   \n",
       "69     0049_01      Earth   E/1/P  TRAPPIST-1e  0049          01    E      1   \n",
       "70     0050_01      Earth   E/1/S  55 Cancri e  0050          01    E      1   \n",
       "71     0051_01      Earth   E/2/S  TRAPPIST-1e  0051          01    E      2   \n",
       "\n",
       "   Side    Set    LastName  GroupSize  \n",
       "62    P   Test      Powery          3  \n",
       "63    P   Test      Powery          3  \n",
       "64    P   Test      Powery          3  \n",
       "65    S   Test    Prucerod          3  \n",
       "66  NaN   Test    Prucerod          3  \n",
       "67    S   Test         NaN          3  \n",
       "68    S   Test    Deckerry          1  \n",
       "69    P   Test     Flynney          1  \n",
       "70    S  Train      Lancis          1  \n",
       "71    S  Train  Johnshines          1  "
      ]
     },
     "execution_count": 684,
     "metadata": {},
     "output_type": "execute_result"
    }
   ],
   "source": [
    "df.iloc[62:72]"
   ]
  },
  {
   "cell_type": "code",
   "execution_count": 689,
   "metadata": {},
   "outputs": [
    {
     "data": {
      "text/plain": [
       "67"
      ]
     },
     "execution_count": 689,
     "metadata": {},
     "output_type": "execute_result"
    }
   ],
   "source": [
    "df[df.Group == '0047'].index[-1]"
   ]
  },
  {
   "cell_type": "markdown",
   "metadata": {},
   "source": [
    "## what can be deduced with these cabins now filled ?"
   ]
  },
  {
   "cell_type": "markdown",
   "metadata": {},
   "source": []
  }
 ],
 "metadata": {
  "kernelspec": {
   "display_name": "spaceenv",
   "language": "python",
   "name": "python3"
  },
  "language_info": {
   "codemirror_mode": {
    "name": "ipython",
    "version": 3
   },
   "file_extension": ".py",
   "mimetype": "text/x-python",
   "name": "python",
   "nbconvert_exporter": "python",
   "pygments_lexer": "ipython3",
   "version": "3.9.6"
  }
 },
 "nbformat": 4,
 "nbformat_minor": 2
}
