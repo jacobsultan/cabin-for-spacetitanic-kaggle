{
 "cells": [
  {
   "cell_type": "code",
   "execution_count": 229,
   "metadata": {},
   "outputs": [],
   "source": [
    "import pandas as pd\n",
    "import numpy as np\n",
    "\n",
    "df = pd.read_csv('pre_processed.csv')\n",
    "df.Number = df.Number.astype('Int64')\n",
    "\n"
   ]
  },
  {
   "cell_type": "code",
   "execution_count": 230,
   "metadata": {},
   "outputs": [],
   "source": [
    "orig = pd.read_csv('pre_processed.csv')\n"
   ]
  },
  {
   "cell_type": "code",
   "execution_count": 231,
   "metadata": {},
   "outputs": [],
   "source": [
    "\n",
    "def fill_deck_and_side_from_cabin(df):\n",
    "    # Define a mask to identify rows where 'Number' is NaN and 'Cabin' is not NaN\n",
    "    mask = df['Number'].isna() & df['Cabin'].notna()\n",
    "    \n",
    "    # Use the mask to update only the filtered rows, converting types appropriately\n",
    "    df.loc[mask, ['Deck', 'Number', 'Side']] = df.loc[mask, 'Cabin'].apply(\n",
    "        lambda x: pd.Series({\n",
    "            'Deck': x.split('/')[0],\n",
    "            'Number': int(x.split('/')[1]),  # Explicit conversion to integer here\n",
    "            'Side': x.split('/')[2]\n",
    "        })\n",
    "    )\n",
    "\n",
    "    return df"
   ]
  },
  {
   "cell_type": "code",
   "execution_count": 232,
   "metadata": {},
   "outputs": [],
   "source": [
    "decks_by_planet = {\n",
    "    'Earth':['E','F','G'],\n",
    "    'Europa': ['A','B','C','D','E','T'],\n",
    "    'Mars': ['D','E','F']\n",
    "}\n",
    "\n",
    "decks_by_planet_no_bills = {\n",
    "    'Earth':['G'],\n",
    "    'Europa':['B'],\n",
    "    'Mars': ['E','F']\n",
    "}\n",
    "\n",
    "planet_by_deck = {\n",
    "    'A':['Europa'],'B':['Europa'],'C':['Europa'],'D':['Europa','Mars'],'E':['Europa','Mars','Earth'],\n",
    "    'F':['Earth','Mars'],'G':['Earth'],'T':['Europa']\n",
    "}\n",
    "\n",
    "homeplanets = ['Earth', 'Europa', 'Mars']\n",
    "\n",
    "all_cabin_sides = ['P','S']\n",
    "\n",
    "all_cabin_decks = list(df.dropna(subset = ['Deck']).Deck.unique())\n"
   ]
  },
  {
   "cell_type": "code",
   "execution_count": 233,
   "metadata": {},
   "outputs": [],
   "source": [
    "def multiple_decks_in_group(df,row):\n",
    "    return len(df[df.Group == row.Group].dropna(subset ='Deck').Deck.unique()) > 1\n",
    "        "
   ]
  },
  {
   "cell_type": "code",
   "execution_count": 234,
   "metadata": {},
   "outputs": [],
   "source": [
    "def fill_potential_decks(df):\n",
    "    \n",
    "    def func_potential_decks(row):\n",
    "        if pd.isna(row.Cabin):\n",
    "            if row.Bills == 0 and not pd.isna(row.HomePlanet):\n",
    "                if len(df[df.Group == row.Group].dropna(subset = 'Deck').Deck.unique()) > 1:\n",
    "                    return decks_by_planet_no_bills[row.HomePlanet]\n",
    "                \n",
    "            if not pd.isna(row.HomePlanet):\n",
    "                return decks_by_planet[row.HomePlanet]\n",
    "            \n",
    "            else:\n",
    "                return all_cabin_decks\n",
    "            \n",
    "    df['potential_decks'] = df.apply(func_potential_decks, axis = 1)\n",
    "    return df"
   ]
  },
  {
   "cell_type": "code",
   "execution_count": 235,
   "metadata": {},
   "outputs": [],
   "source": [
    "def fill_potential_sides(df):\n",
    "    \n",
    "    def func_potential_sides(row):\n",
    "        if pd.isna(row.Cabin):\n",
    "            if row.GroupSize > 1:\n",
    "                group = df[df.Group == row.Group].dropna(subset = 'Side')\n",
    "                if len(group) > 0:\n",
    "                    return [group.iloc[0].Side]\n",
    "            return ['P','S']\n",
    "        \n",
    "    df['potential_sides'] = df.apply(func_potential_sides,axis = 1)\n",
    "    return df"
   ]
  },
  {
   "cell_type": "code",
   "execution_count": 283,
   "metadata": {},
   "outputs": [],
   "source": [
    "df = fill_potential_decks(df)\n",
    "df = fill_potential_sides(df)"
   ]
  },
  {
   "cell_type": "markdown",
   "metadata": {},
   "source": [
    "# Filling missed Cabins\n"
   ]
  },
  {
   "cell_type": "markdown",
   "metadata": {},
   "source": [
    "#### fill people that must be sharing a room with people in the same group\n",
    "ie, from their chome planet we know the decks they could be in, if the side and number below and above are one above and one below then they must be sharing with someone from their group. make sure that their group has only one cabin"
   ]
  },
  {
   "cell_type": "markdown",
   "metadata": {},
   "source": [
    "need to make sure is only one person  with cabin being na in the group otherwise one na might be in another cabin "
   ]
  },
  {
   "cell_type": "markdown",
   "metadata": {},
   "source": [
    "Finding groups that have more than 1 member that all share the same cabin and that dont have other nans in group\n",
    "* make sure that there aren't other nans in group or else it might change results if there arent potentially other cabins it could go to if the other wasnt nan *"
   ]
  },
  {
   "cell_type": "markdown",
   "metadata": {},
   "source": [
    "## empty room with only one comptabile\n"
   ]
  },
  {
   "cell_type": "code",
   "execution_count": 284,
   "metadata": {},
   "outputs": [],
   "source": [
    "\n",
    "                    \n",
    "def rooms_to_fill(df):\n",
    "    rooms = {}\n",
    "    for deck in all_cabin_decks:\n",
    "        rooms[deck] = {'P': [], 'S': []} \n",
    "        for side in all_cabin_sides:\n",
    "            rooms_seen = df[(df.Deck == deck) & (df.Side == side) & (df.Number.notna())].Number.astype(int).tolist()\n",
    "            largest_room_number = max(rooms_seen, default=-1) \n",
    "\n",
    "            for i in range(largest_room_number + 1):\n",
    "                if i not in rooms_seen:\n",
    "                    rooms[deck][side].append(f\"{deck}/{i}/{side}\")\n",
    "\n",
    "    return rooms\n",
    "           "
   ]
  },
  {
   "cell_type": "code",
   "execution_count": 285,
   "metadata": {},
   "outputs": [],
   "source": [
    "\n",
    " \n",
    "def row_is_compatible_with_cabin(index, row, deck, side, room_number_to_fill):\n",
    "        if deck not in row.potential_decks or side not in row.potential_sides:\n",
    "            return False\n",
    "        \n",
    "        before = df.loc[(df.index < index) & (df.Deck == deck) & (df.Side == side), 'Number'].dropna().unique()\n",
    "        after = df.loc[(df.index > index) & (df.Deck == deck) & (df.Side == side), 'Number'].dropna().unique()\n",
    "        \n",
    "        if len(before) > 0 and len(after) > 0:\n",
    "            return max(before) < room_number_to_fill < min(after)\n",
    "        return False\n",
    "    \n",
    "                        \n",
    "def empty_room_one_compatible(df):\n",
    "    \n",
    "    empty_cabins = rooms_to_fill(df)\n",
    "\n",
    "    for deck, sides in empty_cabins.items():\n",
    "        for side, cabins in sides.items():\n",
    "            for cabin in cabins:\n",
    "                room_number_to_fill = int(cabin.split('/')[1])\n",
    "                compatible_indices = [\n",
    "                    index for index, row in df[df.Cabin.isna()].iterrows()\n",
    "                    if row_is_compatible_with_cabin(index, row, deck, side, room_number_to_fill)\n",
    "                ]\n",
    "\n",
    "                if len(compatible_indices) == 1:\n",
    "                    df.loc[compatible_indices[0], 'Cabin'] = cabin\n",
    "\n",
    "    return fill_deck_and_side_from_cabin(df)\n",
    "                \n",
    "                        "
   ]
  },
  {
   "cell_type": "code",
   "execution_count": 286,
   "metadata": {},
   "outputs": [],
   "source": [
    "df = empty_room_one_compatible(df)\n",
    "\n"
   ]
  },
  {
   "cell_type": "code",
   "execution_count": 287,
   "metadata": {},
   "outputs": [],
   "source": [
    "df_back = df.copy()\n"
   ]
  },
  {
   "cell_type": "code",
   "execution_count": 288,
   "metadata": {},
   "outputs": [],
   "source": [
    "df = df_back.copy()"
   ]
  },
  {
   "cell_type": "code",
   "execution_count": 289,
   "metadata": {},
   "outputs": [
    {
     "data": {
      "text/plain": [
       "PassengerId                  1688_02\n",
       "HomePlanet                     Earth\n",
       "CryoSleep                       True\n",
       "Cabin                        G/262/S\n",
       "Destination              TRAPPIST-1e\n",
       "Age                              7.0\n",
       "VIP                            False\n",
       "RoomService                      NaN\n",
       "FoodCourt                        0.0\n",
       "ShoppingMall                     0.0\n",
       "Spa                              0.0\n",
       "VRDeck                           0.0\n",
       "Name               Claura Webstenson\n",
       "Set                            Train\n",
       "Transported                    False\n",
       "Group                           1688\n",
       "GroupNumber                        2\n",
       "Deck                               G\n",
       "Number                           262\n",
       "Side                               S\n",
       "FirstName                     Claura\n",
       "LastName                  Webstenson\n",
       "GroupSize                          3\n",
       "Bills                            0.0\n",
       "potential_decks                 None\n",
       "potential_sides                 None\n",
       "Name: 2414, dtype: object"
      ]
     },
     "execution_count": 289,
     "metadata": {},
     "output_type": "execute_result"
    }
   ],
   "source": [
    "df.iloc[2414]"
   ]
  },
  {
   "cell_type": "code",
   "execution_count": 290,
   "metadata": {},
   "outputs": [
    {
     "data": {
      "text/plain": [
       "PassengerId            0\n",
       "HomePlanet            13\n",
       "CryoSleep            310\n",
       "Cabin                 41\n",
       "Destination          274\n",
       "Age                  270\n",
       "VIP                  296\n",
       "RoomService          263\n",
       "FoodCourt            289\n",
       "ShoppingMall         306\n",
       "Spa                  284\n",
       "VRDeck               268\n",
       "Name                 294\n",
       "Set                    0\n",
       "Transported         4277\n",
       "Group                  0\n",
       "GroupNumber            0\n",
       "Deck                  41\n",
       "Number                41\n",
       "Side                  41\n",
       "FirstName            294\n",
       "LastName             294\n",
       "GroupSize              0\n",
       "Bills                785\n",
       "potential_decks    12929\n",
       "potential_sides    12929\n",
       "dtype: int64"
      ]
     },
     "execution_count": 290,
     "metadata": {},
     "output_type": "execute_result"
    }
   ],
   "source": [
    "df.isna().sum()"
   ]
  },
  {
   "cell_type": "markdown",
   "metadata": {},
   "source": [
    "## No free rooms left so shares"
   ]
  },
  {
   "cell_type": "code",
   "execution_count": 291,
   "metadata": {},
   "outputs": [],
   "source": [
    "def no_free_rooms_so_shares_3(df):\n",
    "    for index, passenger in df[df.Cabin.isna()].iterrows():\n",
    "        options = []\n",
    "        for deck in passenger.potential_decks:\n",
    "            for side in passenger.potential_sides:\n",
    "                \n",
    "                before_slice = df.iloc[:index]\n",
    "                after_slice = df.iloc[index+1:] \n",
    "                top_room = before_slice[(before_slice.Deck == deck) & (before_slice.Side == side)].Number\n",
    "                if len(top_room) > 0:\n",
    "                    top_room_number_before = max(top_room)\n",
    "                else:\n",
    "                    continue\n",
    "\n",
    "                smallest_room = after_slice[(after_slice.Deck == deck) & (after_slice.Side == side)].Number\n",
    "                \n",
    "                if len(smallest_room) > 0:\n",
    "                    smallest_room_number_after = min(smallest_room)\n",
    "                else:\n",
    "                    continue\n",
    "                if top_room_number_before + 1 < smallest_room_number_after:   \n",
    "                        options.append([deck,side,top_room_number_before,smallest_room_number_after])\n",
    "                        \n",
    "        if len(options) == 0:\n",
    "            if len(df[(df.Group == passenger.Group) & (df.Deck.isin(passenger.potential_decks)) & (df.Side.isin(passenger.potential_sides)) ].dropna(subset = 'Cabin').Cabin.unique()) == 1:\n",
    "                df.loc[index,'Cabin'] = df[(df.Group == passenger.Group) & (df.Deck.isin(passenger.potential_decks))& (df.Side.isin(passenger.potential_sides))].dropna(subset = 'Cabin').Cabin.iloc[0]\n",
    "     \n",
    "\n",
    "    \n",
    "    return fill_deck_and_side_from_cabin(df)\n",
    "    \n"
   ]
  },
  {
   "cell_type": "code",
   "execution_count": 292,
   "metadata": {},
   "outputs": [],
   "source": [
    "df = no_free_rooms_so_shares_3(df)"
   ]
  },
  {
   "cell_type": "code",
   "execution_count": 293,
   "metadata": {},
   "outputs": [
    {
     "data": {
      "text/plain": [
       "PassengerId            0\n",
       "HomePlanet            13\n",
       "CryoSleep            310\n",
       "Cabin                 41\n",
       "Destination          274\n",
       "Age                  270\n",
       "VIP                  296\n",
       "RoomService          263\n",
       "FoodCourt            289\n",
       "ShoppingMall         306\n",
       "Spa                  284\n",
       "VRDeck               268\n",
       "Name                 294\n",
       "Set                    0\n",
       "Transported         4277\n",
       "Group                  0\n",
       "GroupNumber            0\n",
       "Deck                  41\n",
       "Number                41\n",
       "Side                  41\n",
       "FirstName            294\n",
       "LastName             294\n",
       "GroupSize              0\n",
       "Bills                785\n",
       "potential_decks    12929\n",
       "potential_sides    12929\n",
       "dtype: int64"
      ]
     },
     "execution_count": 293,
     "metadata": {},
     "output_type": "execute_result"
    }
   ],
   "source": [
    "df.isna().sum()"
   ]
  },
  {
   "cell_type": "code",
   "execution_count": 294,
   "metadata": {},
   "outputs": [
    {
     "data": {
      "text/plain": [
       "PassengerId             0884_02\n",
       "HomePlanet                Earth\n",
       "CryoSleep                 False\n",
       "Cabin                   F/181/P\n",
       "Destination         TRAPPIST-1e\n",
       "Age                        28.0\n",
       "VIP                       False\n",
       "RoomService                 0.0\n",
       "FoodCourt                   0.0\n",
       "ShoppingMall              762.0\n",
       "Spa                         0.0\n",
       "VRDeck                      0.0\n",
       "Name               Erine Rilley\n",
       "Set                        Test\n",
       "Transported                 NaN\n",
       "Group                       884\n",
       "GroupNumber                   2\n",
       "Deck                          F\n",
       "Number                      181\n",
       "Side                          P\n",
       "FirstName                 Erine\n",
       "LastName                 Rilley\n",
       "GroupSize                     2\n",
       "Bills                     762.0\n",
       "potential_decks            None\n",
       "potential_sides            None\n",
       "Name: 1251, dtype: object"
      ]
     },
     "execution_count": 294,
     "metadata": {},
     "output_type": "execute_result"
    }
   ],
   "source": [
    "df.iloc[1251]"
   ]
  },
  {
   "cell_type": "markdown",
   "metadata": {},
   "source": [
    "# in a group of one and only one option"
   ]
  },
  {
   "cell_type": "code",
   "execution_count": 295,
   "metadata": {},
   "outputs": [],
   "source": [
    "def solo_group_and_one_option(df):\n",
    "    empty_cabins = rooms_to_fill(df) \n",
    "    \n",
    "    for index,passenger in df[(df.GroupSize == 1) & (df.Cabin.isna())].iterrows():\n",
    "        options = []\n",
    "        for deck in empty_cabins.keys():\n",
    "            if deck not in passenger.potential_decks:\n",
    "                continue\n",
    "            \n",
    "            for side in empty_cabins[deck]:\n",
    "                if side not in passenger.potential_sides:\n",
    "                    continue\n",
    "                for cabin in empty_cabins[deck][side]:\n",
    "                    room_number = int(cabin.split(\"/\")[1])\n",
    "                    before_slice = df.iloc[:index]\n",
    "                    after_slice = df.iloc[index+1:] \n",
    "                    top_room = before_slice[(before_slice.Deck == deck) & (before_slice.Side == side)].Number\n",
    "                    if len(top_room) > 0:\n",
    "                        top_room_number_before = max(top_room)\n",
    "                    else:\n",
    "                        continue\n",
    "                    smallest_room = after_slice[(after_slice.Deck == deck) & (after_slice.Side == side)].Number\n",
    "                    \n",
    "                    if len(smallest_room) > 0:\n",
    "                        smallest_room_number_after = min(smallest_room)\n",
    "                    else:\n",
    "                        continue\n",
    "                    if top_room_number_before < room_number:\n",
    "                        if smallest_room_number_after > room_number:\n",
    "                            options.append([deck,side,top_room_number_before,smallest_room_number_after])\n",
    "                    \n",
    "                            \n",
    "                            \n",
    "        if len(options) == 1:\n",
    "            if options[0][2] + 2 == options[0][3]:\n",
    "                df.loc[index,'Cabin'] = options[0][0] + \"/\" + str(int(options[0][2]) + 1) + \"/\" + options[0][1]\n",
    "               \n",
    "    df = fill_deck_and_side_from_cabin(df)\n",
    "    \n",
    "    return df\n",
    "                \n",
    "                    \n",
    "                    "
   ]
  },
  {
   "cell_type": "code",
   "execution_count": 296,
   "metadata": {},
   "outputs": [],
   "source": [
    "df = solo_group_and_one_option(df)"
   ]
  },
  {
   "cell_type": "code",
   "execution_count": 297,
   "metadata": {},
   "outputs": [
    {
     "data": {
      "text/plain": [
       "PassengerId             0884_02\n",
       "HomePlanet                Earth\n",
       "CryoSleep                 False\n",
       "Cabin                   F/181/P\n",
       "Destination         TRAPPIST-1e\n",
       "Age                        28.0\n",
       "VIP                       False\n",
       "RoomService                 0.0\n",
       "FoodCourt                   0.0\n",
       "ShoppingMall              762.0\n",
       "Spa                         0.0\n",
       "VRDeck                      0.0\n",
       "Name               Erine Rilley\n",
       "Set                        Test\n",
       "Transported                 NaN\n",
       "Group                       884\n",
       "GroupNumber                   2\n",
       "Deck                          F\n",
       "Number                      181\n",
       "Side                          P\n",
       "FirstName                 Erine\n",
       "LastName                 Rilley\n",
       "GroupSize                     2\n",
       "Bills                     762.0\n",
       "potential_decks            None\n",
       "potential_sides            None\n",
       "Name: 1251, dtype: object"
      ]
     },
     "execution_count": 297,
     "metadata": {},
     "output_type": "execute_result"
    }
   ],
   "source": [
    "df.iloc[1251]"
   ]
  },
  {
   "cell_type": "code",
   "execution_count": 298,
   "metadata": {},
   "outputs": [
    {
     "data": {
      "text/plain": [
       "PassengerId            0\n",
       "HomePlanet            13\n",
       "CryoSleep            310\n",
       "Cabin                 41\n",
       "Destination          274\n",
       "Age                  270\n",
       "VIP                  296\n",
       "RoomService          263\n",
       "FoodCourt            289\n",
       "ShoppingMall         306\n",
       "Spa                  284\n",
       "VRDeck               268\n",
       "Name                 294\n",
       "Set                    0\n",
       "Transported         4277\n",
       "Group                  0\n",
       "GroupNumber            0\n",
       "Deck                  41\n",
       "Number                41\n",
       "Side                  41\n",
       "FirstName            294\n",
       "LastName             294\n",
       "GroupSize              0\n",
       "Bills                785\n",
       "potential_decks    12929\n",
       "potential_sides    12929\n",
       "dtype: int64"
      ]
     },
     "execution_count": 298,
     "metadata": {},
     "output_type": "execute_result"
    }
   ],
   "source": [
    "df.isna().sum()"
   ]
  },
  {
   "cell_type": "markdown",
   "metadata": {},
   "source": [
    "# fuctions to help"
   ]
  },
  {
   "cell_type": "code",
   "execution_count": 222,
   "metadata": {},
   "outputs": [],
   "source": [
    "\n",
    "\n",
    "df.loc[4233,'Cabin'] = 'B/98/P'\n",
    "df.loc[4254,'Cabin'] = 'B/99/P'\n",
    "df.loc[6493,'Cabin'] = 'E/300/S'\n",
    "df.loc[6514,'Cabin'] = 'E/301/S'\n",
    "df.loc[12892,'Cabin'] = 'F/1785/S' # maybe only one is from this room and the other is joined in the other room\n",
    "df.loc[12893,'Cabin'] = 'F/1785/S'\n",
    "df.loc[9265,'Cabin'] = 'F/1267/S'\n",
    "df.loc[9267,'Cabin'] = 'F/1267/S'\n",
    "df.loc[8413,'Cabin'] = 'A/57/P'\n",
    "df.loc[1429,'Cabin'] = 'E/58/P'\n",
    "\n",
    "df = fill_deck_and_side_from_cabin(df)\n"
   ]
  },
  {
   "cell_type": "code",
   "execution_count": 223,
   "metadata": {},
   "outputs": [],
   "source": [
    "def all_cabin_options_for_each_row(df):\n",
    "    count = 0\n",
    "    for index, passenger in df[df.Cabin.isna()].iterrows():\n",
    "        print(\"\\nindex\", index)\n",
    "        print(\"passenger\",passenger.PassengerId)\n",
    "        print(\"GroupSize\", passenger.GroupSize)\n",
    "        options = []\n",
    "        for deck in passenger.potential_decks:\n",
    "            for side in passenger.potential_sides:\n",
    "                \n",
    "                before_slice = df.iloc[:index]\n",
    "                after_slice = df.iloc[index+1:] \n",
    "                top_room_number_before = np.max(before_slice[(before_slice.Deck == deck) & (before_slice.Side == side)].Number)\n",
    "                smallest_room_number_after = np.min(after_slice[(after_slice.Deck == deck) & (after_slice.Side == side)].Number)\n",
    "                if pd.isna(top_room_number_before) or pd.isna(smallest_room_number_after):\n",
    "                        continue\n",
    "                if top_room_number_before + 1 != smallest_room_number_after:\n",
    "                    \n",
    "                    if top_room_number_before == smallest_room_number_after:\n",
    "                        continue\n",
    "                    else:\n",
    "                        options.append([deck,side,top_room_number_before,smallest_room_number_after])\n",
    "        print(options)\n",
    "        print(passenger.potential_sides)\n",
    "        if len(options) == 0:\n",
    "            count += 1\n",
    "    print(count)\n"
   ]
  },
  {
   "cell_type": "code",
   "execution_count": 224,
   "metadata": {},
   "outputs": [],
   "source": [
    "def all_rows_for_each_cabin_option(df):\n",
    "    empty_cabins = rooms_to_fill(df) \n",
    "    for deck in empty_cabins.keys():\n",
    "        for side in empty_cabins[deck].keys():\n",
    "            for cabin in empty_cabins[deck][side]:\n",
    "                room_number = int(cabin.split(\"/\")[1])\n",
    "                indices_of_compatible_rows = []\n",
    "                temp = df[(df.Cabin.isna())]\n",
    "                for index,row in temp.iterrows():\n",
    "                    if deck not in row.potential_decks:\n",
    "                        continue\n",
    "                    if side not in row.potential_sides:\n",
    "                        continue\n",
    "                            \n",
    "                    before_slice = df.iloc[:index]\n",
    "                    after_slice = df.iloc[index+1:] \n",
    "                    before = list(before_slice[(before_slice.Deck == deck) & (before_slice.Side == side)].Number.unique())\n",
    "                    after = list(after_slice[(after_slice.Deck == deck) & (after_slice.Side == side)].Number.unique())\n",
    "                    if len(before) > 0:\n",
    "                        if max(before) < room_number:\n",
    "                            if len(after) > 0:\n",
    "                                if min(after) > room_number:\n",
    "                                    indices_of_compatible_rows.append(index)\n",
    "                print()\n",
    "                print(\"cabin\", cabin)\n",
    "                print(indices_of_compatible_rows)"
   ]
  },
  {
   "cell_type": "code",
   "execution_count": 299,
   "metadata": {},
   "outputs": [
    {
     "name": "stdout",
     "output_type": "stream",
     "text": [
      "\n",
      "index 404\n",
      "passenger 0293_01\n",
      "GroupSize 1\n",
      "[['B', 'P', 12, 14], ['C', 'S', 12, 14]]\n",
      "['P', 'S']\n",
      "\n",
      "index 421\n",
      "passenger 0310_01\n",
      "GroupSize 1\n",
      "[['B', 'P', 12, 14], ['C', 'S', 12, 14]]\n",
      "['P', 'S']\n",
      "\n",
      "index 479\n",
      "passenger 0348_02\n",
      "GroupSize 2\n",
      "[['E', 'P', 19, 22]]\n",
      "['P']\n",
      "\n",
      "index 505\n",
      "passenger 0364_02\n",
      "GroupSize 2\n",
      "[['E', 'P', 19, 22]]\n",
      "['P']\n",
      "\n",
      "index 517\n",
      "passenger 0374_02\n",
      "GroupSize 2\n",
      "[['E', 'P', 19, 22]]\n",
      "['P']\n",
      "\n",
      "index 1429\n",
      "passenger 1011_01\n",
      "GroupSize 2\n",
      "[['E', 'P', 57, 59]]\n",
      "['P']\n",
      "\n",
      "index 1466\n",
      "passenger 1041_01\n",
      "GroupSize 1\n",
      "[['C', 'S', 39, 41], ['D', 'S', 35, 37], ['E', 'P', 57, 59]]\n",
      "['P', 'S']\n",
      "\n",
      "index 1543\n",
      "passenger 1095_01\n",
      "GroupSize 1\n",
      "[['C', 'S', 39, 41], ['D', 'S', 35, 37]]\n",
      "['P', 'S']\n",
      "\n",
      "index 2442\n",
      "passenger 1709_03\n",
      "GroupSize 7\n",
      "[]\n",
      "['S']\n",
      "\n",
      "index 2970\n",
      "passenger 2092_03\n",
      "GroupSize 5\n",
      "[]\n",
      "['S']\n",
      "\n",
      "index 3529\n",
      "passenger 2513_01\n",
      "GroupSize 1\n",
      "[['E', 'P', 149, 151], ['F', 'P', 518, 520]]\n",
      "['P', 'S']\n",
      "\n",
      "index 3530\n",
      "passenger 2514_01\n",
      "GroupSize 1\n",
      "[['E', 'P', 149, 151], ['F', 'P', 518, 520]]\n",
      "['P', 'S']\n",
      "\n",
      "index 4233\n",
      "passenger 3034_01\n",
      "GroupSize 1\n",
      "[['B', 'P', 97, 100]]\n",
      "['P', 'S']\n",
      "\n",
      "index 4254\n",
      "passenger 3053_01\n",
      "GroupSize 1\n",
      "[['B', 'P', 97, 100]]\n",
      "['P', 'S']\n",
      "\n",
      "index 4569\n",
      "passenger 3287_02\n",
      "GroupSize 3\n",
      "[]\n",
      "['S']\n",
      "\n",
      "index 4751\n",
      "passenger 3411_02\n",
      "GroupSize 7\n",
      "[]\n",
      "['S']\n",
      "\n",
      "index 5016\n",
      "passenger 3598_01\n",
      "GroupSize 1\n",
      "[['G', 'P', 589, 591], ['G', 'S', 578, 580]]\n",
      "['P', 'S']\n",
      "\n",
      "index 5017\n",
      "passenger 3599_01\n",
      "GroupSize 1\n",
      "[['G', 'P', 589, 591], ['G', 'S', 578, 580]]\n",
      "['P', 'S']\n",
      "\n",
      "index 6493\n",
      "passenger 4637_01\n",
      "GroupSize 1\n",
      "[['E', 'S', 299, 302]]\n",
      "['P', 'S']\n",
      "\n",
      "index 6514\n",
      "passenger 4652_01\n",
      "GroupSize 1\n",
      "[['E', 'S', 299, 302]]\n",
      "['P', 'S']\n",
      "\n",
      "index 8413\n",
      "passenger 6028_04\n",
      "GroupSize 5\n",
      "[['D', 'P', 190, 192]]\n",
      "['P']\n",
      "\n",
      "index 8450\n",
      "passenger 6048_01\n",
      "GroupSize 1\n",
      "[['D', 'P', 190, 192], ['E', 'P', 386, 388]]\n",
      "['P', 'S']\n",
      "\n",
      "index 8465\n",
      "passenger 6060_01\n",
      "GroupSize 1\n",
      "[['D', 'P', 190, 192], ['E', 'P', 386, 388]]\n",
      "['P', 'S']\n",
      "\n",
      "index 9265\n",
      "passenger 6612_03\n",
      "GroupSize 6\n",
      "[['F', 'S', 1266, 1268]]\n",
      "['S']\n",
      "\n",
      "index 9267\n",
      "passenger 6612_05\n",
      "GroupSize 6\n",
      "[['F', 'S', 1266, 1268]]\n",
      "['S']\n",
      "\n",
      "index 10081\n",
      "passenger 7182_01\n",
      "GroupSize 1\n",
      "[['F', 'P', 1488, 1490], ['G', 'P', 1156, 1158]]\n",
      "['P', 'S']\n",
      "\n",
      "index 10082\n",
      "passenger 7183_01\n",
      "GroupSize 1\n",
      "[['F', 'P', 1488, 1490], ['G', 'P', 1156, 1158]]\n",
      "['P', 'S']\n",
      "\n",
      "index 10290\n",
      "passenger 7353_03\n",
      "GroupSize 3\n",
      "[['C', 'S', 269, 271]]\n",
      "['S']\n",
      "\n",
      "index 10313\n",
      "passenger 7368_01\n",
      "GroupSize 1\n",
      "[['C', 'S', 269, 271], ['D', 'P', 234, 236]]\n",
      "['P', 'S']\n",
      "\n",
      "index 10394\n",
      "passenger 7429_01\n",
      "GroupSize 1\n",
      "[['D', 'P', 234, 236], ['F', 'S', 1423, 1425]]\n",
      "['P', 'S']\n",
      "\n",
      "index 10408\n",
      "passenger 7440_01\n",
      "GroupSize 1\n",
      "[['F', 'S', 1423, 1425], ['G', 'S', 1205, 1207]]\n",
      "['P', 'S']\n",
      "\n",
      "index 10411\n",
      "passenger 7442_02\n",
      "GroupSize 2\n",
      "[['F', 'S', 1423, 1425], ['G', 'S', 1205, 1207]]\n",
      "['S']\n",
      "\n",
      "index 10434\n",
      "passenger 7463_01\n",
      "GroupSize 1\n",
      "[['F', 'P', 1543, 1545], ['F', 'S', 1423, 1425], ['G', 'S', 1211, 1213]]\n",
      "['P', 'S']\n",
      "\n",
      "index 10440\n",
      "passenger 7469_01\n",
      "GroupSize 1\n",
      "[['F', 'P', 1543, 1545], ['G', 'S', 1211, 1213]]\n",
      "['P', 'S']\n",
      "\n",
      "index 11129\n",
      "passenger 7983_01\n",
      "GroupSize 1\n",
      "[['C', 'S', 297, 299], ['E', 'S', 527, 529]]\n",
      "['P', 'S']\n",
      "\n",
      "index 11148\n",
      "passenger 7995_01\n",
      "GroupSize 1\n",
      "[['C', 'S', 297, 299], ['E', 'S', 527, 529]]\n",
      "['P', 'S']\n",
      "\n",
      "index 12174\n",
      "passenger 8728_07\n",
      "GroupSize 8\n",
      "[]\n",
      "['P']\n",
      "\n",
      "index 12651\n",
      "passenger 9057_01\n",
      "GroupSize 2\n",
      "[['A', 'P', 93, 95]]\n",
      "['P']\n",
      "\n",
      "index 12668\n",
      "passenger 9069_03\n",
      "GroupSize 5\n",
      "[['A', 'P', 93, 95]]\n",
      "['P']\n",
      "\n",
      "index 12892\n",
      "passenger 9223_01\n",
      "GroupSize 2\n",
      "[['F', 'S', 1784, 1786]]\n",
      "['P', 'S']\n",
      "\n",
      "index 12893\n",
      "passenger 9223_02\n",
      "GroupSize 2\n",
      "[['F', 'S', 1784, 1786]]\n",
      "['P', 'S']\n",
      "5\n"
     ]
    }
   ],
   "source": [
    "all_cabin_options_for_each_row(df)"
   ]
  },
  {
   "cell_type": "code",
   "execution_count": 228,
   "metadata": {},
   "outputs": [
    {
     "data": {
      "text/plain": [
       "PassengerId            0\n",
       "HomePlanet            13\n",
       "CryoSleep            310\n",
       "Cabin                 31\n",
       "Destination          274\n",
       "Age                  270\n",
       "VIP                  296\n",
       "RoomService          263\n",
       "FoodCourt            289\n",
       "ShoppingMall         306\n",
       "Spa                  284\n",
       "VRDeck               268\n",
       "Name                 294\n",
       "Set                    0\n",
       "Transported         4277\n",
       "Group                  0\n",
       "GroupNumber            0\n",
       "Deck                  31\n",
       "Number                31\n",
       "Side                  31\n",
       "FirstName            294\n",
       "LastName             294\n",
       "GroupSize              0\n",
       "Bills                785\n",
       "potential_decks    12938\n",
       "potential_sides    12938\n",
       "dtype: int64"
      ]
     },
     "execution_count": 228,
     "metadata": {},
     "output_type": "execute_result"
    }
   ],
   "source": [
    "df.isna().sum()"
   ]
  },
  {
   "cell_type": "code",
   "execution_count": null,
   "metadata": {},
   "outputs": [],
   "source": []
  },
  {
   "cell_type": "code",
   "execution_count": 22,
   "metadata": {},
   "outputs": [
    {
     "ename": "NameError",
     "evalue": "name 'df2' is not defined",
     "output_type": "error",
     "traceback": [
      "\u001b[0;31m---------------------------------------------------------------------------\u001b[0m",
      "\u001b[0;31mNameError\u001b[0m                                 Traceback (most recent call last)",
      "Cell \u001b[0;32mIn[22], line 1\u001b[0m\n\u001b[0;32m----> 1\u001b[0m all_rows_for_each_cabin_option(\u001b[43mdf2\u001b[49m)\n",
      "\u001b[0;31mNameError\u001b[0m: name 'df2' is not defined"
     ]
    }
   ],
   "source": [
    "all_rows_for_each_cabin_option(df2)"
   ]
  },
  {
   "cell_type": "code",
   "execution_count": null,
   "metadata": {},
   "outputs": [],
   "source": []
  }
 ],
 "metadata": {
  "kernelspec": {
   "display_name": "spaceenv",
   "language": "python",
   "name": "python3"
  },
  "language_info": {
   "codemirror_mode": {
    "name": "ipython",
    "version": 3
   },
   "file_extension": ".py",
   "mimetype": "text/x-python",
   "name": "python",
   "nbconvert_exporter": "python",
   "pygments_lexer": "ipython3",
   "version": "3.9.6"
  }
 },
 "nbformat": 4,
 "nbformat_minor": 2
}
