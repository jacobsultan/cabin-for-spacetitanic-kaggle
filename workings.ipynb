{
 "cells": [
  {
   "cell_type": "code",
   "execution_count": 17,
   "metadata": {},
   "outputs": [],
   "source": [
    "import pandas as pd"
   ]
  },
  {
   "cell_type": "code",
   "execution_count": 28,
   "metadata": {},
   "outputs": [],
   "source": [
    "df = pd.read_csv('pre_processed.csv')"
   ]
  },
  {
   "cell_type": "code",
   "execution_count": 19,
   "metadata": {},
   "outputs": [],
   "source": [
    "decks_by_planet = {\n",
    "    'Earth':['E','F','G'],\n",
    "    'Europa': ['A','B','C','D','E','T'],\n",
    "    'Mars': ['D','E','F']\n",
    "}\n",
    "\n",
    "decks_by_planet_no_bills = {\n",
    "    'Earth':['G'],\n",
    "    'Europa':['B'],\n",
    "    'Mars': ['E','F']\n",
    "}\n",
    "\n",
    "planet_by_deck = {\n",
    "    'A':['Europa'],'B':['Europa'],'C':['Europa'],'D':['Europa','Mars'],'E':['Europa','Mars','Earth'],\n",
    "    'F':['Earth','Mars'],'G':['Earth'],'T':['Europa']\n",
    "}\n",
    "\n",
    "homeplanets = ['Earth', 'Europa', 'Mars']\n",
    "\n",
    "all_cabin_sides = ['P','S']\n",
    "\n",
    "all_cabin_decks = list(df.dropna(subset = ['Deck']).Deck.unique())\n"
   ]
  },
  {
   "cell_type": "code",
   "execution_count": null,
   "metadata": {},
   "outputs": [],
   "source": [
    "def fill_potential_decks(df):\n",
    "    def func_potential_decks(row):\n",
    "        if pd.isna(row.Cabin):\n",
    "            if row.Bills == 0 and not pd.isna(row.HomePlanet):\n",
    "                if len(df[df.Group == row.Group].dropna(subset = 'Deck').Deck.unique()) > 1:\n",
    "                    return decks_by_planet_no_bills[row.HomePlanet]\n",
    "            if not pd.isna(row.HomePlanet):\n",
    "                return decks_by_planet[row.HomePlanet]\n",
    "            else:\n",
    "                return all_cabin_decks\n",
    "    df['potential_decks'] = df.apply(func_potential_decks, axis = 1)\n",
    "    return df"
   ]
  },
  {
   "cell_type": "code",
   "execution_count": null,
   "metadata": {},
   "outputs": [],
   "source": [
    "df = fill_potential_decks(df)"
   ]
  },
  {
   "cell_type": "code",
   "execution_count": 29,
   "metadata": {},
   "outputs": [],
   "source": [
    "df4 = pd.read_csv('df4.csv')"
   ]
  },
  {
   "cell_type": "code",
   "execution_count": 31,
   "metadata": {},
   "outputs": [
    {
     "data": {
      "text/plain": [
       "potential_decks\n",
       "['E', 'F', 'G']                   148\n",
       "['A', 'B', 'C', 'D', 'E', 'T']     80\n",
       "['D', 'E', 'F']                    58\n",
       "['G']                              13\n",
       "Name: count, dtype: int64"
      ]
     },
     "execution_count": 31,
     "metadata": {},
     "output_type": "execute_result"
    }
   ],
   "source": [
    "df4.potential_decks.value_counts()"
   ]
  },
  {
   "cell_type": "code",
   "execution_count": 21,
   "metadata": {},
   "outputs": [],
   "source": [
    "def rooms_to_fill(df):\n",
    "    rooms = {}\n",
    "    for deck in all_cabin_decks:\n",
    "        for side in all_cabin_sides:\n",
    "            rooms_seen = list(df[(df.Deck == deck) & (df.Side == side)].dropna(subset = ['Number']).Number.unique())\n",
    "            largest_room_number = int(max(list(df[(df.Deck == deck) & (df.Side == side)].dropna(subset = ['Number']).Number.unique())))\n",
    "            for i in range(largest_room_number):\n",
    "                if i not in rooms_seen:\n",
    "                    if deck not in rooms:\n",
    "                        rooms[deck] = {'P':[],'S':[]}\n",
    "                    rooms[deck][side].append(i)\n",
    "    return rooms\n",
    "\n",
    "                    \n",
    "                    \n",
    "                    \n",
    "            "
   ]
  },
  {
   "cell_type": "markdown",
   "metadata": {},
   "source": [
    "# there arent any free rooms for it so has to share\n"
   ]
  },
  {
   "cell_type": "code",
   "execution_count": 32,
   "metadata": {},
   "outputs": [],
   "source": [
    "def no_free_rooms_so_shares_2(df):\n",
    "    free_rooms = rooms_to_fill(df)\n",
    "    for index,passenger in df[df.Cabin.isna()].iterrows():\n",
    "        options = False\n",
    "        for deck in passenger.potential_decks:\n",
    "            for side in all_cabin_sides:\n",
    "                if deck not in free_rooms:\n",
    "                    continue\n",
    "                if side not in free_rooms[deck]:\n",
    "                    continue\n",
    "                potential_room_numbers = free_rooms[deck][side]\n",
    "                before_slice = df.iloc[:index]\n",
    "                after_slice = df.iloc[index+1:]\n",
    "                before_slice = before_slice[(before_slice.Deck == deck) & (before_slice.Side == side)].Number.unique()\n",
    "                if len(before_slice) > 1:\n",
    "                    top_room_number_before = max(before_slice)\n",
    "                else:\n",
    "                    top_room_number_before = -2\n",
    "                    \n",
    "                smallest_room_number_after = min(after_slice[(after_slice.Deck == deck) & (after_slice.Side == side)].Number.unique())\n",
    "                if top_room_number_before + 1 == smallest_room_number_after:\n",
    "                    if int(top_room_number_before) + 1 in potential_room_numbers:\n",
    "                        options = True\n",
    "        if not options:\n",
    "            if len(df[(df.Group == passenger.Group) & (df.Deck.isin(passenger.potential_decks))].Cabin.unique()) == 1:\n",
    "                print(passenger)\n",
    "    return df\n",
    "        \n",
    "                "
   ]
  },
  {
   "cell_type": "code",
   "execution_count": 38,
   "metadata": {},
   "outputs": [
    {
     "data": {
      "text/plain": [
       "\"['A', 'B', 'C', 'D', 'E', 'T']\""
      ]
     },
     "execution_count": 38,
     "metadata": {},
     "output_type": "execute_result"
    }
   ],
   "source": [
    "df4[df4.Cabin.isna()].potential_decks.iloc[0]"
   ]
  },
  {
   "cell_type": "code",
   "execution_count": 34,
   "metadata": {},
   "outputs": [
    {
     "ename": "TypeError",
     "evalue": "only list-like objects are allowed to be passed to isin(), you passed a `str`",
     "output_type": "error",
     "traceback": [
      "\u001b[0;31m---------------------------------------------------------------------------\u001b[0m",
      "\u001b[0;31mTypeError\u001b[0m                                 Traceback (most recent call last)",
      "Cell \u001b[0;32mIn[34], line 1\u001b[0m\n\u001b[0;32m----> 1\u001b[0m df4 \u001b[38;5;241m=\u001b[39m \u001b[43mno_free_rooms_so_shares_2\u001b[49m\u001b[43m(\u001b[49m\u001b[43mdf4\u001b[49m\u001b[43m)\u001b[49m\n",
      "Cell \u001b[0;32mIn[32], line 25\u001b[0m, in \u001b[0;36mno_free_rooms_so_shares_2\u001b[0;34m(df)\u001b[0m\n\u001b[1;32m     23\u001b[0m                     options \u001b[38;5;241m=\u001b[39m \u001b[38;5;28;01mTrue\u001b[39;00m\n\u001b[1;32m     24\u001b[0m     \u001b[38;5;28;01mif\u001b[39;00m \u001b[38;5;129;01mnot\u001b[39;00m options:\n\u001b[0;32m---> 25\u001b[0m         \u001b[38;5;28;01mif\u001b[39;00m \u001b[38;5;28mlen\u001b[39m(df[(df\u001b[38;5;241m.\u001b[39mGroup \u001b[38;5;241m==\u001b[39m passenger\u001b[38;5;241m.\u001b[39mGroup) \u001b[38;5;241m&\u001b[39m (\u001b[43mdf\u001b[49m\u001b[38;5;241;43m.\u001b[39;49m\u001b[43mDeck\u001b[49m\u001b[38;5;241;43m.\u001b[39;49m\u001b[43misin\u001b[49m\u001b[43m(\u001b[49m\u001b[43mpassenger\u001b[49m\u001b[38;5;241;43m.\u001b[39;49m\u001b[43mpotential_decks\u001b[49m\u001b[43m)\u001b[49m)]\u001b[38;5;241m.\u001b[39mCabin\u001b[38;5;241m.\u001b[39munique()) \u001b[38;5;241m==\u001b[39m \u001b[38;5;241m1\u001b[39m:\n\u001b[1;32m     26\u001b[0m             \u001b[38;5;28mprint\u001b[39m(passenger)\n\u001b[1;32m     27\u001b[0m \u001b[38;5;28;01mreturn\u001b[39;00m df\n",
      "File \u001b[0;32m~/Documents/coding/cabin_spacetitanic/spaceenv/lib/python3.9/site-packages/pandas/core/series.py:5559\u001b[0m, in \u001b[0;36mSeries.isin\u001b[0;34m(self, values)\u001b[0m\n\u001b[1;32m   5486\u001b[0m \u001b[38;5;28;01mdef\u001b[39;00m \u001b[38;5;21misin\u001b[39m(\u001b[38;5;28mself\u001b[39m, values) \u001b[38;5;241m-\u001b[39m\u001b[38;5;241m>\u001b[39m Series:\n\u001b[1;32m   5487\u001b[0m \u001b[38;5;250m    \u001b[39m\u001b[38;5;124;03m\"\"\"\u001b[39;00m\n\u001b[1;32m   5488\u001b[0m \u001b[38;5;124;03m    Whether elements in Series are contained in `values`.\u001b[39;00m\n\u001b[1;32m   5489\u001b[0m \n\u001b[0;32m   (...)\u001b[0m\n\u001b[1;32m   5557\u001b[0m \u001b[38;5;124;03m    dtype: bool\u001b[39;00m\n\u001b[1;32m   5558\u001b[0m \u001b[38;5;124;03m    \"\"\"\u001b[39;00m\n\u001b[0;32m-> 5559\u001b[0m     result \u001b[38;5;241m=\u001b[39m \u001b[43malgorithms\u001b[49m\u001b[38;5;241;43m.\u001b[39;49m\u001b[43misin\u001b[49m\u001b[43m(\u001b[49m\u001b[38;5;28;43mself\u001b[39;49m\u001b[38;5;241;43m.\u001b[39;49m\u001b[43m_values\u001b[49m\u001b[43m,\u001b[49m\u001b[43m \u001b[49m\u001b[43mvalues\u001b[49m\u001b[43m)\u001b[49m\n\u001b[1;32m   5560\u001b[0m     \u001b[38;5;28;01mreturn\u001b[39;00m \u001b[38;5;28mself\u001b[39m\u001b[38;5;241m.\u001b[39m_constructor(result, index\u001b[38;5;241m=\u001b[39m\u001b[38;5;28mself\u001b[39m\u001b[38;5;241m.\u001b[39mindex, copy\u001b[38;5;241m=\u001b[39m\u001b[38;5;28;01mFalse\u001b[39;00m)\u001b[38;5;241m.\u001b[39m__finalize__(\n\u001b[1;32m   5561\u001b[0m         \u001b[38;5;28mself\u001b[39m, method\u001b[38;5;241m=\u001b[39m\u001b[38;5;124m\"\u001b[39m\u001b[38;5;124misin\u001b[39m\u001b[38;5;124m\"\u001b[39m\n\u001b[1;32m   5562\u001b[0m     )\n",
      "File \u001b[0;32m~/Documents/coding/cabin_spacetitanic/spaceenv/lib/python3.9/site-packages/pandas/core/algorithms.py:477\u001b[0m, in \u001b[0;36misin\u001b[0;34m(comps, values)\u001b[0m\n\u001b[1;32m    472\u001b[0m     \u001b[38;5;28;01mraise\u001b[39;00m \u001b[38;5;167;01mTypeError\u001b[39;00m(\n\u001b[1;32m    473\u001b[0m         \u001b[38;5;124m\"\u001b[39m\u001b[38;5;124monly list-like objects are allowed to be passed \u001b[39m\u001b[38;5;124m\"\u001b[39m\n\u001b[1;32m    474\u001b[0m         \u001b[38;5;124mf\u001b[39m\u001b[38;5;124m\"\u001b[39m\u001b[38;5;124mto isin(), you passed a `\u001b[39m\u001b[38;5;132;01m{\u001b[39;00m\u001b[38;5;28mtype\u001b[39m(comps)\u001b[38;5;241m.\u001b[39m\u001b[38;5;18m__name__\u001b[39m\u001b[38;5;132;01m}\u001b[39;00m\u001b[38;5;124m`\u001b[39m\u001b[38;5;124m\"\u001b[39m\n\u001b[1;32m    475\u001b[0m     )\n\u001b[1;32m    476\u001b[0m \u001b[38;5;28;01mif\u001b[39;00m \u001b[38;5;129;01mnot\u001b[39;00m is_list_like(values):\n\u001b[0;32m--> 477\u001b[0m     \u001b[38;5;28;01mraise\u001b[39;00m \u001b[38;5;167;01mTypeError\u001b[39;00m(\n\u001b[1;32m    478\u001b[0m         \u001b[38;5;124m\"\u001b[39m\u001b[38;5;124monly list-like objects are allowed to be passed \u001b[39m\u001b[38;5;124m\"\u001b[39m\n\u001b[1;32m    479\u001b[0m         \u001b[38;5;124mf\u001b[39m\u001b[38;5;124m\"\u001b[39m\u001b[38;5;124mto isin(), you passed a `\u001b[39m\u001b[38;5;132;01m{\u001b[39;00m\u001b[38;5;28mtype\u001b[39m(values)\u001b[38;5;241m.\u001b[39m\u001b[38;5;18m__name__\u001b[39m\u001b[38;5;132;01m}\u001b[39;00m\u001b[38;5;124m`\u001b[39m\u001b[38;5;124m\"\u001b[39m\n\u001b[1;32m    480\u001b[0m     )\n\u001b[1;32m    482\u001b[0m \u001b[38;5;28;01mif\u001b[39;00m \u001b[38;5;129;01mnot\u001b[39;00m \u001b[38;5;28misinstance\u001b[39m(values, (ABCIndex, ABCSeries, ABCExtensionArray, np\u001b[38;5;241m.\u001b[39mndarray)):\n\u001b[1;32m    483\u001b[0m     orig_values \u001b[38;5;241m=\u001b[39m \u001b[38;5;28mlist\u001b[39m(values)\n",
      "\u001b[0;31mTypeError\u001b[0m: only list-like objects are allowed to be passed to isin(), you passed a `str`"
     ]
    }
   ],
   "source": [
    "df4 = no_free_rooms_so_shares_2(df4)"
   ]
  },
  {
   "cell_type": "code",
   "execution_count": null,
   "metadata": {},
   "outputs": [],
   "source": [
    "def no_free_rooms_so_shares(df):\n",
    "    for index, passenger in df[df.Cabin.isna()].iterrows():\n",
    "        options = False\n",
    "        for deck in passenger.potential_decks:\n",
    "            for side in all_cabin_sides:\n",
    "                \n",
    "                before_slice = df.iloc[:index]\n",
    "                after_slice = df.iloc[index+1:] \n",
    "                top_room_number_before = np.max(before_slice[(before_slice.Deck == deck) & (before_slice.Side == side)].Number)\n",
    "                smallest_room_number_after = np.min(after_slice[(after_slice.Deck == deck) & (after_slice.Side == side)].Number)\n",
    "                \n",
    "                if top_room_number_before + 1 != smallest_room_number_after:\n",
    "                    if pd.isna(top_room_number_before) and smallest_room_number_after == 0:\n",
    "                        continue\n",
    "                    elif top_room_number_before == smallest_room_number_after:\n",
    "                        continue\n",
    "                    else:\n",
    "                        options = True\n",
    "                        break\n",
    "            if options:\n",
    "                break\n",
    "        if not options:\n",
    "            other_group_member = df[(df.Group == passenger.Group) & (~df.Cabin.isna()) & (df.Deck.isin(passenger.potential_decks))]\n",
    "            print(index)\n",
    "            if len(other_group_member.Cabin.unique()) == 1:\n",
    "                \n",
    "                df.loc[index,'Cabin'] = other_group_member.iloc[0].Cabin\n",
    "                \n",
    "    df[['Deck','Number','Side']] = df.apply(fill_deck_cabin_side,axis = 1)\n",
    "    return df\n",
    "  \n",
    "            # Slice the DataFrame first and then apply the boolean mask\n",
    "\n",
    "df2 = no_free_rooms_so_shares(df2)"
   ]
  },
  {
   "cell_type": "code",
   "execution_count": null,
   "metadata": {},
   "outputs": [],
   "source": []
  },
  {
   "cell_type": "code",
   "execution_count": null,
   "metadata": {},
   "outputs": [],
   "source": []
  }
 ],
 "metadata": {
  "kernelspec": {
   "display_name": "spaceenv",
   "language": "python",
   "name": "python3"
  },
  "language_info": {
   "codemirror_mode": {
    "name": "ipython",
    "version": 3
   },
   "file_extension": ".py",
   "mimetype": "text/x-python",
   "name": "python",
   "nbconvert_exporter": "python",
   "pygments_lexer": "ipython3",
   "version": "3.9.6"
  }
 },
 "nbformat": 4,
 "nbformat_minor": 2
}
