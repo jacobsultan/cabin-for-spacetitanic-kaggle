{
 "cells": [
  {
   "cell_type": "markdown",
   "metadata": {},
   "source": [
    "# preprocessing"
   ]
  },
  {
   "cell_type": "code",
   "execution_count": 1,
   "metadata": {},
   "outputs": [],
   "source": [
    "import pandas as pd\n",
    "\n",
    "traindf = pd.read_csv('data/train.csv')\n",
    "testdf = pd.read_csv('data/test.csv')\n",
    "traindf['Set'] = 'Train'\n",
    "testdf['Set'] = 'Test'\n",
    "df = pd.concat([testdf,traindf])\n"
   ]
  },
  {
   "cell_type": "code",
   "execution_count": 2,
   "metadata": {},
   "outputs": [],
   "source": [
    "def splits(data_frame):\n",
    "    split_df = data_frame['PassengerId'].str.split('_', expand=True)\n",
    "    data_frame[['Group', 'GroupNumber']] = split_df\n",
    "\n",
    "    split_df =  data_frame['Cabin'].str.split(\"/\", expand = True)\n",
    "    data_frame[['Deck', 'CabinNumber', 'Side']]= split_df\n",
    "    data_frame.CabinNumber = data_frame.CabinNumber.astype('Int64')\n",
    "    \n",
    "    split_df = data_frame['Name'].str.split(\" \",expand = True)\n",
    "    data_frame[['FirstName','LastName']] = split_df\n",
    "\n",
    "\n",
    "    return data_frame\n",
    "\n",
    "df = splits(df)\n"
   ]
  },
  {
   "cell_type": "code",
   "execution_count": 3,
   "metadata": {},
   "outputs": [],
   "source": [
    "\n",
    "def group_size_apply(row):\n",
    "    group = df[df.Group == row.Group]\n",
    "    return len(group)\n",
    "\n",
    "df['GroupSize'] = df.apply(group_size_apply, axis = 1)\n",
    "\n",
    "df['Bills'] = df['RoomService'] + df['FoodCourt'] + df['ShoppingMall'] + df['Spa'] + df['VRDeck']\n",
    "df.loc[(df['Age'] < 13), 'Bills'] = 0\n",
    "df.loc[(df['CryoSleep'] == True),'Bills'] = 0 \n",
    "    \n",
    "    \n",
    "    \n",
    "\n",
    "\n",
    "    \n"
   ]
  },
  {
   "cell_type": "code",
   "execution_count": 4,
   "metadata": {},
   "outputs": [],
   "source": [
    "\n",
    "def fill_potential_decks_apply(row):\n",
    "    \n",
    "    potential_decks_by_planet = {\n",
    "    'Earth':['E','F','G'],\n",
    "    'Europa': ['A','B','C','D','E','T'],\n",
    "    'Mars': ['D','E','F']\n",
    "    }\n",
    "\n",
    "    potential_decks_by_planet_no_bills = {\n",
    "        'Earth':['G'],\n",
    "        'Europa':['B'],\n",
    "        'Mars': ['E','F']\n",
    "    }\n",
    "\n",
    "    if pd.isna(row.Cabin):\n",
    "        if row.Bills == 0 and not pd.isna(row.HomePlanet):\n",
    "            if len(df[df.Group == row.Group].dropna(subset = 'Deck').Deck.unique()) > 1:\n",
    "                return potential_decks_by_planet_no_bills[row.HomePlanet]\n",
    "            \n",
    "        if not pd.isna(row.HomePlanet):\n",
    "            return potential_decks_by_planet[row.HomePlanet]\n",
    "        \n",
    "        else:\n",
    "            return list(df.dropna(subset = ['Deck']).Deck.unique())\n",
    "            \n",
    "\n",
    "def fill_potential_sides_apply(row):\n",
    "    if pd.isna(row.Cabin):\n",
    "        if row.GroupSize > 1:\n",
    "            group = df[df.Group == row.Group].dropna(subset = 'Side')\n",
    "            if len(group) > 0:\n",
    "                return [group.iloc[0].Side]\n",
    "        return ['P','S']\n",
    "    \n",
    "    \n",
    "df['potential_decks'] = df.apply(fill_potential_decks_apply, axis = 1)\n",
    "    \n",
    "df['potential_sides'] = df.apply(fill_potential_sides_apply,axis = 1)\n",
    "\n",
    "\n"
   ]
  },
  {
   "cell_type": "code",
   "execution_count": 5,
   "metadata": {},
   "outputs": [],
   "source": [
    "def impute_based_on_shared_features(df,attribute,feature):\n",
    "    for index, row in df[df[attribute].isna()].iterrows():\n",
    "        # Find the group sharing the same feature value, excluding missing values in the attribute\n",
    "        group = df[df[feature] == row[feature]].dropna(subset=[attribute])\n",
    "        \n",
    "        if not group.empty:\n",
    "            # Assign the first non-missing value of the attribute in the group to the missing value\n",
    "            df.loc[index, attribute] = group[attribute].iloc[0]\n",
    "\n",
    "    return df\n",
    "\n",
    "df = impute_based_on_shared_features(df,'HomePlanet','Group')\n",
    "df = impute_based_on_shared_features(df,'HomePlanet','LastName')"
   ]
  },
  {
   "cell_type": "code",
   "execution_count": 6,
   "metadata": {},
   "outputs": [],
   "source": [
    "df = df.sort_values(by = ['Group','GroupNumber'])\n",
    "df = df.reset_index(drop = True)\n"
   ]
  },
  {
   "cell_type": "markdown",
   "metadata": {},
   "source": [
    "# workings 2"
   ]
  },
  {
   "cell_type": "code",
   "execution_count": 7,
   "metadata": {},
   "outputs": [],
   "source": [
    "def each_room_per_passenger(df):\n",
    "    passenger_options = {}\n",
    "    passengers_without_cabin = df[df['Cabin'].isna()]\n",
    "\n",
    "    for index, passenger in passengers_without_cabin.iterrows():\n",
    "        potential_options = {}\n",
    "\n",
    "        for deck in passenger.potential_decks:\n",
    "            for side in passenger.potential_sides:\n",
    "                mask = (df['Deck'] == deck) & (df['Side'] == side)\n",
    "\n",
    "                # Get the rooms before and after the current passenger index\n",
    "                before = df.loc[mask & (df.index < index), 'CabinNumber'].dropna().unique()\n",
    "                after = df.loc[mask & (df.index > index), 'CabinNumber'].dropna().unique()\n",
    "                \n",
    "                if len(before) == 0 or len(after) == 0:\n",
    "                    continue\n",
    "                \n",
    "                elif max(before) + 1 >= min(after):\n",
    "                    continue\n",
    "                \n",
    "                else:\n",
    "                    if deck not in potential_options:\n",
    "                        potential_options[deck] = {}\n",
    "                    potential_options[deck][side] = [max(before), min(after)]\n",
    "\n",
    "        passenger_options[index] = potential_options\n",
    "\n",
    "    return passenger_options\n",
    "\n",
    "\n",
    "\n"
   ]
  },
  {
   "cell_type": "markdown",
   "metadata": {},
   "source": [
    "# solo group and only one room that fits"
   ]
  },
  {
   "cell_type": "code",
   "execution_count": 8,
   "metadata": {},
   "outputs": [],
   "source": [
    "def solo_group_one_option(df):\n",
    "    potential_options = each_room_per_passenger(df)\n",
    "\n",
    "    for index in potential_options.keys():\n",
    "        if df.iloc[index].GroupSize != 1:\n",
    "            continue\n",
    "        empty_cabin_options_for_passenger = []\n",
    "        \n",
    "        refresh_options = False\n",
    "        \n",
    "        for deck, sides in potential_options[index].items():\n",
    "            for side, numbers in sides.items():\n",
    "                if numbers[0] + 2 <= numbers[1] and numbers[0] >= 0:\n",
    "                    empty_cabin_options_for_passenger.append(f\"{deck}/{numbers[0] + 1}/{side}\")\n",
    "                    if numbers[0] + 2 < numbers[1]:\n",
    "                        refresh_options = True\n",
    "\n",
    "        if len(empty_cabin_options_for_passenger) == 1:\n",
    "            cabin = empty_cabin_options_for_passenger[0]\n",
    "            df.loc[index,['Cabin','Deck','CabinNumber','Side']] = [cabin,cabin.split(\"/\")[0],int(cabin.split(\"/\")[1]),cabin.split(\"/\")[2]]\n",
    "            if refresh_options:\n",
    "                potential_options = each_room_per_passenger(df)\n",
    "                \n",
    "\n",
    "    return df\n"
   ]
  },
  {
   "cell_type": "code",
   "execution_count": 9,
   "metadata": {},
   "outputs": [],
   "source": [
    "df2 = df.copy()"
   ]
  },
  {
   "cell_type": "code",
   "execution_count": 10,
   "metadata": {},
   "outputs": [],
   "source": [
    "df3 = df2.copy()"
   ]
  },
  {
   "cell_type": "markdown",
   "metadata": {},
   "source": [
    "# no free rooms so has to share"
   ]
  },
  {
   "cell_type": "code",
   "execution_count": 11,
   "metadata": {},
   "outputs": [],
   "source": [
    "def no_free_rooms_so_shares(df):\n",
    "    potential_options = each_room_per_passenger(df)\n",
    "    \n",
    "    for index,passenger_potential_options in potential_options.items():\n",
    "        empty_cabin_options_for_passenger = 0\n",
    "        \n",
    "        for deck in passenger_potential_options:\n",
    "            for side in passenger_potential_options[deck]:\n",
    "                numbers = passenger_potential_options[deck][side]\n",
    "                if numbers[0] + 2 <= numbers[1] and numbers[0] >= 0:\n",
    "                    empty_cabin_options_for_passenger += 1\n",
    "                    \n",
    "        if empty_cabin_options_for_passenger == 0:\n",
    "            passenger = df.loc[index]\n",
    "            potential_cabins = df[(df['Group'] == passenger['Group']) &\n",
    "                                  (df.index != index) &\n",
    "                                  (df['Deck'].isin(passenger['potential_decks'])) &\n",
    "                                  (df['Side'].isin(passenger['potential_sides']))]['Cabin'].unique()\n",
    "            if len(potential_cabins) == 1:\n",
    "                cabin = potential_cabins[0]\n",
    "                df.loc[index,['Cabin','Deck','CabinNumber','Side']] = [cabin,cabin.split(\"/\")[0],int(cabin.split(\"/\")[1]),cabin.split(\"/\")[2]]\n",
    "    return df\n",
    "    \n"
   ]
  },
  {
   "cell_type": "markdown",
   "metadata": {},
   "source": [
    "# only passenger that can take that cabin"
   ]
  },
  {
   "cell_type": "code",
   "execution_count": 12,
   "metadata": {},
   "outputs": [],
   "source": [
    "\n",
    "                    \n",
    "def rooms_to_fill(df):\n",
    "    rooms = {}\n",
    "    for deck in list(df.dropna(subset = ['Deck']).Deck.unique()):\n",
    "        rooms[deck] = {'P': [], 'S': []} \n",
    "        for side in rooms[deck].keys():\n",
    "            rooms_seen = df[(df.Deck == deck) & (df.Side == side) & (df.CabinNumber.notna())].CabinNumber.astype(int).tolist()\n",
    "            largest_room_number = max(rooms_seen, default=-1) \n",
    "\n",
    "            for i in range(largest_room_number + 1):\n",
    "                if i not in rooms_seen:\n",
    "                    rooms[deck][side].append(f\"{deck}/{i}/{side}\")\n",
    "\n",
    "    return rooms\n",
    "           "
   ]
  },
  {
   "cell_type": "code",
   "execution_count": 13,
   "metadata": {},
   "outputs": [],
   "source": [
    "def only_passenger_that_fits(df):\n",
    "    free_rooms_dict = rooms_to_fill(df)\n",
    "    free_passengers = each_room_per_passenger(df)\n",
    "    for deck,deck_items in free_rooms_dict.items():\n",
    "        for side,side_items in deck_items.items():\n",
    "            for cabin in side_items:\n",
    "                \n",
    "                room_number = int(cabin.split('/')[1])\n",
    "                passenger_options_for_empty_cabins = []\n",
    "                \n",
    "                for passenger_ind,passenger in free_passengers.items():\n",
    "                    if deck not in passenger or side not in passenger[deck]:\n",
    "                        continue\n",
    "                    \n",
    "                    if passenger[deck][side][0] + 1 == room_number == passenger[deck][side][1] - 1:\n",
    "                        passenger_options_for_empty_cabins.append(passenger_ind)\n",
    "                        \n",
    "                if len(passenger_options_for_empty_cabins) == 1:\n",
    "                    passenger_to_fill_ind = passenger_options_for_empty_cabins[0]\n",
    "                    \n",
    "                    df.loc[passenger_to_fill_ind,['Cabin','Deck','CabinNumber','Side']] = [cabin,cabin.split(\"/\")[0],int(cabin.split(\"/\")[1]),cabin.split(\"/\")[2]]\n",
    "                    \n",
    "                            \n",
    "    return df\n",
    "    "
   ]
  },
  {
   "cell_type": "markdown",
   "metadata": {},
   "source": [
    "# all imputes"
   ]
  },
  {
   "cell_type": "code",
   "execution_count": 14,
   "metadata": {},
   "outputs": [
    {
     "data": {
      "text/plain": [
       "PassengerId            0\n",
       "HomePlanet            12\n",
       "CryoSleep            310\n",
       "Cabin                 37\n",
       "Destination          274\n",
       "Age                  270\n",
       "VIP                  296\n",
       "RoomService          263\n",
       "FoodCourt            289\n",
       "ShoppingMall         306\n",
       "Spa                  284\n",
       "VRDeck               268\n",
       "Name                 294\n",
       "Set                    0\n",
       "Transported         4277\n",
       "Group                  0\n",
       "GroupNumber            0\n",
       "Deck                  37\n",
       "CabinNumber           37\n",
       "Side                  37\n",
       "FirstName            294\n",
       "LastName             294\n",
       "GroupSize              0\n",
       "Bills                785\n",
       "potential_decks    12671\n",
       "potential_sides    12671\n",
       "dtype: int64"
      ]
     },
     "execution_count": 14,
     "metadata": {},
     "output_type": "execute_result"
    }
   ],
   "source": [
    "def all_imputes(df):\n",
    "    df = solo_group_one_option(df)\n",
    "    df = no_free_rooms_so_shares(df)\n",
    "    df = only_passenger_that_fits(df)\n",
    "\n",
    "    df = solo_group_one_option(df)\n",
    "    df = no_free_rooms_so_shares(df)\n",
    "    df = only_passenger_that_fits(df)\n",
    "    \n",
    "    return df\n",
    "    \n",
    "df = all_imputes(df)\n",
    "df.isna().sum()"
   ]
  },
  {
   "cell_type": "markdown",
   "metadata": {},
   "source": [
    "# stop"
   ]
  },
  {
   "cell_type": "code",
   "execution_count": 17,
   "metadata": {},
   "outputs": [],
   "source": [
    "def fill(df,cabin,index):\n",
    "    df.loc[index,['Cabin','Deck','Number','Side']] = [cabin,cabin.split(\"/\")[0],int(cabin.split(\"/\")[1]),cabin.split(\"/\")[2]]\n",
    "    return df\n",
    "\n",
    "df = fill(df,1429,'E/58/P')\n",
    "df.loc[1429,'Cabin'] = 'E/58/P'\n",
    "df.loc[8413,'Cabin'] = 'A/57/P'\n",
    "df.loc[9265,'Cabin'] = 'F/1267/S'\n",
    "df.loc[9267,'Cabin'] = 'F/1267/S'\n",
    "\n",
    "df.loc[12892,'Cabin'] = 'F/1785/S' # maybe only one is from this room and the other is joined in the other room\n",
    "df.loc[12893,'Cabin'] = 'F/1785/S'\n",
    "\n",
    "df = fill_deck_and_side_from_cabin(df)\n"
   ]
  },
  {
   "cell_type": "markdown",
   "metadata": {},
   "source": [
    "# workings\n"
   ]
  },
  {
   "cell_type": "code",
   "execution_count": 18,
   "metadata": {},
   "outputs": [],
   "source": [
    "def all_cabin_options_for_each_row(df):\n",
    "    options = each_room_per_passenger(df)\n",
    "    for index, passenger in options.items():\n",
    "        print()\n",
    "        print(\"Index:\",index, \"GroupSize:\", df.iloc[index].GroupSize)\n",
    "        print(\"Free cabins that match:\")\n",
    "        for deck in passenger.keys():\n",
    "            for side, numbers in passenger[deck].items():\n",
    "                \n",
    "                if numbers[0] + 2 == numbers[1]:\n",
    "                    print(deck + \"/\" + str(numbers[0] + 1) + \"/\" + side )\n",
    "                elif numbers[0] + 3 == numbers[1]:\n",
    "                    print(deck + \"/\" + str(numbers[0] + 1) + \"/\" + side, deck + \"/\" + str(numbers[0] + 2) + \"/\" + side )\n",
    "\n"
   ]
  },
  {
   "cell_type": "code",
   "execution_count": 19,
   "metadata": {},
   "outputs": [
    {
     "name": "stdout",
     "output_type": "stream",
     "text": [
      "\n",
      "index 404 GroupSize 1\n",
      "free cabins that match\n",
      "B/13/P\n",
      "C/13/S\n",
      "\n",
      "index 421 GroupSize 1\n",
      "free cabins that match\n",
      "B/13/P\n",
      "C/13/S\n",
      "\n",
      "index 479 GroupSize 2\n",
      "free cabins that match\n",
      "E/20/P E/21/P\n",
      "\n",
      "index 505 GroupSize 2\n",
      "free cabins that match\n",
      "E/20/P E/21/P\n",
      "\n",
      "index 517 GroupSize 2\n",
      "free cabins that match\n",
      "E/20/P E/21/P\n",
      "\n",
      "index 1466 GroupSize 1\n",
      "free cabins that match\n",
      "C/40/S\n",
      "D/36/S\n",
      "\n",
      "index 1543 GroupSize 1\n",
      "free cabins that match\n",
      "C/40/S\n",
      "D/36/S\n",
      "\n",
      "index 2442 GroupSize 7\n",
      "free cabins that match\n",
      "\n",
      "index 2970 GroupSize 5\n",
      "free cabins that match\n",
      "\n",
      "index 3529 GroupSize 1\n",
      "free cabins that match\n",
      "E/150/P\n",
      "F/519/P\n",
      "\n",
      "index 3530 GroupSize 1\n",
      "free cabins that match\n",
      "E/150/P\n",
      "F/519/P\n",
      "\n",
      "index 4569 GroupSize 3\n",
      "free cabins that match\n",
      "\n",
      "index 4751 GroupSize 7\n",
      "free cabins that match\n",
      "\n",
      "index 5016 GroupSize 1\n",
      "free cabins that match\n",
      "G/590/P\n",
      "G/579/S\n",
      "\n",
      "index 5017 GroupSize 1\n",
      "free cabins that match\n",
      "G/590/P\n",
      "G/579/S\n",
      "\n",
      "index 8450 GroupSize 1\n",
      "free cabins that match\n",
      "D/191/P\n",
      "E/387/P\n",
      "\n",
      "index 8465 GroupSize 1\n",
      "free cabins that match\n",
      "D/191/P\n",
      "E/387/P\n",
      "\n",
      "index 10081 GroupSize 1\n",
      "free cabins that match\n",
      "F/1489/P\n",
      "G/1157/P\n",
      "\n",
      "index 10082 GroupSize 1\n",
      "free cabins that match\n",
      "F/1489/P\n",
      "G/1157/P\n",
      "\n",
      "index 10290 GroupSize 3\n",
      "free cabins that match\n",
      "C/270/S\n",
      "\n",
      "index 10313 GroupSize 1\n",
      "free cabins that match\n",
      "C/270/S\n",
      "D/235/P\n",
      "\n",
      "index 10394 GroupSize 1\n",
      "free cabins that match\n",
      "D/235/P\n",
      "F/1424/S\n",
      "\n",
      "index 10408 GroupSize 1\n",
      "free cabins that match\n",
      "F/1424/S\n",
      "G/1206/S\n",
      "\n",
      "index 10411 GroupSize 2\n",
      "free cabins that match\n",
      "F/1424/S\n",
      "G/1206/S\n",
      "\n",
      "index 10434 GroupSize 1\n",
      "free cabins that match\n",
      "F/1544/P\n",
      "F/1424/S\n",
      "G/1212/S\n",
      "\n",
      "index 10440 GroupSize 1\n",
      "free cabins that match\n",
      "G/1212/S\n",
      "F/1544/P\n",
      "D/235/P\n",
      "\n",
      "index 11129 GroupSize 1\n",
      "free cabins that match\n",
      "C/298/S\n",
      "E/528/S\n",
      "\n",
      "index 11148 GroupSize 1\n",
      "free cabins that match\n",
      "C/298/S\n",
      "E/528/S\n",
      "\n",
      "index 12174 GroupSize 8\n",
      "free cabins that match\n",
      "\n",
      "index 12651 GroupSize 2\n",
      "free cabins that match\n",
      "A/94/P\n",
      "\n",
      "index 12668 GroupSize 5\n",
      "free cabins that match\n",
      "A/94/P\n"
     ]
    }
   ],
   "source": [
    "all_cabin_options_for_each_row(df)"
   ]
  },
  {
   "cell_type": "code",
   "execution_count": 16,
   "metadata": {},
   "outputs": [],
   "source": [
    "df_to_comp = pd.read_csv('data/31remaining.csv')"
   ]
  },
  {
   "cell_type": "code",
   "execution_count": 19,
   "metadata": {},
   "outputs": [
    {
     "name": "stdout",
     "output_type": "stream",
     "text": [
      "nan E/58/P\n",
      "nan A/57/P\n",
      "nan F/1267/S\n",
      "nan F/1267/S\n",
      "nan F/1785/S\n",
      "nan F/1785/S\n"
     ]
    }
   ],
   "source": [
    "for index,row in df.iterrows():\n",
    "    if not (pd.isna(row.Cabin) and pd.isna(df_to_comp.iloc[index].Cabin)):\n",
    "        if row.Cabin != df_to_comp.iloc[index].Cabin:\n",
    "            print(row.Cabin, df_to_comp.iloc[index].Cabin)"
   ]
  },
  {
   "cell_type": "code",
   "execution_count": null,
   "metadata": {},
   "outputs": [],
   "source": []
  }
 ],
 "metadata": {
  "kernelspec": {
   "display_name": "spaceenv",
   "language": "python",
   "name": "python3"
  },
  "language_info": {
   "codemirror_mode": {
    "name": "ipython",
    "version": 3
   },
   "file_extension": ".py",
   "mimetype": "text/x-python",
   "name": "python",
   "nbconvert_exporter": "python",
   "pygments_lexer": "ipython3",
   "version": "3.9.6"
  }
 },
 "nbformat": 4,
 "nbformat_minor": 2
}
