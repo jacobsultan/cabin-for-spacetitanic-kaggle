{
 "cells": [
  {
   "cell_type": "markdown",
   "metadata": {},
   "source": [
    "# Feature engineering"
   ]
  },
  {
   "cell_type": "code",
   "execution_count": 1,
   "metadata": {},
   "outputs": [],
   "source": [
    "import pandas as pd\n",
    "from collections import defaultdict\n",
    "\n",
    "\n",
    "training_data = pd.read_csv('data/train.csv')\n",
    "test_data = pd.read_csv('data/test.csv')\n",
    "training_data['Set'] = 'Train'\n",
    "test_data['Set'] = 'Test'\n",
    "df = pd.concat([training_data,test_data])\n"
   ]
  },
  {
   "cell_type": "code",
   "execution_count": 2,
   "metadata": {},
   "outputs": [],
   "source": [
    "def column_splits(data_frame):\n",
    "    data_frame[['Group', 'GroupNumber']] = data_frame['PassengerId'].str.split('_', expand=True)\n",
    "\n",
    "    data_frame[['CabinDeck', 'CabinNumber', 'CabinSide']]= data_frame['Cabin'].str.split(\"/\", expand = True)\n",
    "    data_frame.CabinNumber = data_frame.CabinNumber.astype('Int64')\n",
    "    \n",
    "    data_frame[['FirstName','LastName']] = data_frame['Name'].str.split(\" \",expand = True)\n",
    "\n",
    "    return data_frame\n",
    "\n",
    "df = column_splits(df)\n"
   ]
  },
  {
   "cell_type": "code",
   "execution_count": 3,
   "metadata": {},
   "outputs": [],
   "source": [
    "df['Bills'] = df['RoomService'] + df['FoodCourt'] + df['ShoppingMall'] + df['Spa'] + df['VRDeck']\n",
    "df.loc[(df['Age'] < 13), 'Bills'] = 0\n",
    "df.loc[(df['CryoSleep'] == True),'Bills'] = 0 \n",
    "    "
   ]
  },
  {
   "cell_type": "code",
   "execution_count": 4,
   "metadata": {},
   "outputs": [],
   "source": [
    "def add_group_size_column(dataframe):\n",
    "    # Calculate group sizes and assign directly to a new column\n",
    "    dataframe['GroupSize'] = dataframe.groupby('Group')['Group'].transform('count')\n",
    "    return dataframe\n",
    "\n",
    "\n",
    "df = add_group_size_column(df)\n"
   ]
  },
  {
   "cell_type": "code",
   "execution_count": 5,
   "metadata": {},
   "outputs": [],
   "source": [
    "\n",
    "def add_potential_decks_column(dataframe):\n",
    "    \n",
    "    potential_decks_by_homeplanet = {\n",
    "    'Earth':['E','F','G'],\n",
    "    'Europa': ['A','B','C','D','E','T'],\n",
    "    'Mars': ['D','E','F']\n",
    "    }\n",
    "\n",
    "    potential_decks_by_homeplanet_no_bills = {\n",
    "        'Earth':['G'],\n",
    "        'Europa':['B'],\n",
    "        'Mars': ['E','F']\n",
    "    }\n",
    "    \n",
    "    def func_potential_decks_apply(row):\n",
    "        if pd.isna(row.Cabin):\n",
    "            if row.Bills == 0 and not pd.isna(row.HomePlanet):\n",
    "                if len(dataframe[dataframe.Group == row.Group].dropna(subset = 'CabinDeck').CabinDeck.unique()) > 1:\n",
    "                    return potential_decks_by_homeplanet_no_bills[row.HomePlanet]\n",
    "                \n",
    "            if not pd.isna(row.HomePlanet):\n",
    "                return potential_decks_by_homeplanet[row.HomePlanet]\n",
    "            \n",
    "            else:\n",
    "                return list(dataframe.dropna(subset = ['CabinDeck']).CabinDeck.unique())\n",
    "            \n",
    "    dataframe['PotentialDecks'] = dataframe.apply(func_potential_decks_apply,axis = 1)\n",
    "    return dataframe\n",
    "    \n",
    "            \n",
    "\n",
    "def add_potential_sides_column(dataframe):\n",
    "    \n",
    "    def func_potential_sides_apply(row):\n",
    "        if pd.isna(row.Cabin):\n",
    "            group = dataframe[dataframe.Group == row.Group].dropna(subset = 'CabinSide')\n",
    "            if len(group) > 0:\n",
    "                return [group.iloc[0].CabinSide]\n",
    "            return ['P','S']\n",
    "        \n",
    "    dataframe['PotentialSides'] = dataframe.apply(func_potential_sides_apply,axis = 1)\n",
    "    return dataframe\n",
    "\n",
    "    \n",
    "df = add_potential_decks_column(df)\n",
    "df = add_potential_sides_column(df)\n",
    "\n"
   ]
  },
  {
   "cell_type": "code",
   "execution_count": 6,
   "metadata": {},
   "outputs": [],
   "source": [
    "def impute_attribute_by_shared_features(dataframe,attribute,shared_feature):\n",
    "    \n",
    "    for index, row in dataframe[dataframe[attribute].isna()].iterrows():\n",
    "        rows_with_shared_features = dataframe[dataframe[shared_feature] == row[shared_feature]].dropna(subset=[attribute])\n",
    "        \n",
    "        if not rows_with_shared_features.empty:\n",
    "            dataframe.loc[index, attribute] = rows_with_shared_features[attribute].iloc[0]\n",
    "\n",
    "    return dataframe\n",
    "\n",
    "df = impute_attribute_by_shared_features(df,'HomePlanet','Group')\n",
    "df = impute_attribute_by_shared_features(df,'HomePlanet','LastName')"
   ]
  },
  {
   "cell_type": "code",
   "execution_count": 7,
   "metadata": {},
   "outputs": [],
   "source": [
    "df = df.sort_values(by = ['Group','GroupNumber'])\n",
    "df = df.reset_index(drop = True)\n"
   ]
  },
  {
   "cell_type": "markdown",
   "metadata": {},
   "source": [
    "# workings 2"
   ]
  },
  {
   "cell_type": "code",
   "execution_count": 8,
   "metadata": {},
   "outputs": [],
   "source": [
    "def impute_from_cabin_and_index(dataframe,cabin,index):\n",
    "    dataframe.loc[index,['Cabin','CabinDeck','CabinNumber','CabinSide']] = [cabin,cabin.split(\"/\")[0],int(cabin.split(\"/\")[1]),cabin.split(\"/\")[2]]\n",
    "    return dataframe"
   ]
  },
  {
   "cell_type": "code",
   "execution_count": 9,
   "metadata": {},
   "outputs": [],
   "source": [
    "def passengers_empty_cabin_options(dataframe):\n",
    "    \n",
    "    df_passengers_without_cabin = dataframe[dataframe['Cabin'].isna()]\n",
    "    all_passenger_cabin_options = {}\n",
    "\n",
    "    for passenger_index, passenger in df_passengers_without_cabin.iterrows():\n",
    "        all_passenger_cabin_options[passenger_index] = []\n",
    "\n",
    "        for deck in passenger.PotentialDecks:\n",
    "            for side in passenger.PotentialSides:\n",
    "                # Filter dataframe for the current deck and side\n",
    "                df_filtered = dataframe[(dataframe['CabinDeck'] == deck) & (dataframe['CabinSide'] == side)]\n",
    "\n",
    "                # Split into cabins before and after the current passenger index\n",
    "                max_cabin_no_before = max(df_filtered.loc[df_filtered.index < passenger_index, 'CabinNumber'].dropna().unique(), default = -1 )\n",
    "                min_cabin_no_after = min(df_filtered.loc[df_filtered.index > passenger_index, 'CabinNumber'].dropna().unique(), default = -1)\n",
    "\n",
    "                if max_cabin_no_before == -1 or min_cabin_no_after == -1:\n",
    "                    continue\n",
    "\n",
    "                if max_cabin_no_before + 1 < min_cabin_no_after:\n",
    "                    \n",
    "                    all_passenger_cabin_options[passenger_index] += [f\"{deck}/{i}/{side}\" for i in range(max_cabin_no_before + 1, min_cabin_no_after)]\n",
    "\n",
    "    return all_passenger_cabin_options\n",
    "\n",
    "\n",
    "\n"
   ]
  },
  {
   "cell_type": "markdown",
   "metadata": {},
   "source": [
    "# solo group and only one room that fits"
   ]
  },
  {
   "cell_type": "code",
   "execution_count": 10,
   "metadata": {},
   "outputs": [],
   "source": [
    "def solo_group_one_cabin_option(dataframe):\n",
    "    \n",
    "    all_passenger_cabin_options = passengers_empty_cabin_options(dataframe)\n",
    "\n",
    "    for passenger_index in list(df[(df.Cabin.isna()) & (df.GroupSize == 1)].index):\n",
    "\n",
    "        if len(all_passenger_cabin_options[passenger_index]) == 1:\n",
    "            matching_cabin = all_passenger_cabin_options[passenger_index][0]\n",
    "            dataframe = impute_from_cabin_and_index(dataframe,matching_cabin,passenger_index)\n",
    "\n",
    "    return dataframe\n"
   ]
  },
  {
   "cell_type": "markdown",
   "metadata": {},
   "source": [
    "# no free rooms so has to share"
   ]
  },
  {
   "cell_type": "code",
   "execution_count": 11,
   "metadata": {},
   "outputs": [],
   "source": [
    "def no_suitable_cabin_so_shares(dataframe):\n",
    "    all_passenger_cabin_options = passengers_empty_cabin_options(dataframe)\n",
    "    \n",
    "    for passenger_index,passenger_cabin_options in all_passenger_cabin_options.items():\n",
    "        if not passenger_cabin_options:\n",
    "            \n",
    "            passenger_row = dataframe.loc[passenger_index]\n",
    "            \n",
    "            passengers_group_cabins = dataframe[(dataframe['Group'] == passenger_row['Group']) &\n",
    "                                  (dataframe['CabinDeck'].isin(passenger_row['PotentialDecks']))].dropna(subset = 'Cabin')['Cabin'].unique()\n",
    "            \n",
    "            if len(passengers_group_cabins) == 1:\n",
    "                matching_cabin = passengers_group_cabins[0]\n",
    "                dataframe = impute_from_cabin_and_index(dataframe,matching_cabin,passenger_index)\n",
    "                \n",
    "    return dataframe\n",
    "    \n"
   ]
  },
  {
   "cell_type": "markdown",
   "metadata": {},
   "source": [
    "# only passenger that can take that cabin"
   ]
  },
  {
   "cell_type": "code",
   "execution_count": 12,
   "metadata": {},
   "outputs": [],
   "source": [
    "def only_matching_passenger_for_cabin(dataframe):\n",
    "    all_passenger_cabin_options = passengers_empty_cabin_options(dataframe)\n",
    "    \n",
    "    cabins_to_fill = defaultdict(list)\n",
    "    \n",
    "    for passenger_index, cabin_options in all_passenger_cabin_options.items():\n",
    "        for cabin in cabin_options:\n",
    "            cabins_to_fill[cabin].append(passenger_index)\n",
    "    \n",
    "    # Iterate over rooms and impute passengers where only one fits\n",
    "    for cabin, passengers_indices in cabins_to_fill.items():\n",
    "        if len(passengers_indices) == 1:\n",
    "            dataframe = impute_from_cabin_and_index(dataframe, cabin, passengers_indices[0])\n",
    "    \n",
    "    return dataframe\n"
   ]
  },
  {
   "cell_type": "markdown",
   "metadata": {},
   "source": [
    "# all imputes"
   ]
  },
  {
   "cell_type": "code",
   "execution_count": 13,
   "metadata": {},
   "outputs": [
    {
     "data": {
      "text/plain": [
       "PassengerId           0\n",
       "HomePlanet           12\n",
       "CryoSleep           310\n",
       "Cabin                41\n",
       "Destination         274\n",
       "Age                 270\n",
       "VIP                 296\n",
       "RoomService         263\n",
       "FoodCourt           289\n",
       "ShoppingMall        306\n",
       "Spa                 284\n",
       "VRDeck              268\n",
       "Name                294\n",
       "Transported        4277\n",
       "Set                   0\n",
       "Group                 0\n",
       "GroupNumber           0\n",
       "CabinDeck            41\n",
       "CabinNumber          41\n",
       "CabinSide            41\n",
       "FirstName           294\n",
       "LastName            294\n",
       "Bills               785\n",
       "GroupSize             0\n",
       "PotentialDecks    12671\n",
       "PotentialSides    12671\n",
       "dtype: int64"
      ]
     },
     "execution_count": 13,
     "metadata": {},
     "output_type": "execute_result"
    }
   ],
   "source": [
    "def all_imputes(dataframe):\n",
    "    dataframe = solo_group_one_cabin_option(dataframe)\n",
    "    dataframe = no_suitable_cabin_so_shares(dataframe)\n",
    "    dataframe = only_matching_passenger_for_cabin(dataframe)\n",
    "\n",
    "    dataframe = solo_group_one_cabin_option(dataframe)\n",
    "    dataframe = no_suitable_cabin_so_shares(dataframe)\n",
    "    dataframe = only_matching_passenger_for_cabin(dataframe)\n",
    "    \n",
    "    return dataframe\n",
    "    \n",
    "df = all_imputes(df)\n",
    "df.isna().sum()"
   ]
  },
  {
   "cell_type": "markdown",
   "metadata": {},
   "source": [
    "# Manual workings\n"
   ]
  },
  {
   "cell_type": "code",
   "execution_count": 15,
   "metadata": {},
   "outputs": [],
   "source": [
    "def all_cabin_options_for_each_row(dataframe):\n",
    "    all_passenger_cabin_options = passengers_empty_cabin_options(dataframe)\n",
    "    for passenger_index, passenger_options in all_passenger_cabin_options.items():\n",
    "        print()\n",
    "        print(\"Index:\",passenger_index, \"GroupSize:\", dataframe.iloc[passenger_index].GroupSize)\n",
    "        print(\"Free cabins that match:\")\n",
    "        print(passenger_options)\n",
    "                \n",
    "             \n"
   ]
  },
  {
   "cell_type": "code",
   "execution_count": 16,
   "metadata": {},
   "outputs": [
    {
     "name": "stdout",
     "output_type": "stream",
     "text": [
      "\n",
      "Index: 404 GroupSize: 1\n",
      "Free cabins that match:\n",
      "['B/13/P', 'C/13/S']\n",
      "\n",
      "Index: 421 GroupSize: 1\n",
      "Free cabins that match:\n",
      "['B/13/P', 'C/13/S']\n",
      "\n",
      "Index: 479 GroupSize: 2\n",
      "Free cabins that match:\n",
      "['E/20/P', 'E/21/P']\n",
      "\n",
      "Index: 505 GroupSize: 2\n",
      "Free cabins that match:\n",
      "['E/20/P', 'E/21/P']\n",
      "\n",
      "Index: 517 GroupSize: 2\n",
      "Free cabins that match:\n",
      "['E/20/P', 'E/21/P']\n",
      "\n",
      "Index: 1429 GroupSize: 2\n",
      "Free cabins that match:\n",
      "['E/58/P']\n",
      "\n",
      "Index: 1466 GroupSize: 1\n",
      "Free cabins that match:\n",
      "['C/40/S', 'D/36/S', 'E/58/P']\n",
      "\n",
      "Index: 1543 GroupSize: 1\n",
      "Free cabins that match:\n",
      "['C/40/S', 'D/36/S']\n",
      "\n",
      "Index: 2442 GroupSize: 7\n",
      "Free cabins that match:\n",
      "[]\n",
      "\n",
      "Index: 2970 GroupSize: 5\n",
      "Free cabins that match:\n",
      "[]\n",
      "\n",
      "Index: 3529 GroupSize: 1\n",
      "Free cabins that match:\n",
      "['E/150/P', 'F/519/P']\n",
      "\n",
      "Index: 3530 GroupSize: 1\n",
      "Free cabins that match:\n",
      "['E/150/P', 'F/519/P']\n",
      "\n",
      "Index: 4233 GroupSize: 1\n",
      "Free cabins that match:\n",
      "['B/98/P', 'B/99/P']\n",
      "\n",
      "Index: 4254 GroupSize: 1\n",
      "Free cabins that match:\n",
      "['B/98/P', 'B/99/P']\n",
      "\n",
      "Index: 4569 GroupSize: 3\n",
      "Free cabins that match:\n",
      "[]\n",
      "\n",
      "Index: 4751 GroupSize: 7\n",
      "Free cabins that match:\n",
      "[]\n",
      "\n",
      "Index: 5016 GroupSize: 1\n",
      "Free cabins that match:\n",
      "['G/590/P', 'G/579/S']\n",
      "\n",
      "Index: 5017 GroupSize: 1\n",
      "Free cabins that match:\n",
      "['G/590/P', 'G/579/S']\n",
      "\n",
      "Index: 6493 GroupSize: 1\n",
      "Free cabins that match:\n",
      "['E/300/S', 'E/301/S']\n",
      "\n",
      "Index: 6514 GroupSize: 1\n",
      "Free cabins that match:\n",
      "['E/300/S', 'E/301/S']\n",
      "\n",
      "Index: 8413 GroupSize: 5\n",
      "Free cabins that match:\n",
      "['D/191/P']\n",
      "\n",
      "Index: 8450 GroupSize: 1\n",
      "Free cabins that match:\n",
      "['D/191/P', 'E/387/P']\n",
      "\n",
      "Index: 8465 GroupSize: 1\n",
      "Free cabins that match:\n",
      "['D/191/P', 'E/387/P']\n",
      "\n",
      "Index: 9265 GroupSize: 6\n",
      "Free cabins that match:\n",
      "['F/1267/S']\n",
      "\n",
      "Index: 9267 GroupSize: 6\n",
      "Free cabins that match:\n",
      "['F/1267/S']\n",
      "\n",
      "Index: 10081 GroupSize: 1\n",
      "Free cabins that match:\n",
      "['F/1489/P', 'G/1157/P']\n",
      "\n",
      "Index: 10082 GroupSize: 1\n",
      "Free cabins that match:\n",
      "['F/1489/P', 'G/1157/P']\n",
      "\n",
      "Index: 10290 GroupSize: 3\n",
      "Free cabins that match:\n",
      "['C/270/S']\n",
      "\n",
      "Index: 10313 GroupSize: 1\n",
      "Free cabins that match:\n",
      "['C/270/S', 'D/235/P']\n",
      "\n",
      "Index: 10394 GroupSize: 1\n",
      "Free cabins that match:\n",
      "['D/235/P', 'F/1424/S']\n",
      "\n",
      "Index: 10408 GroupSize: 1\n",
      "Free cabins that match:\n",
      "['F/1424/S', 'G/1206/S']\n",
      "\n",
      "Index: 10411 GroupSize: 2\n",
      "Free cabins that match:\n",
      "['F/1424/S', 'G/1206/S']\n",
      "\n",
      "Index: 10434 GroupSize: 1\n",
      "Free cabins that match:\n",
      "['F/1544/P', 'F/1424/S', 'G/1212/S']\n",
      "\n",
      "Index: 10440 GroupSize: 1\n",
      "Free cabins that match:\n",
      "['F/1544/P', 'G/1212/S', 'D/235/P']\n",
      "\n",
      "Index: 11129 GroupSize: 1\n",
      "Free cabins that match:\n",
      "['C/298/S', 'E/528/S']\n",
      "\n",
      "Index: 11148 GroupSize: 1\n",
      "Free cabins that match:\n",
      "['C/298/S', 'E/528/S']\n",
      "\n",
      "Index: 12174 GroupSize: 8\n",
      "Free cabins that match:\n",
      "[]\n",
      "\n",
      "Index: 12651 GroupSize: 2\n",
      "Free cabins that match:\n",
      "['A/94/P']\n",
      "\n",
      "Index: 12668 GroupSize: 5\n",
      "Free cabins that match:\n",
      "['A/94/P']\n",
      "\n",
      "Index: 12892 GroupSize: 2\n",
      "Free cabins that match:\n",
      "['F/1785/S']\n",
      "\n",
      "Index: 12893 GroupSize: 2\n",
      "Free cabins that match:\n",
      "['F/1785/S']\n"
     ]
    }
   ],
   "source": [
    "all_cabin_options_for_each_row(df)"
   ]
  },
  {
   "cell_type": "code",
   "execution_count": 17,
   "metadata": {},
   "outputs": [
    {
     "data": {
      "text/plain": [
       "\"\\ndf.loc[12892,'Cabin'] = 'F/1785/S' # maybe only one is from this room and the other is joined in the other room\\ndf.loc[12893,'Cabin'] = 'F/1785/S'\""
      ]
     },
     "execution_count": 17,
     "metadata": {},
     "output_type": "execute_result"
    }
   ],
   "source": [
    "\n",
    "\n",
    "\n",
    "\n",
    "cabin_list = [(1429,'E/58/P'),(8413,'A/57/P'),(9265,'F/1267/S'),(9267,'F/1267/S'),(4233,'B/98/P'),(4254,'B/99/P'),(6493,'E/300/S'),(6514,'E/301/S')]\n",
    "\n",
    "for index,cabin in cabin_list:\n",
    "    impute_from_cabin_and_index(df,cabin,index)\n",
    "\n",
    "\"\"\"\n",
    "df.loc[12892,'Cabin'] = 'F/1785/S' # maybe only one is from this room and the other is joined in the other room\n",
    "df.loc[12893,'Cabin'] = 'F/1785/S'\"\"\""
   ]
  },
  {
   "cell_type": "code",
   "execution_count": 18,
   "metadata": {},
   "outputs": [],
   "source": [
    "traindata = df[df.Set == 'Train']\n",
    "testdata = df[df.Set == 'Test']"
   ]
  },
  {
   "cell_type": "markdown",
   "metadata": {},
   "source": [
    "# End\n"
   ]
  },
  {
   "cell_type": "code",
   "execution_count": 19,
   "metadata": {},
   "outputs": [],
   "source": [
    "df_to_comp = pd.read_csv('data/31remaining.csv')\n",
    "df_to_comp = df_to_comp.rename(columns = {'Number':'CabinNumber'})\n",
    "df_to_comp['CabinNumber'] = df_to_comp['CabinNumber'].astype('Int64')\n"
   ]
  },
  {
   "cell_type": "code",
   "execution_count": 20,
   "metadata": {},
   "outputs": [
    {
     "name": "stdout",
     "output_type": "stream",
     "text": [
      "12892 nan F/1785/S\n",
      "12893 nan F/1785/S\n"
     ]
    }
   ],
   "source": [
    "for index,row in df.iterrows():\n",
    "    if not (pd.isna(row.Cabin) and pd.isna(df_to_comp.iloc[index].Cabin)):\n",
    "        if row.Cabin != df_to_comp.iloc[index].Cabin:\n",
    "            print(index,row.Cabin, df_to_comp.iloc[index].Cabin)"
   ]
  },
  {
   "cell_type": "code",
   "execution_count": null,
   "metadata": {},
   "outputs": [],
   "source": []
  }
 ],
 "metadata": {
  "kernelspec": {
   "display_name": "spaceenv",
   "language": "python",
   "name": "python3"
  },
  "language_info": {
   "codemirror_mode": {
    "name": "ipython",
    "version": 3
   },
   "file_extension": ".py",
   "mimetype": "text/x-python",
   "name": "python",
   "nbconvert_exporter": "python",
   "pygments_lexer": "ipython3",
   "version": "3.9.6"
  }
 },
 "nbformat": 4,
 "nbformat_minor": 2
}
