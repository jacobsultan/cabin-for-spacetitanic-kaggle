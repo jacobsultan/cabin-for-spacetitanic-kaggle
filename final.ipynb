{
 "cells": [
  {
   "cell_type": "markdown",
   "metadata": {},
   "source": [
    "# preprocessing"
   ]
  },
  {
   "cell_type": "code",
   "execution_count": 59,
   "metadata": {},
   "outputs": [],
   "source": [
    "import pandas as pd\n",
    "\n",
    "traindata = pd.read_csv('data/train.csv')\n",
    "testdata = pd.read_csv('data/test.csv')\n",
    "traindata['Set'] = 'Train'\n",
    "testdata['Set'] = 'Test'\n",
    "df = pd.concat([traindata,testdata])\n"
   ]
  },
  {
   "cell_type": "code",
   "execution_count": 60,
   "metadata": {},
   "outputs": [],
   "source": [
    "def splits(data_frame):\n",
    "    split_df = data_frame['PassengerId'].str.split('_', expand=True)\n",
    "    data_frame[['Group', 'GroupNumber']] = split_df\n",
    "\n",
    "    split_df =  data_frame['Cabin'].str.split(\"/\", expand = True)\n",
    "    data_frame[['Deck', 'CabinNumber', 'Side']]= split_df\n",
    "    data_frame.CabinNumber = data_frame.CabinNumber.astype('Int64')\n",
    "    \n",
    "    split_df = data_frame['Name'].str.split(\" \",expand = True)\n",
    "    data_frame[['FirstName','LastName']] = split_df\n",
    "\n",
    "\n",
    "    return data_frame\n",
    "\n",
    "df = splits(df)\n"
   ]
  },
  {
   "cell_type": "code",
   "execution_count": 61,
   "metadata": {},
   "outputs": [],
   "source": [
    "def calculate_group_size(dataframe):\n",
    "    # Calculate group sizes and assign directly to a new column\n",
    "    dataframe['GroupSize'] = dataframe.groupby('Group')['Group'].transform('count')\n",
    "    return dataframe\n",
    "\n",
    "\n",
    "df = calculate_group_size(df)\n",
    "\n",
    "df['Bills'] = df['RoomService'] + df['FoodCourt'] + df['ShoppingMall'] + df['Spa'] + df['VRDeck']\n",
    "df.loc[(df['Age'] < 13), 'Bills'] = 0\n",
    "df.loc[(df['CryoSleep'] == True),'Bills'] = 0 \n",
    "    \n",
    "    \n",
    "    \n",
    "\n",
    "\n",
    "    \n"
   ]
  },
  {
   "cell_type": "code",
   "execution_count": 62,
   "metadata": {},
   "outputs": [],
   "source": [
    "\n",
    "def fill_potential_decks(dataframe):\n",
    "    \n",
    "    \n",
    "    potential_decks_by_homeplanet = {\n",
    "    'Earth':['E','F','G'],\n",
    "    'Europa': ['A','B','C','D','E','T'],\n",
    "    'Mars': ['D','E','F']\n",
    "    }\n",
    "\n",
    "    potential_decks_by_homeplanet_no_bills = {\n",
    "        'Earth':['G'],\n",
    "        'Europa':['B'],\n",
    "        'Mars': ['E','F']\n",
    "    }\n",
    "    \n",
    "    def func_potential_decks_apply(row):\n",
    "        if pd.isna(row.Cabin):\n",
    "            if row.Bills == 0 and not pd.isna(row.HomePlanet):\n",
    "                if len(dataframe[dataframe.Group == row.Group].dropna(subset = 'Deck').Deck.unique()) > 1:\n",
    "                    return potential_decks_by_homeplanet_no_bills[row.HomePlanet]\n",
    "                \n",
    "            if not pd.isna(row.HomePlanet):\n",
    "                return potential_decks_by_homeplanet[row.HomePlanet]\n",
    "            \n",
    "            else:\n",
    "                return list(dataframe.dropna(subset = ['Deck']).Deck.unique())\n",
    "            \n",
    "    dataframe['potential_decks'] = dataframe.apply(func_potential_decks_apply,axis = 1)\n",
    "    return dataframe\n",
    "    \n",
    "            \n",
    "\n",
    "def fill_potential_sides(dataframe):\n",
    "    \n",
    "    def func_potential_sides_apply(row):\n",
    "        if pd.isna(row.Cabin):\n",
    "            if row.GroupSize > 1:\n",
    "                group = dataframe[dataframe.Group == row.Group].dropna(subset = 'Side')\n",
    "                if len(group) > 0:\n",
    "                    return [group.iloc[0].Side]\n",
    "            return ['P','S']\n",
    "        \n",
    "    dataframe['potential_sides'] = dataframe.apply(func_potential_sides_apply,axis = 1)\n",
    "    return dataframe\n",
    "    \n",
    "    \n",
    "df = fill_potential_decks(df)\n",
    "df = fill_potential_sides(df)\n",
    "\n"
   ]
  },
  {
   "cell_type": "code",
   "execution_count": 63,
   "metadata": {},
   "outputs": [],
   "source": [
    "def impute_based_on_shared_features(dataframe,attribute,shared_feature):\n",
    "    for index, row in dataframe[dataframe[attribute].isna()].iterrows():\n",
    "        # Find the group sharing the same feature value, excluding missing values in the attribute\n",
    "        entries_with_shared_feature = dataframe[dataframe[shared_feature] == row[shared_feature]].dropna(subset=[attribute])\n",
    "        \n",
    "        if not entries_with_shared_feature.empty:\n",
    "            # Assign the first non-missing value of the attribute in the group to the missing value\n",
    "            dataframe.loc[index, attribute] = entries_with_shared_feature[attribute].iloc[0]\n",
    "\n",
    "    return dataframe\n",
    "\n",
    "df = impute_based_on_shared_features(df,'HomePlanet','Group')\n",
    "df = impute_based_on_shared_features(df,'HomePlanet','LastName')"
   ]
  },
  {
   "cell_type": "code",
   "execution_count": 64,
   "metadata": {},
   "outputs": [],
   "source": [
    "df = df.sort_values(by = ['Group','GroupNumber'])\n",
    "df = df.reset_index(drop = True)\n"
   ]
  },
  {
   "cell_type": "markdown",
   "metadata": {},
   "source": [
    "# workings 2"
   ]
  },
  {
   "cell_type": "code",
   "execution_count": 65,
   "metadata": {},
   "outputs": [],
   "source": [
    "def room_number_constraints_for_passengers(dataframe):\n",
    "    passenger_options = {}\n",
    "    passengers_without_cabin = dataframe[dataframe['Cabin'].isna()]\n",
    "\n",
    "    for index, passenger in passengers_without_cabin.iterrows():\n",
    "        potential_options = {}\n",
    "\n",
    "        for deck in passenger.potential_decks:\n",
    "            for side in passenger.potential_sides:\n",
    "                mask = (dataframe['Deck'] == deck) & (dataframe['Side'] == side)\n",
    "\n",
    "                # Get the rooms before and after the current passenger index\n",
    "                before = dataframe.loc[mask & (dataframe.index < index), 'CabinNumber'].dropna().unique()\n",
    "                after = dataframe.loc[mask & (dataframe.index > index), 'CabinNumber'].dropna().unique()\n",
    "                \n",
    "                if len(before) == 0 or len(after) == 0:\n",
    "                    continue\n",
    "                \n",
    "                elif max(before) + 1 >= min(after):\n",
    "                    continue\n",
    "                \n",
    "                else:\n",
    "                    if deck not in potential_options:\n",
    "                        potential_options[deck] = {}\n",
    "                    \n",
    "                    potential_options[deck][side] = [i  for i in range(max(before) + 1, min(after))]\n",
    "        \n",
    "\n",
    "        passenger_options[index] = potential_options\n",
    "\n",
    "    return passenger_options\n",
    "\n",
    "\n",
    "\n"
   ]
  },
  {
   "cell_type": "markdown",
   "metadata": {},
   "source": [
    "# solo group and only one room that fits"
   ]
  },
  {
   "cell_type": "markdown",
   "metadata": {},
   "source": [
    "# this should all be changed to see if theres only a single entry in the room_number_constraints_for passengers"
   ]
  },
  {
   "cell_type": "code",
   "execution_count": 88,
   "metadata": {},
   "outputs": [],
   "source": [
    "def solo_group_one_option(dataframe):\n",
    "    potential_options = room_number_constraints_for_passengers(dataframe)\n",
    "\n",
    "    for index,passenger in potential_options.items():\n",
    "        if dataframe.iloc[index].GroupSize != 1:\n",
    "            continue\n",
    "        empty_cabin_options_for_passenger = []\n",
    "        \n",
    "        refresh_options = False\n",
    "        \n",
    "        \n",
    "         \n",
    "        for deck in passenger.keys():\n",
    "            for side in passenger[deck].keys():\n",
    "                for number in passenger[deck][side]:\n",
    "                    empty_cabin_options_for_passenger.append(f\"{deck}/{number}/{side}\")\n",
    "        \n",
    "\n",
    "        if len(empty_cabin_options_for_passenger) == 1:\n",
    "            cabin = empty_cabin_options_for_passenger[0]\n",
    "            dataframe.loc[index,['Cabin','Deck','CabinNumber','Side']] = [cabin,cabin.split(\"/\")[0],int(cabin.split(\"/\")[1]),cabin.split(\"/\")[2]]\n",
    "            if refresh_options:\n",
    "                potential_options = room_number_constraints_for_passengers(dataframe)\n",
    "                \n",
    "\n",
    "    return dataframe\n"
   ]
  },
  {
   "cell_type": "code",
   "execution_count": 89,
   "metadata": {},
   "outputs": [
    {
     "data": {
      "text/plain": [
       "PassengerId            0\n",
       "HomePlanet            12\n",
       "CryoSleep            310\n",
       "Cabin                 46\n",
       "Destination          274\n",
       "Age                  270\n",
       "VIP                  296\n",
       "RoomService          263\n",
       "FoodCourt            289\n",
       "ShoppingMall         306\n",
       "Spa                  284\n",
       "VRDeck               268\n",
       "Name                 294\n",
       "Transported         4277\n",
       "Set                    0\n",
       "Group                  0\n",
       "GroupNumber            0\n",
       "Deck                  46\n",
       "CabinNumber           46\n",
       "Side                  46\n",
       "FirstName            294\n",
       "LastName             294\n",
       "GroupSize              0\n",
       "Bills                785\n",
       "potential_decks    12671\n",
       "potential_sides    12671\n",
       "dtype: int64"
      ]
     },
     "execution_count": 89,
     "metadata": {},
     "output_type": "execute_result"
    }
   ],
   "source": [
    "df = solo_group_one_option(df)\n",
    "df.isna().sum()"
   ]
  },
  {
   "cell_type": "markdown",
   "metadata": {},
   "source": [
    "# no free rooms so has to share"
   ]
  },
  {
   "cell_type": "code",
   "execution_count": 90,
   "metadata": {},
   "outputs": [],
   "source": [
    "def no_free_rooms_so_shares(dataframe):\n",
    "    potential_options = room_number_constraints_for_passengers(dataframe)\n",
    "    \n",
    "    for index,passenger in potential_options.items():\n",
    "        \n",
    "        if not bool(passenger):\n",
    "            row = dataframe.loc[index]\n",
    "            potential_cabins = dataframe[(dataframe['Group'] == row['Group']) &\n",
    "                                  (dataframe.index != index) &\n",
    "                                  (dataframe['Deck'].isin(row['potential_decks'])) &\n",
    "                                  (dataframe['Side'].isin(row['potential_sides']))]['Cabin'].unique()\n",
    "            if len(potential_cabins) == 1:\n",
    "                cabin = potential_cabins[0]\n",
    "                dataframe.loc[index,['Cabin','Deck','CabinNumber','Side']] = [cabin,cabin.split(\"/\")[0],int(cabin.split(\"/\")[1]),cabin.split(\"/\")[2]]\n",
    "    return dataframe\n",
    "    \n"
   ]
  },
  {
   "cell_type": "code",
   "execution_count": 91,
   "metadata": {},
   "outputs": [
    {
     "data": {
      "text/plain": [
       "PassengerId            0\n",
       "HomePlanet            12\n",
       "CryoSleep            310\n",
       "Cabin                 46\n",
       "Destination          274\n",
       "Age                  270\n",
       "VIP                  296\n",
       "RoomService          263\n",
       "FoodCourt            289\n",
       "ShoppingMall         306\n",
       "Spa                  284\n",
       "VRDeck               268\n",
       "Name                 294\n",
       "Transported         4277\n",
       "Set                    0\n",
       "Group                  0\n",
       "GroupNumber            0\n",
       "Deck                  46\n",
       "CabinNumber           46\n",
       "Side                  46\n",
       "FirstName            294\n",
       "LastName             294\n",
       "GroupSize              0\n",
       "Bills                785\n",
       "potential_decks    12671\n",
       "potential_sides    12671\n",
       "dtype: int64"
      ]
     },
     "execution_count": 91,
     "metadata": {},
     "output_type": "execute_result"
    }
   ],
   "source": [
    "df = no_free_rooms_so_shares(df)\n",
    "df.isna().sum()"
   ]
  },
  {
   "cell_type": "markdown",
   "metadata": {},
   "source": [
    "# only passenger that can take that cabin"
   ]
  },
  {
   "cell_type": "code",
   "execution_count": 92,
   "metadata": {},
   "outputs": [],
   "source": [
    "\n",
    "                    \n",
    "def rooms_to_fill(dataframe):\n",
    "    rooms = {}\n",
    "    for deck in list(dataframe.dropna(subset = ['Deck']).Deck.unique()):\n",
    "        rooms[deck] = {'P': [], 'S': []} \n",
    "        for side in rooms[deck].keys():\n",
    "            rooms_seen = dataframe[(dataframe.Deck == deck) & (dataframe.Side == side) & (dataframe.CabinNumber.notna())].CabinNumber.astype(int).tolist()\n",
    "            largest_room_number = max(rooms_seen, default=-1) \n",
    "\n",
    "            for i in range(largest_room_number + 1):\n",
    "                if i not in rooms_seen:\n",
    "                    rooms[deck][side].append(f\"{deck}/{i}/{side}\")\n",
    "\n",
    "    return rooms\n",
    "           "
   ]
  },
  {
   "cell_type": "code",
   "execution_count": 93,
   "metadata": {},
   "outputs": [],
   "source": [
    "def only_passenger_that_fits(dataframe):\n",
    "    free_rooms_dict = rooms_to_fill(dataframe)\n",
    "    free_passengers = room_number_constraints_for_passengers(dataframe)\n",
    "    for deck,deck_items in free_rooms_dict.items():\n",
    "        for side,side_items in deck_items.items():\n",
    "            for cabin in side_items:\n",
    "                \n",
    "                room_number = int(cabin.split('/')[1])\n",
    "                passenger_options_for_empty_cabins = []\n",
    "                \n",
    "                for passenger_ind,passenger in free_passengers.items():\n",
    "                    if deck not in passenger or side not in passenger[deck]:\n",
    "                        continue\n",
    "                    \n",
    "                    if room_number in passenger[deck][side]:\n",
    "                        passenger_options_for_empty_cabins.append(passenger_ind)\n",
    "                        \n",
    "                if len(passenger_options_for_empty_cabins) == 1:\n",
    "                    passenger_to_fill_ind = passenger_options_for_empty_cabins[0]\n",
    "                    \n",
    "                    dataframe.loc[passenger_to_fill_ind,['Cabin','Deck','CabinNumber','Side']] = [cabin,cabin.split(\"/\")[0],int(cabin.split(\"/\")[1]),cabin.split(\"/\")[2]]\n",
    "                    \n",
    "                            \n",
    "    return dataframe\n",
    "    "
   ]
  },
  {
   "cell_type": "code",
   "execution_count": 94,
   "metadata": {},
   "outputs": [],
   "source": [
    "df = only_passenger_that_fits(df)"
   ]
  },
  {
   "cell_type": "code",
   "execution_count": 95,
   "metadata": {},
   "outputs": [
    {
     "data": {
      "text/plain": [
       "PassengerId            0\n",
       "HomePlanet            12\n",
       "CryoSleep            310\n",
       "Cabin                 41\n",
       "Destination          274\n",
       "Age                  270\n",
       "VIP                  296\n",
       "RoomService          263\n",
       "FoodCourt            289\n",
       "ShoppingMall         306\n",
       "Spa                  284\n",
       "VRDeck               268\n",
       "Name                 294\n",
       "Transported         4277\n",
       "Set                    0\n",
       "Group                  0\n",
       "GroupNumber            0\n",
       "Deck                  41\n",
       "CabinNumber           41\n",
       "Side                  41\n",
       "FirstName            294\n",
       "LastName             294\n",
       "GroupSize              0\n",
       "Bills                785\n",
       "potential_decks    12671\n",
       "potential_sides    12671\n",
       "dtype: int64"
      ]
     },
     "execution_count": 95,
     "metadata": {},
     "output_type": "execute_result"
    }
   ],
   "source": [
    "df.isna().sum()"
   ]
  },
  {
   "cell_type": "markdown",
   "metadata": {},
   "source": [
    "# all imputes"
   ]
  },
  {
   "cell_type": "code",
   "execution_count": 13,
   "metadata": {},
   "outputs": [
    {
     "ename": "IndexError",
     "evalue": "list index out of range",
     "output_type": "error",
     "traceback": [
      "\u001b[0;31m---------------------------------------------------------------------------\u001b[0m",
      "\u001b[0;31mIndexError\u001b[0m                                Traceback (most recent call last)",
      "Cell \u001b[0;32mIn[13], line 12\u001b[0m\n\u001b[1;32m      8\u001b[0m     dataframe \u001b[38;5;241m=\u001b[39m only_passenger_that_fits(dataframe)\n\u001b[1;32m     10\u001b[0m     \u001b[38;5;28;01mreturn\u001b[39;00m dataframe\n\u001b[0;32m---> 12\u001b[0m df \u001b[38;5;241m=\u001b[39m \u001b[43mall_imputes\u001b[49m\u001b[43m(\u001b[49m\u001b[43mdf\u001b[49m\u001b[43m)\u001b[49m\n\u001b[1;32m     13\u001b[0m df\u001b[38;5;241m.\u001b[39misna()\u001b[38;5;241m.\u001b[39msum()\n",
      "Cell \u001b[0;32mIn[13], line 3\u001b[0m, in \u001b[0;36mall_imputes\u001b[0;34m(dataframe)\u001b[0m\n\u001b[1;32m      1\u001b[0m \u001b[38;5;28;01mdef\u001b[39;00m \u001b[38;5;21mall_imputes\u001b[39m(dataframe):\n\u001b[1;32m      2\u001b[0m     dataframe \u001b[38;5;241m=\u001b[39m solo_group_one_option(dataframe)\n\u001b[0;32m----> 3\u001b[0m     dataframe \u001b[38;5;241m=\u001b[39m \u001b[43mno_free_rooms_so_shares\u001b[49m\u001b[43m(\u001b[49m\u001b[43mdataframe\u001b[49m\u001b[43m)\u001b[49m\n\u001b[1;32m      4\u001b[0m     dataframe \u001b[38;5;241m=\u001b[39m only_passenger_that_fits(dataframe)\n\u001b[1;32m      6\u001b[0m     dataframe \u001b[38;5;241m=\u001b[39m solo_group_one_option(dataframe)\n",
      "Cell \u001b[0;32mIn[10], line 10\u001b[0m, in \u001b[0;36mno_free_rooms_so_shares\u001b[0;34m(dataframe)\u001b[0m\n\u001b[1;32m      8\u001b[0m     \u001b[38;5;28;01mfor\u001b[39;00m side \u001b[38;5;129;01min\u001b[39;00m passenger_potential_options[deck]:\n\u001b[1;32m      9\u001b[0m         numbers \u001b[38;5;241m=\u001b[39m passenger_potential_options[deck][side]\n\u001b[0;32m---> 10\u001b[0m         \u001b[38;5;28;01mif\u001b[39;00m numbers[\u001b[38;5;241m0\u001b[39m] \u001b[38;5;241m+\u001b[39m \u001b[38;5;241m2\u001b[39m \u001b[38;5;241m<\u001b[39m\u001b[38;5;241m=\u001b[39m \u001b[43mnumbers\u001b[49m\u001b[43m[\u001b[49m\u001b[38;5;241;43m1\u001b[39;49m\u001b[43m]\u001b[49m \u001b[38;5;129;01mand\u001b[39;00m numbers[\u001b[38;5;241m0\u001b[39m] \u001b[38;5;241m>\u001b[39m\u001b[38;5;241m=\u001b[39m \u001b[38;5;241m0\u001b[39m:\n\u001b[1;32m     11\u001b[0m             empty_cabin_options_for_passenger \u001b[38;5;241m+\u001b[39m\u001b[38;5;241m=\u001b[39m \u001b[38;5;241m1\u001b[39m\n\u001b[1;32m     13\u001b[0m \u001b[38;5;28;01mif\u001b[39;00m empty_cabin_options_for_passenger \u001b[38;5;241m==\u001b[39m \u001b[38;5;241m0\u001b[39m:\n",
      "\u001b[0;31mIndexError\u001b[0m: list index out of range"
     ]
    }
   ],
   "source": [
    "def all_imputes(dataframe):\n",
    "    dataframe = solo_group_one_option(dataframe)\n",
    "    dataframe = no_free_rooms_so_shares(dataframe)\n",
    "    dataframe = only_passenger_that_fits(dataframe)\n",
    "\n",
    "    dataframe = solo_group_one_option(dataframe)\n",
    "    dataframe = no_free_rooms_so_shares(dataframe)\n",
    "    dataframe = only_passenger_that_fits(dataframe)\n",
    "    \n",
    "    return dataframe\n",
    "    \n",
    "df = all_imputes(df)\n",
    "df.isna().sum()"
   ]
  },
  {
   "cell_type": "markdown",
   "metadata": {},
   "source": [
    "# workings\n"
   ]
  },
  {
   "cell_type": "code",
   "execution_count": 43,
   "metadata": {},
   "outputs": [],
   "source": [
    "def all_cabin_options_for_each_row(dataframe):\n",
    "    options = room_number_constraints_for_passengers(dataframe)\n",
    "    for index, passenger in options.items():\n",
    "        print()\n",
    "        print(\"Index:\",index, \"GroupSize:\", dataframe.iloc[index].GroupSize)\n",
    "        print(\"Free cabins that match:\")\n",
    "        for deck in passenger.keys():\n",
    "            for side, numbers in passenger[deck].items():\n",
    "                print(deck,side,numbers)\n",
    "                \n",
    "             \n"
   ]
  },
  {
   "cell_type": "code",
   "execution_count": 55,
   "metadata": {},
   "outputs": [],
   "source": [
    "df_to_comp = df_to_comp.rename(columns = {'Number':'CabinNumber'})\n"
   ]
  },
  {
   "cell_type": "code",
   "execution_count": 57,
   "metadata": {},
   "outputs": [],
   "source": [
    "df_to_comp['CabinNumber'] = df_to_comp['CabinNumber'].astype('Int64')"
   ]
  },
  {
   "cell_type": "code",
   "execution_count": 58,
   "metadata": {},
   "outputs": [
    {
     "name": "stdout",
     "output_type": "stream",
     "text": [
      "\n",
      "Index: 404 GroupSize: 1\n",
      "Free cabins that match:\n",
      "B P [13]\n",
      "C S [13]\n",
      "\n",
      "Index: 421 GroupSize: 1\n",
      "Free cabins that match:\n",
      "B P [13]\n",
      "C S [13]\n",
      "\n",
      "Index: 479 GroupSize: 2\n",
      "Free cabins that match:\n",
      "E P [20, 21]\n",
      "\n",
      "Index: 505 GroupSize: 2\n",
      "Free cabins that match:\n",
      "E P [20, 21]\n",
      "\n",
      "Index: 517 GroupSize: 2\n",
      "Free cabins that match:\n",
      "E P [20, 21]\n",
      "\n",
      "Index: 1466 GroupSize: 1\n",
      "Free cabins that match:\n",
      "C S [40]\n",
      "D S [36]\n",
      "\n",
      "Index: 1543 GroupSize: 1\n",
      "Free cabins that match:\n",
      "C S [40]\n",
      "D S [36]\n",
      "\n",
      "Index: 2442 GroupSize: 7\n",
      "Free cabins that match:\n",
      "\n",
      "Index: 2970 GroupSize: 5\n",
      "Free cabins that match:\n",
      "\n",
      "Index: 3529 GroupSize: 1\n",
      "Free cabins that match:\n",
      "E P [150]\n",
      "F P [519]\n",
      "\n",
      "Index: 3530 GroupSize: 1\n",
      "Free cabins that match:\n",
      "E P [150]\n",
      "F P [519]\n",
      "\n",
      "Index: 4569 GroupSize: 3\n",
      "Free cabins that match:\n",
      "\n",
      "Index: 4751 GroupSize: 7\n",
      "Free cabins that match:\n",
      "\n",
      "Index: 5016 GroupSize: 1\n",
      "Free cabins that match:\n",
      "G P [590]\n",
      "G S [579]\n",
      "\n",
      "Index: 5017 GroupSize: 1\n",
      "Free cabins that match:\n",
      "G P [590]\n",
      "G S [579]\n",
      "\n",
      "Index: 8450 GroupSize: 1\n",
      "Free cabins that match:\n",
      "D P [191]\n",
      "E P [387]\n",
      "\n",
      "Index: 8465 GroupSize: 1\n",
      "Free cabins that match:\n",
      "D P [191]\n",
      "E P [387]\n",
      "\n",
      "Index: 10081 GroupSize: 1\n",
      "Free cabins that match:\n",
      "F P [1489]\n",
      "G P [1157]\n",
      "\n",
      "Index: 10082 GroupSize: 1\n",
      "Free cabins that match:\n",
      "F P [1489]\n",
      "G P [1157]\n",
      "\n",
      "Index: 10290 GroupSize: 3\n",
      "Free cabins that match:\n",
      "C S [270]\n",
      "\n",
      "Index: 10313 GroupSize: 1\n",
      "Free cabins that match:\n",
      "C S [270]\n",
      "D P [235]\n",
      "\n",
      "Index: 10394 GroupSize: 1\n",
      "Free cabins that match:\n",
      "D P [235]\n",
      "F S [1424]\n",
      "\n",
      "Index: 10408 GroupSize: 1\n",
      "Free cabins that match:\n",
      "F S [1424]\n",
      "G S [1206]\n",
      "\n",
      "Index: 10411 GroupSize: 2\n",
      "Free cabins that match:\n",
      "F S [1424]\n",
      "G S [1206]\n",
      "\n",
      "Index: 10434 GroupSize: 1\n",
      "Free cabins that match:\n",
      "F P [1544]\n",
      "F S [1424]\n",
      "G S [1212]\n",
      "\n",
      "Index: 10440 GroupSize: 1\n",
      "Free cabins that match:\n",
      "F P [1544]\n",
      "G S [1212]\n",
      "\n",
      "Index: 11129 GroupSize: 1\n",
      "Free cabins that match:\n",
      "C S [298]\n",
      "E S [528]\n",
      "\n",
      "Index: 11148 GroupSize: 1\n",
      "Free cabins that match:\n",
      "C S [298]\n",
      "E S [528]\n",
      "\n",
      "Index: 12174 GroupSize: 8\n",
      "Free cabins that match:\n",
      "\n",
      "Index: 12651 GroupSize: 2\n",
      "Free cabins that match:\n",
      "A P [94]\n",
      "\n",
      "Index: 12668 GroupSize: 5\n",
      "Free cabins that match:\n",
      "A P [94]\n"
     ]
    }
   ],
   "source": [
    "all_cabin_options_for_each_row(df_to_comp)"
   ]
  },
  {
   "cell_type": "code",
   "execution_count": null,
   "metadata": {},
   "outputs": [],
   "source": [
    "def update_cabins(dataframe, cabin_list):\n",
    "    for index, cabin in cabin_list:\n",
    "        dataframe.loc[index, ['Cabin', 'Deck', 'Number', 'Side']] = [cabin,cabin.split(\"/\")[0],int(cabin.split(\"/\")[1]),cabin.split(\"/\")[2]]\n",
    "    return dataframe\n",
    "\n",
    "cabin_list = [(1429,'E/58/P'),(8413,'A/57/P'),(9265,'F/1267/S'),(9267,'F/1267/S')]\n",
    "\n",
    "df = update_cabins(df,cabin_list)\n",
    "\n",
    "\n",
    "\n",
    "df.loc[12892,'Cabin'] = 'F/1785/S' # maybe only one is from this room and the other is joined in the other room\n",
    "df.loc[12893,'Cabin'] = 'F/1785/S'"
   ]
  },
  {
   "cell_type": "code",
   "execution_count": null,
   "metadata": {},
   "outputs": [],
   "source": [
    "traindata = df[df.Set == 'Train']\n",
    "testdata = df[df.Set == 'Test']"
   ]
  },
  {
   "cell_type": "markdown",
   "metadata": {},
   "source": [
    "# End\n"
   ]
  },
  {
   "cell_type": "code",
   "execution_count": 40,
   "metadata": {},
   "outputs": [],
   "source": [
    "df_to_comp = pd.read_csv('data/31remaining.csv')"
   ]
  },
  {
   "cell_type": "code",
   "execution_count": 87,
   "metadata": {},
   "outputs": [
    {
     "name": "stdout",
     "output_type": "stream",
     "text": [
      "1251 nan F/181/P\n",
      "1429 nan E/58/P\n",
      "3484 nan E/174/S\n",
      "3701 nan E/161/P\n",
      "4233 nan B/98/P\n",
      "4254 nan B/99/P\n",
      "6493 nan E/300/S\n",
      "6514 nan E/301/S\n",
      "7576 nan G/874/S\n",
      "8413 nan A/57/P\n",
      "9265 nan F/1267/S\n",
      "9267 nan F/1267/S\n",
      "11074 nan G/1286/P\n",
      "12892 nan F/1785/S\n",
      "12893 nan F/1785/S\n"
     ]
    }
   ],
   "source": [
    "for index,row in df.iterrows():\n",
    "    if not (pd.isna(row.Cabin) and pd.isna(df_to_comp.iloc[index].Cabin)):\n",
    "        if row.Cabin != df_to_comp.iloc[index].Cabin:\n",
    "            print(index,row.Cabin, df_to_comp.iloc[index].Cabin)"
   ]
  }
 ],
 "metadata": {
  "kernelspec": {
   "display_name": "spaceenv",
   "language": "python",
   "name": "python3"
  },
  "language_info": {
   "codemirror_mode": {
    "name": "ipython",
    "version": 3
   },
   "file_extension": ".py",
   "mimetype": "text/x-python",
   "name": "python",
   "nbconvert_exporter": "python",
   "pygments_lexer": "ipython3",
   "version": "3.9.6"
  }
 },
 "nbformat": 4,
 "nbformat_minor": 2
}
