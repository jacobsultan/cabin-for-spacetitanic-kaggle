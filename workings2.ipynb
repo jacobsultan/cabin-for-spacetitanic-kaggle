{
 "cells": [
  {
   "cell_type": "markdown",
   "metadata": {},
   "source": [
    "# deck,deck_name in dict.items()"
   ]
  },
  {
   "cell_type": "code",
   "execution_count": 723,
   "metadata": {},
   "outputs": [],
   "source": [
    "import pandas as pd\n",
    "import numpy as np\n",
    "\n",
    "df = pd.read_csv('pre_processed.csv')\n",
    "df.Number = df.Number.astype('Int64')\n",
    "\n"
   ]
  },
  {
   "cell_type": "code",
   "execution_count": 724,
   "metadata": {},
   "outputs": [],
   "source": [
    "original = pd.read_csv('pre_processed.csv')"
   ]
  },
  {
   "cell_type": "code",
   "execution_count": 725,
   "metadata": {},
   "outputs": [],
   "source": [
    "\n",
    "def fill_deck_and_side_from_cabin(df):\n",
    "    # Define a mask to identify rows where 'Number' is NaN and 'Cabin' is not NaN\n",
    "    mask = df['Number'].isna() & df['Cabin'].notna()\n",
    "    \n",
    "    # Use the mask to update only the filtered rows, converting types appropriately\n",
    "    df.loc[mask, ['Deck', 'Number', 'Side']] = df.loc[mask, 'Cabin'].apply(\n",
    "        lambda x: pd.Series({\n",
    "            'Deck': x.split('/')[0],\n",
    "            'Number': int(x.split('/')[1]),  # Explicit conversion to integer here\n",
    "            'Side': x.split('/')[2]\n",
    "        })\n",
    "    )\n",
    "\n",
    "    return df"
   ]
  },
  {
   "cell_type": "code",
   "execution_count": 726,
   "metadata": {},
   "outputs": [],
   "source": [
    "decks_by_planet = {\n",
    "    'Earth':['E','F','G'],\n",
    "    'Europa': ['A','B','C','D','E','T'],\n",
    "    'Mars': ['D','E','F']\n",
    "}\n",
    "\n",
    "decks_by_planet_no_bills = {\n",
    "    'Earth':['G'],\n",
    "    'Europa':['B'],\n",
    "    'Mars': ['E','F']\n",
    "}\n",
    "\n",
    "planet_by_deck = {\n",
    "    'A':['Europa'],'B':['Europa'],'C':['Europa'],'D':['Europa','Mars'],'E':['Europa','Mars','Earth'],\n",
    "    'F':['Earth','Mars'],'G':['Earth'],'T':['Europa']\n",
    "}\n",
    "\n",
    "homeplanets = ['Earth', 'Europa', 'Mars']\n",
    "\n",
    "all_cabin_sides = ['P','S']\n",
    "\n",
    "all_cabin_decks = list(df.dropna(subset = ['Deck']).Deck.unique())\n"
   ]
  },
  {
   "cell_type": "code",
   "execution_count": 727,
   "metadata": {},
   "outputs": [],
   "source": [
    "def multiple_decks_in_group(df,row):\n",
    "    return len(df[df.Group == row.Group].dropna(subset ='Deck').Deck.unique()) > 1\n",
    "        "
   ]
  },
  {
   "cell_type": "code",
   "execution_count": 728,
   "metadata": {},
   "outputs": [],
   "source": [
    "def fill_potential_decks(df):\n",
    "    \n",
    "    def func_potential_decks(row):\n",
    "        if pd.isna(row.Cabin):\n",
    "            if row.Bills == 0 and not pd.isna(row.HomePlanet):\n",
    "                if len(df[df.Group == row.Group].dropna(subset = 'Deck').Deck.unique()) > 1:\n",
    "                    return decks_by_planet_no_bills[row.HomePlanet]\n",
    "                \n",
    "            if not pd.isna(row.HomePlanet):\n",
    "                return decks_by_planet[row.HomePlanet]\n",
    "            \n",
    "            else:\n",
    "                return all_cabin_decks\n",
    "            \n",
    "    df['potential_decks'] = df.apply(func_potential_decks, axis = 1)\n",
    "    return df"
   ]
  },
  {
   "cell_type": "code",
   "execution_count": 729,
   "metadata": {},
   "outputs": [],
   "source": [
    "def fill_potential_sides(df):\n",
    "    \n",
    "    def func_potential_sides(row):\n",
    "        if pd.isna(row.Cabin):\n",
    "            if row.GroupSize > 1:\n",
    "                group = df[df.Group == row.Group].dropna(subset = 'Side')\n",
    "                if len(group) > 0:\n",
    "                    return [group.iloc[0].Side]\n",
    "            return ['P','S']\n",
    "        \n",
    "    df['potential_sides'] = df.apply(func_potential_sides,axis = 1)\n",
    "    return df"
   ]
  },
  {
   "cell_type": "code",
   "execution_count": 751,
   "metadata": {},
   "outputs": [],
   "source": [
    "df = fill_potential_decks(df)\n",
    "df = fill_potential_sides(df)"
   ]
  },
  {
   "cell_type": "code",
   "execution_count": 752,
   "metadata": {},
   "outputs": [],
   "source": [
    "\n",
    "                    \n",
    "def rooms_to_fill(df):\n",
    "    rooms = {}\n",
    "    for deck in all_cabin_decks:\n",
    "        rooms[deck] = {'P': [], 'S': []} \n",
    "        for side in all_cabin_sides:\n",
    "            rooms_seen = df[(df.Deck == deck) & (df.Side == side) & (df.Number.notna())].Number.astype(int).tolist()\n",
    "            largest_room_number = max(rooms_seen, default=-1) \n",
    "\n",
    "            for i in range(largest_room_number + 1):\n",
    "                if i not in rooms_seen:\n",
    "                    rooms[deck][side].append(f\"{deck}/{i}/{side}\")\n",
    "\n",
    "    return rooms\n",
    "           "
   ]
  },
  {
   "cell_type": "code",
   "execution_count": 753,
   "metadata": {},
   "outputs": [],
   "source": [
    "def each_room_per_passenger(df):\n",
    "    passenger_options = {}\n",
    "    for index,passenger in df[df.Cabin.isna()].iterrows():\n",
    "        passenger_options[index] = {}\n",
    "        for deck in passenger.potential_decks:\n",
    "            passenger_options[index][deck] = {}\n",
    "            for side in passenger.potential_sides:\n",
    "                before = df.loc[(df.index < index) & (df.Deck == deck) & (df.Side == side), 'Number'].dropna().unique()\n",
    "                after = df.loc[(df.index > index) & (df.Deck == deck) & (df.Side == side), 'Number'].dropna().unique()\n",
    "                \n",
    "                if len(before) > 0:\n",
    "                    passenger_options[index][deck][side] = [max(before)]\n",
    "                else:\n",
    "                    passenger_options[index][deck][side] = [-1]\n",
    "                if len(after) > 0:\n",
    "                    passenger_options[index][deck][side].append(min(after))\n",
    "                else:\n",
    "                    passenger_options[index][deck][side].append(-1)\n",
    "    return passenger_options"
   ]
  },
  {
   "cell_type": "markdown",
   "metadata": {},
   "source": [
    "# solo group and only one room that fits"
   ]
  },
  {
   "cell_type": "code",
   "execution_count": 754,
   "metadata": {},
   "outputs": [],
   "source": [
    "def solo_group_one_option(df):\n",
    "    options = each_room_per_passenger(df)\n",
    "    for index in options.keys():\n",
    "        if df.iloc[index].GroupSize != 1:\n",
    "            continue\n",
    "        empty_cabin_options_for_passenger = []\n",
    "        for deck in options[index]:\n",
    "            for side in options[index][deck]:\n",
    "                numbers = options[index][deck][side]\n",
    "                if numbers[0] + 2 == numbers[1] and numbers[0] >= 0:\n",
    "                    empty_cabin_options_for_passenger.append(f\"{deck}/{numbers[0] + 1}/{side}\")\n",
    "                    if numbers[0] + 2 < numbers[1]:\n",
    "                        empty_cabin_options_for_passenger.append(f\"{deck}/{numbers[0] + 2}/{side}\")\n",
    "        if len(empty_cabin_options_for_passenger) == 1:\n",
    "            df.loc[index,'Cabin'] = empty_cabin_options_for_passenger[0]\n",
    "    return fill_deck_and_side_from_cabin(df)\n",
    "\n",
    "                    \n",
    "    "
   ]
  },
  {
   "cell_type": "code",
   "execution_count": 755,
   "metadata": {},
   "outputs": [],
   "source": [
    "df = solo_group_one_option(df)"
   ]
  },
  {
   "cell_type": "code",
   "execution_count": 756,
   "metadata": {},
   "outputs": [
    {
     "data": {
      "text/plain": [
       "PassengerId            0\n",
       "HomePlanet            13\n",
       "CryoSleep            310\n",
       "Cabin                 34\n",
       "Destination          274\n",
       "Age                  270\n",
       "VIP                  296\n",
       "RoomService          263\n",
       "FoodCourt            289\n",
       "ShoppingMall         306\n",
       "Spa                  284\n",
       "VRDeck               268\n",
       "Name                 294\n",
       "Set                    0\n",
       "Transported         4277\n",
       "Group                  0\n",
       "GroupNumber            0\n",
       "Deck                  34\n",
       "Number                34\n",
       "Side                  34\n",
       "FirstName            294\n",
       "LastName             294\n",
       "GroupSize              0\n",
       "Bills                785\n",
       "potential_decks    12935\n",
       "potential_sides    12935\n",
       "dtype: int64"
      ]
     },
     "execution_count": 756,
     "metadata": {},
     "output_type": "execute_result"
    }
   ],
   "source": [
    "df.isna().sum()"
   ]
  },
  {
   "cell_type": "code",
   "execution_count": 757,
   "metadata": {},
   "outputs": [
    {
     "data": {
      "text/plain": [
       "PassengerId                  3034_01\n",
       "HomePlanet                    Europa\n",
       "CryoSleep                      False\n",
       "Cabin                         B/98/P\n",
       "Destination              TRAPPIST-1e\n",
       "Age                             40.0\n",
       "VIP                            False\n",
       "RoomService                      0.0\n",
       "FoodCourt                        0.0\n",
       "ShoppingMall                     0.0\n",
       "Spa                              0.0\n",
       "VRDeck                           0.0\n",
       "Name               Dscheat Noxnuther\n",
       "Set                            Train\n",
       "Transported                    False\n",
       "Group                           3034\n",
       "GroupNumber                        1\n",
       "Deck                               B\n",
       "Number                            98\n",
       "Side                               P\n",
       "FirstName                    Dscheat\n",
       "LastName                   Noxnuther\n",
       "GroupSize                          1\n",
       "Bills                            0.0\n",
       "potential_decks                 None\n",
       "potential_sides                 None\n",
       "Name: 4233, dtype: object"
      ]
     },
     "execution_count": 757,
     "metadata": {},
     "output_type": "execute_result"
    }
   ],
   "source": [
    "df.iloc[4233]"
   ]
  },
  {
   "cell_type": "markdown",
   "metadata": {},
   "source": [
    "# no free rooms so has to share"
   ]
  },
  {
   "cell_type": "code",
   "execution_count": 758,
   "metadata": {},
   "outputs": [],
   "source": [
    "def no_free_rooms_so_shares(df):\n",
    "    options = each_room_per_passenger(df)\n",
    "    for index in options.keys():\n",
    "        empty_cabin_options_for_passenger = 0\n",
    "        for deck in options[index]:\n",
    "            for side in options[index][deck]:\n",
    "                numbers = options[index][deck][side]\n",
    "                if numbers[0] + 2 <= numbers[1] and numbers[0] >= 0:\n",
    "                    empty_cabin_options_for_passenger += 1\n",
    "                    \n",
    "        if empty_cabin_options_for_passenger == 0:\n",
    "            passenger = df.loc[index]\n",
    "            if len(df[(df.Group == passenger.Group) & (df.index != index) & (df.Deck.isin(passenger.potential_decks)) & (df.Side.isin(passenger.potential_sides))].Cabin.unique()) == 1:\n",
    "                df.loc[index,'Cabin'] = df[(df.Group == df.loc[index].Group) & (df.index != index)& (df.Deck.isin(passenger.potential_decks)) & (df.Side.isin(passenger.potential_sides))].Cabin.iloc[0]\n",
    "    return fill_deck_and_side_from_cabin(df)\n",
    "    \n",
    "        \n",
    "    \n"
   ]
  },
  {
   "cell_type": "code",
   "execution_count": 759,
   "metadata": {},
   "outputs": [],
   "source": [
    "df = no_free_rooms_so_shares(df)"
   ]
  },
  {
   "cell_type": "code",
   "execution_count": 760,
   "metadata": {},
   "outputs": [
    {
     "data": {
      "text/plain": [
       "PassengerId            0\n",
       "HomePlanet            13\n",
       "CryoSleep            310\n",
       "Cabin                 33\n",
       "Destination          274\n",
       "Age                  270\n",
       "VIP                  296\n",
       "RoomService          263\n",
       "FoodCourt            289\n",
       "ShoppingMall         306\n",
       "Spa                  284\n",
       "VRDeck               268\n",
       "Name                 294\n",
       "Set                    0\n",
       "Transported         4277\n",
       "Group                  0\n",
       "GroupNumber            0\n",
       "Deck                  33\n",
       "Number                33\n",
       "Side                  33\n",
       "FirstName            294\n",
       "LastName             294\n",
       "GroupSize              0\n",
       "Bills                785\n",
       "potential_decks    12935\n",
       "potential_sides    12935\n",
       "dtype: int64"
      ]
     },
     "execution_count": 760,
     "metadata": {},
     "output_type": "execute_result"
    }
   ],
   "source": [
    "df.isna().sum()"
   ]
  },
  {
   "cell_type": "markdown",
   "metadata": {},
   "source": [
    "# only passenger that can take that cabin"
   ]
  },
  {
   "cell_type": "code",
   "execution_count": 761,
   "metadata": {},
   "outputs": [],
   "source": [
    "\n",
    "def rooms_to_fill(df):\n",
    "    rooms = {}\n",
    "    for deck in all_cabin_decks:\n",
    "        rooms[deck] = {'P': [], 'S': []} \n",
    "        for side in all_cabin_sides:\n",
    "            rooms_seen = df[(df.Deck == deck) & (df.Side == side) & (df.Number.notna())].Number.astype(int).tolist()\n",
    "            largest_room_number = max(rooms_seen, default=-1) \n",
    "\n",
    "            for i in range(largest_room_number + 1):\n",
    "                if i not in rooms_seen:\n",
    "                    rooms[deck][side].append(f\"{deck}/{i}/{side}\")\n",
    "\n",
    "    return rooms\n",
    "           "
   ]
  },
  {
   "cell_type": "code",
   "execution_count": 762,
   "metadata": {},
   "outputs": [],
   "source": [
    "def only_passenger_that_fits(df):\n",
    "    free_rooms_dict = rooms_to_fill(df)\n",
    "    free_passengers = each_room_per_passenger(df)\n",
    "    for deck,deck_items in free_rooms_dict.items():\n",
    "        for side,side_items in deck_items.items():\n",
    "            for cabin in side_items:\n",
    "                if cabin == 'E/49/P':\n",
    "                    print('Here')\n",
    "                passenger_options_for_empty_cabins = []\n",
    "                for passenger_ind,passenger in free_passengers.items():\n",
    "                    if deck not in passenger:\n",
    "                        continue\n",
    "                    if side not in passenger[deck]:\n",
    "                        continue\n",
    "                    number_range = passenger[deck][side]\n",
    "                    if number_range[0] + 1 == int(cabin.split(\"/\")[1]) == number_range[1] - 1:\n",
    "                        passenger_options_for_empty_cabins.append(passenger_ind)\n",
    "                if cabin == 'E/49/P':\n",
    "                    print(passenger_options_for_empty_cabins)\n",
    "                        \n",
    "                if len(passenger_options_for_empty_cabins) == 1:\n",
    "                    passenger_to_fill_ind = passenger_options_for_empty_cabins[0]\n",
    "                    if cabin == 'E/49/P':\n",
    "                        print(\"fin\",passenger_options_for_empty_cabins)\n",
    "                    \n",
    "                    df.loc[passenger_to_fill_ind,'Cabin'] = cabin\n",
    "                    del free_passengers[passenger_to_fill_ind]\n",
    "                    \n",
    "                            \n",
    "    return fill_deck_and_side_from_cabin(df)\n",
    "    \n",
    "    \n",
    "                    \n",
    "                \n",
    "        \n",
    "        \n",
    "    "
   ]
  },
  {
   "cell_type": "code",
   "execution_count": 763,
   "metadata": {},
   "outputs": [],
   "source": [
    "df = only_passenger_that_fits(df)"
   ]
  },
  {
   "cell_type": "code",
   "execution_count": 764,
   "metadata": {},
   "outputs": [
    {
     "data": {
      "text/plain": [
       "PassengerId            0\n",
       "HomePlanet            13\n",
       "CryoSleep            310\n",
       "Cabin                 31\n",
       "Destination          274\n",
       "Age                  270\n",
       "VIP                  296\n",
       "RoomService          263\n",
       "FoodCourt            289\n",
       "ShoppingMall         306\n",
       "Spa                  284\n",
       "VRDeck               268\n",
       "Name                 294\n",
       "Set                    0\n",
       "Transported         4277\n",
       "Group                  0\n",
       "GroupNumber            0\n",
       "Deck                  31\n",
       "Number                31\n",
       "Side                  31\n",
       "FirstName            294\n",
       "LastName             294\n",
       "GroupSize              0\n",
       "Bills                785\n",
       "potential_decks    12935\n",
       "potential_sides    12935\n",
       "dtype: int64"
      ]
     },
     "execution_count": 764,
     "metadata": {},
     "output_type": "execute_result"
    }
   ],
   "source": [
    "df.isna().sum()"
   ]
  },
  {
   "cell_type": "markdown",
   "metadata": {},
   "source": [
    "# stop"
   ]
  },
  {
   "cell_type": "code",
   "execution_count": null,
   "metadata": {},
   "outputs": [],
   "source": []
  },
  {
   "cell_type": "code",
   "execution_count": 765,
   "metadata": {},
   "outputs": [],
   "source": [
    "\n",
    "\n",
    "df.loc[4233,'Cabin'] = 'B/98/P'\n",
    "df.loc[4254,'Cabin'] = 'B/99/P'\n",
    "df.loc[6493,'Cabin'] = 'E/300/S'\n",
    "df.loc[6514,'Cabin'] = 'E/301/S'\n",
    "df.loc[12892,'Cabin'] = 'F/1785/S' # maybe only one is from this room and the other is joined in the other room\n",
    "df.loc[12893,'Cabin'] = 'F/1785/S'\n",
    "df.loc[9265,'Cabin'] = 'F/1267/S'\n",
    "df.loc[9267,'Cabin'] = 'F/1267/S'\n",
    "df.loc[8413,'Cabin'] = 'A/57/P'\n",
    "df.loc[1429,'Cabin'] = 'E/58/P'\n",
    "\n",
    "df = fill_deck_and_side_from_cabin(df)\n"
   ]
  },
  {
   "cell_type": "markdown",
   "metadata": {},
   "source": [
    "# workings\n"
   ]
  },
  {
   "cell_type": "code",
   "execution_count": 766,
   "metadata": {},
   "outputs": [],
   "source": [
    "def all_cabin_options_for_each_row(df):\n",
    "    count = 0\n",
    "    for index, passenger in df[df.Cabin.isna()].iterrows():\n",
    "        print(\"\\nindex\", index)\n",
    "        print(\"passenger\",passenger.PassengerId)\n",
    "        print(\"GroupSize\", passenger.GroupSize)\n",
    "        options = []\n",
    "        for deck in passenger.potential_decks:\n",
    "            for side in passenger.potential_sides:\n",
    "                \n",
    "                before_slice = df.iloc[:index]\n",
    "                after_slice = df.iloc[index+1:] \n",
    "                top_room_number_before = np.max(before_slice[(before_slice.Deck == deck) & (before_slice.Side == side)].Number)\n",
    "                smallest_room_number_after = np.min(after_slice[(after_slice.Deck == deck) & (after_slice.Side == side)].Number)\n",
    "                if pd.isna(top_room_number_before) or pd.isna(smallest_room_number_after):\n",
    "                        continue\n",
    "                if top_room_number_before + 1 != smallest_room_number_after:\n",
    "                    \n",
    "                    if top_room_number_before == smallest_room_number_after:\n",
    "                        continue\n",
    "                    else:\n",
    "                        options.append([deck,side,top_room_number_before,smallest_room_number_after])\n",
    "        print(options)\n",
    "        print(passenger.potential_sides)\n",
    "        if len(options) == 0:\n",
    "            count += 1\n",
    "    print(count)\n"
   ]
  },
  {
   "cell_type": "code",
   "execution_count": 767,
   "metadata": {},
   "outputs": [
    {
     "name": "stdout",
     "output_type": "stream",
     "text": [
      "\n",
      "index 404\n",
      "passenger 0293_01\n",
      "GroupSize 1\n",
      "[['B', 'P', 12, 14], ['C', 'S', 12, 14]]\n",
      "['P', 'S']\n",
      "\n",
      "index 421\n",
      "passenger 0310_01\n",
      "GroupSize 1\n",
      "[['B', 'P', 12, 14], ['C', 'S', 12, 14]]\n",
      "['P', 'S']\n",
      "\n",
      "index 479\n",
      "passenger 0348_02\n",
      "GroupSize 2\n",
      "[['E', 'P', 19, 22]]\n",
      "['P']\n",
      "\n",
      "index 505\n",
      "passenger 0364_02\n",
      "GroupSize 2\n",
      "[['E', 'P', 19, 22]]\n",
      "['P']\n",
      "\n",
      "index 517\n",
      "passenger 0374_02\n",
      "GroupSize 2\n",
      "[['E', 'P', 19, 22]]\n",
      "['P']\n",
      "\n",
      "index 1466\n",
      "passenger 1041_01\n",
      "GroupSize 1\n",
      "[['C', 'S', 39, 41], ['D', 'S', 35, 37]]\n",
      "['P', 'S']\n",
      "\n",
      "index 1543\n",
      "passenger 1095_01\n",
      "GroupSize 1\n",
      "[['C', 'S', 39, 41], ['D', 'S', 35, 37]]\n",
      "['P', 'S']\n",
      "\n",
      "index 2442\n",
      "passenger 1709_03\n",
      "GroupSize 7\n",
      "[]\n",
      "['S']\n",
      "\n",
      "index 2970\n",
      "passenger 2092_03\n",
      "GroupSize 5\n",
      "[]\n",
      "['S']\n",
      "\n",
      "index 3529\n",
      "passenger 2513_01\n",
      "GroupSize 1\n",
      "[['E', 'P', 149, 151], ['F', 'P', 518, 520]]\n",
      "['P', 'S']\n",
      "\n",
      "index 3530\n",
      "passenger 2514_01\n",
      "GroupSize 1\n",
      "[['E', 'P', 149, 151], ['F', 'P', 518, 520]]\n",
      "['P', 'S']\n",
      "\n",
      "index 4569\n",
      "passenger 3287_02\n",
      "GroupSize 3\n",
      "[]\n",
      "['S']\n",
      "\n",
      "index 4751\n",
      "passenger 3411_02\n",
      "GroupSize 7\n",
      "[]\n",
      "['S']\n",
      "\n",
      "index 5016\n",
      "passenger 3598_01\n",
      "GroupSize 1\n",
      "[['G', 'P', 589, 591], ['G', 'S', 578, 580]]\n",
      "['P', 'S']\n",
      "\n",
      "index 5017\n",
      "passenger 3599_01\n",
      "GroupSize 1\n",
      "[['G', 'P', 589, 591], ['G', 'S', 578, 580]]\n",
      "['P', 'S']\n",
      "\n",
      "index 8450\n",
      "passenger 6048_01\n",
      "GroupSize 1\n",
      "[['D', 'P', 190, 192], ['E', 'P', 386, 388]]\n",
      "['P', 'S']\n",
      "\n",
      "index 8465\n",
      "passenger 6060_01\n",
      "GroupSize 1\n",
      "[['D', 'P', 190, 192], ['E', 'P', 386, 388]]\n",
      "['P', 'S']\n",
      "\n",
      "index 10081\n",
      "passenger 7182_01\n",
      "GroupSize 1\n",
      "[['F', 'P', 1488, 1490], ['G', 'P', 1156, 1158]]\n",
      "['P', 'S']\n",
      "\n",
      "index 10082\n",
      "passenger 7183_01\n",
      "GroupSize 1\n",
      "[['F', 'P', 1488, 1490], ['G', 'P', 1156, 1158]]\n",
      "['P', 'S']\n",
      "\n",
      "index 10290\n",
      "passenger 7353_03\n",
      "GroupSize 3\n",
      "[['C', 'S', 269, 271]]\n",
      "['S']\n",
      "\n",
      "index 10313\n",
      "passenger 7368_01\n",
      "GroupSize 1\n",
      "[['C', 'S', 269, 271], ['D', 'P', 234, 236]]\n",
      "['P', 'S']\n",
      "\n",
      "index 10394\n",
      "passenger 7429_01\n",
      "GroupSize 1\n",
      "[['D', 'P', 234, 236], ['F', 'S', 1423, 1425]]\n",
      "['P', 'S']\n",
      "\n",
      "index 10408\n",
      "passenger 7440_01\n",
      "GroupSize 1\n",
      "[['F', 'S', 1423, 1425], ['G', 'S', 1205, 1207]]\n",
      "['P', 'S']\n",
      "\n",
      "index 10411\n",
      "passenger 7442_02\n",
      "GroupSize 2\n",
      "[['F', 'S', 1423, 1425], ['G', 'S', 1205, 1207]]\n",
      "['S']\n",
      "\n",
      "index 10434\n",
      "passenger 7463_01\n",
      "GroupSize 1\n",
      "[['F', 'P', 1543, 1545], ['F', 'S', 1423, 1425], ['G', 'S', 1211, 1213]]\n",
      "['P', 'S']\n",
      "\n",
      "index 10440\n",
      "passenger 7469_01\n",
      "GroupSize 1\n",
      "[['F', 'P', 1543, 1545], ['G', 'S', 1211, 1213]]\n",
      "['P', 'S']\n",
      "\n",
      "index 11129\n",
      "passenger 7983_01\n",
      "GroupSize 1\n",
      "[['C', 'S', 297, 299], ['E', 'S', 527, 529]]\n",
      "['P', 'S']\n",
      "\n",
      "index 11148\n",
      "passenger 7995_01\n",
      "GroupSize 1\n",
      "[['C', 'S', 297, 299], ['E', 'S', 527, 529]]\n",
      "['P', 'S']\n",
      "\n",
      "index 12174\n",
      "passenger 8728_07\n",
      "GroupSize 8\n",
      "[]\n",
      "['P']\n",
      "\n",
      "index 12651\n",
      "passenger 9057_01\n",
      "GroupSize 2\n",
      "[['A', 'P', 93, 95]]\n",
      "['P']\n",
      "\n",
      "index 12668\n",
      "passenger 9069_03\n",
      "GroupSize 5\n",
      "[['A', 'P', 93, 95]]\n",
      "['P']\n",
      "5\n"
     ]
    }
   ],
   "source": [
    "all_cabin_options_for_each_row(df)"
   ]
  },
  {
   "cell_type": "code",
   "execution_count": 768,
   "metadata": {},
   "outputs": [
    {
     "data": {
      "text/plain": [
       "PassengerId            0\n",
       "HomePlanet            13\n",
       "CryoSleep            310\n",
       "Cabin                 31\n",
       "Destination          274\n",
       "Age                  270\n",
       "VIP                  296\n",
       "RoomService          263\n",
       "FoodCourt            289\n",
       "ShoppingMall         306\n",
       "Spa                  284\n",
       "VRDeck               268\n",
       "Name                 294\n",
       "Set                    0\n",
       "Transported         4277\n",
       "Group                  0\n",
       "GroupNumber            0\n",
       "Deck                  31\n",
       "Number                31\n",
       "Side                  31\n",
       "FirstName            294\n",
       "LastName             294\n",
       "GroupSize              0\n",
       "Bills                785\n",
       "potential_decks    12935\n",
       "potential_sides    12935\n",
       "dtype: int64"
      ]
     },
     "execution_count": 768,
     "metadata": {},
     "output_type": "execute_result"
    }
   ],
   "source": [
    "df.isna().sum()"
   ]
  },
  {
   "cell_type": "markdown",
   "metadata": {},
   "source": [
    "# compare to old one"
   ]
  },
  {
   "cell_type": "code",
   "execution_count": 769,
   "metadata": {},
   "outputs": [],
   "source": [
    "df_to_comp = pd.read_csv('31remaining.csv')"
   ]
  },
  {
   "cell_type": "code",
   "execution_count": 770,
   "metadata": {},
   "outputs": [],
   "source": [
    "def comp(df1,df2):\n",
    "    for index,row in df1.iterrows():\n",
    "        if pd.isna(df1.iloc[index].Cabin) and pd.isna(df2.iloc[index].Cabin):\n",
    "            continue\n",
    "        if df1.iloc[index].Cabin != df2.iloc[index].Cabin:\n",
    "            print(df1.iloc[index].Cabin, df2.iloc[index].Cabin)\n",
    "\n",
    "comp(df,df_to_comp)\n",
    "        "
   ]
  },
  {
   "cell_type": "code",
   "execution_count": null,
   "metadata": {},
   "outputs": [],
   "source": []
  }
 ],
 "metadata": {
  "kernelspec": {
   "display_name": "spaceenv",
   "language": "python",
   "name": "python3"
  },
  "language_info": {
   "codemirror_mode": {
    "name": "ipython",
    "version": 3
   },
   "file_extension": ".py",
   "mimetype": "text/x-python",
   "name": "python",
   "nbconvert_exporter": "python",
   "pygments_lexer": "ipython3",
   "version": "3.9.6"
  }
 },
 "nbformat": 4,
 "nbformat_minor": 2
}
