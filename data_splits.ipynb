{
 "cells": [
  {
   "cell_type": "code",
   "execution_count": 1,
   "metadata": {},
   "outputs": [],
   "source": [
    "import pandas as pd\n",
    "import numpy as np\n",
    "\n",
    "traindf = pd.read_csv('data/train.csv')\n",
    "testdf = pd.read_csv('data/test.csv')\n",
    "traindf['Set'] = 'Train'\n",
    "testdf['Set'] = 'Test'\n",
    "df = pd.concat([testdf,traindf])\n"
   ]
  },
  {
   "cell_type": "code",
   "execution_count": 2,
   "metadata": {},
   "outputs": [],
   "source": [
    "def splits(data_frame):\n",
    "    split_df = data_frame['PassengerId'].str.split('_', expand=True)\n",
    "    data_frame[['Group', 'GroupNumber']] = split_df\n",
    "\n",
    "    split_df =  data_frame['Cabin'].str.split(\"/\", expand = True)\n",
    "    data_frame[['Deck', 'Number', 'Side']]= split_df\n",
    "    data_frame.Number = data_frame.Number.astype('float')\n",
    "    \n",
    "    split_df = data_frame['Name'].str.split(\" \",expand = True)\n",
    "    data_frame[['FristName','LastName']] = split_df\n",
    "\n",
    "\n",
    "    return data_frame\n",
    "\n",
    "df = splits(df)\n"
   ]
  },
  {
   "cell_type": "code",
   "execution_count": 3,
   "metadata": {},
   "outputs": [],
   "source": [
    "def group_size(df):\n",
    "    def group_size_apply(row):\n",
    "        group = df[df.Group == row.Group]\n",
    "        return len(group)\n",
    "    df['GroupSize'] = df.apply(group_size_apply, axis = 1)\n",
    "    return df\n",
    "df = group_size(df)"
   ]
  },
  {
   "cell_type": "code",
   "execution_count": 4,
   "metadata": {},
   "outputs": [],
   "source": [
    "df['Bills'] = df['RoomService'] + df['FoodCourt'] + df['ShoppingMall'] + df['Spa'] + df['VRDeck']\n",
    "df.loc[(df['Age'] < 13), 'Bills'] = 0\n",
    "df.loc[(df['CryoSleep'] == True),'Bills'] = 0 \n"
   ]
  },
  {
   "cell_type": "code",
   "execution_count": 5,
   "metadata": {},
   "outputs": [],
   "source": [
    "def impute_attribute_based_on_shared_feature(df, attribute, feature):\n",
    "    # Function to fill NaNs in a group based on the first available non-NaN value\n",
    "    def fill_with_first_available(group_df):\n",
    "        if not group_df[attribute].dropna().empty:\n",
    "            first_available = group_df[attribute].dropna().iloc[0]\n",
    "            group_df[attribute] = group_df[attribute].fillna(first_available)\n",
    "        return group_df\n",
    "\n",
    "    # Filter out rows where the feature is NaN, then apply the fill function to each group\n",
    "    filtered_df = df.dropna(subset=[feature])\n",
    "    imputed_df = filtered_df.groupby(feature, group_keys=False).apply(fill_with_first_available)\n",
    "    \n",
    "    # Merge back with original df rows where the feature is NaN to retain those rows unchanged\n",
    "    df_with_nan_feature = df[df[feature].isna()]\n",
    "    final_df = pd.concat([imputed_df, df_with_nan_feature], ignore_index=True)\n",
    "\n",
    "    return final_df"
   ]
  },
  {
   "cell_type": "code",
   "execution_count": 6,
   "metadata": {},
   "outputs": [
    {
     "name": "stderr",
     "output_type": "stream",
     "text": [
      "/var/folders/nk/n25bjxk97j7213hk3kmrl6bm0000gp/T/ipykernel_85847/2494772570.py:11: DeprecationWarning: DataFrameGroupBy.apply operated on the grouping columns. This behavior is deprecated, and in a future version of pandas the grouping columns will be excluded from the operation. Either pass `include_groups=False` to exclude the groupings or explicitly select the grouping columns after groupby to silence this warning.\n",
      "  imputed_df = filtered_df.groupby(feature, group_keys=False).apply(fill_with_first_available)\n"
     ]
    }
   ],
   "source": [
    "df = impute_attribute_based_on_shared_feature(df,'HomePlanet','Group')"
   ]
  },
  {
   "cell_type": "code",
   "execution_count": 7,
   "metadata": {},
   "outputs": [
    {
     "name": "stderr",
     "output_type": "stream",
     "text": [
      "/var/folders/nk/n25bjxk97j7213hk3kmrl6bm0000gp/T/ipykernel_85847/2494772570.py:11: DeprecationWarning: DataFrameGroupBy.apply operated on the grouping columns. This behavior is deprecated, and in a future version of pandas the grouping columns will be excluded from the operation. Either pass `include_groups=False` to exclude the groupings or explicitly select the grouping columns after groupby to silence this warning.\n",
      "  imputed_df = filtered_df.groupby(feature, group_keys=False).apply(fill_with_first_available)\n"
     ]
    }
   ],
   "source": [
    "df = impute_attribute_based_on_shared_feature(df,'HomePlanet','LastName')"
   ]
  },
  {
   "cell_type": "code",
   "execution_count": 8,
   "metadata": {},
   "outputs": [],
   "source": [
    "df = df.sort_values(by = ['Group','GroupNumber'])\n",
    "df = df.reset_index(drop = True)\n"
   ]
  },
  {
   "cell_type": "code",
   "execution_count": 10,
   "metadata": {},
   "outputs": [],
   "source": [
    "df.to_csv('pre_processed.csv',index = False)"
   ]
  },
  {
   "cell_type": "code",
   "execution_count": null,
   "metadata": {},
   "outputs": [],
   "source": []
  }
 ],
 "metadata": {
  "kernelspec": {
   "display_name": "spaceenv",
   "language": "python",
   "name": "python3"
  },
  "language_info": {
   "codemirror_mode": {
    "name": "ipython",
    "version": 3
   },
   "file_extension": ".py",
   "mimetype": "text/x-python",
   "name": "python",
   "nbconvert_exporter": "python",
   "pygments_lexer": "ipython3",
   "version": "3.9.6"
  }
 },
 "nbformat": 4,
 "nbformat_minor": 2
}
