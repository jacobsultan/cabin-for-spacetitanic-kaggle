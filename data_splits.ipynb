{
 "cells": [
  {
   "cell_type": "code",
   "execution_count": 13,
   "metadata": {},
   "outputs": [],
   "source": [
    "import pandas as pd\n",
    "import numpy as np\n",
    "\n",
    "traindf = pd.read_csv('data/train.csv')\n",
    "testdf = pd.read_csv('data/test.csv')\n",
    "traindf['Set'] = 'Train'\n",
    "testdf['Set'] = 'Test'\n",
    "df = pd.concat([testdf,traindf])\n"
   ]
  },
  {
   "cell_type": "code",
   "execution_count": null,
   "metadata": {},
   "outputs": [],
   "source": []
  },
  {
   "cell_type": "code",
   "execution_count": 14,
   "metadata": {},
   "outputs": [
    {
     "data": {
      "text/plain": [
       "9826"
      ]
     },
     "execution_count": 14,
     "metadata": {},
     "output_type": "execute_result"
    }
   ],
   "source": [
    "len(df.Cabin.unique())"
   ]
  },
  {
   "cell_type": "code",
   "execution_count": 15,
   "metadata": {},
   "outputs": [],
   "source": [
    "def splits(data_frame):\n",
    "    split_df = data_frame['PassengerId'].str.split('_', expand=True)\n",
    "    data_frame[['Group', 'GroupNumber']] = split_df\n",
    "\n",
    "    split_df =  data_frame['Cabin'].str.split(\"/\", expand = True)\n",
    "    data_frame[['Deck', 'Number', 'Side']]= split_df\n",
    "    data_frame.Number = data_frame.Number.astype('float')\n",
    "    \n",
    "    split_df = data_frame['Name'].str.split(\" \",expand = True)\n",
    "    data_frame[['FirstName','LastName']] = split_df\n",
    "\n",
    "\n",
    "    return data_frame\n",
    "\n",
    "df = splits(df)\n"
   ]
  },
  {
   "cell_type": "code",
   "execution_count": 16,
   "metadata": {},
   "outputs": [
    {
     "data": {
      "text/html": [
       "<div>\n",
       "<style scoped>\n",
       "    .dataframe tbody tr th:only-of-type {\n",
       "        vertical-align: middle;\n",
       "    }\n",
       "\n",
       "    .dataframe tbody tr th {\n",
       "        vertical-align: top;\n",
       "    }\n",
       "\n",
       "    .dataframe thead th {\n",
       "        text-align: right;\n",
       "    }\n",
       "</style>\n",
       "<table border=\"1\" class=\"dataframe\">\n",
       "  <thead>\n",
       "    <tr style=\"text-align: right;\">\n",
       "      <th></th>\n",
       "      <th>PassengerId</th>\n",
       "      <th>HomePlanet</th>\n",
       "      <th>CryoSleep</th>\n",
       "      <th>Cabin</th>\n",
       "      <th>Destination</th>\n",
       "      <th>Age</th>\n",
       "      <th>VIP</th>\n",
       "      <th>RoomService</th>\n",
       "      <th>FoodCourt</th>\n",
       "      <th>ShoppingMall</th>\n",
       "      <th>...</th>\n",
       "      <th>Name</th>\n",
       "      <th>Set</th>\n",
       "      <th>Transported</th>\n",
       "      <th>Group</th>\n",
       "      <th>GroupNumber</th>\n",
       "      <th>Deck</th>\n",
       "      <th>Number</th>\n",
       "      <th>Side</th>\n",
       "      <th>FirstName</th>\n",
       "      <th>LastName</th>\n",
       "    </tr>\n",
       "  </thead>\n",
       "  <tbody>\n",
       "    <tr>\n",
       "      <th>1494</th>\n",
       "      <td>3208_01</td>\n",
       "      <td>Europa</td>\n",
       "      <td>False</td>\n",
       "      <td>T/4/P</td>\n",
       "      <td>TRAPPIST-1e</td>\n",
       "      <td>27.0</td>\n",
       "      <td>False</td>\n",
       "      <td>0.0</td>\n",
       "      <td>11293.0</td>\n",
       "      <td>0.0</td>\n",
       "      <td>...</td>\n",
       "      <td>Thabius Reeddommy</td>\n",
       "      <td>Test</td>\n",
       "      <td>NaN</td>\n",
       "      <td>3208</td>\n",
       "      <td>01</td>\n",
       "      <td>T</td>\n",
       "      <td>4.0</td>\n",
       "      <td>P</td>\n",
       "      <td>Thabius</td>\n",
       "      <td>Reeddommy</td>\n",
       "    </tr>\n",
       "    <tr>\n",
       "      <th>1004</th>\n",
       "      <td>1071_01</td>\n",
       "      <td>NaN</td>\n",
       "      <td>False</td>\n",
       "      <td>T/0/P</td>\n",
       "      <td>TRAPPIST-1e</td>\n",
       "      <td>35.0</td>\n",
       "      <td>False</td>\n",
       "      <td>415.0</td>\n",
       "      <td>1328.0</td>\n",
       "      <td>0.0</td>\n",
       "      <td>...</td>\n",
       "      <td>Alraida Dingauge</td>\n",
       "      <td>Train</td>\n",
       "      <td>False</td>\n",
       "      <td>1071</td>\n",
       "      <td>01</td>\n",
       "      <td>T</td>\n",
       "      <td>0.0</td>\n",
       "      <td>P</td>\n",
       "      <td>Alraida</td>\n",
       "      <td>Dingauge</td>\n",
       "    </tr>\n",
       "    <tr>\n",
       "      <th>2254</th>\n",
       "      <td>2414_01</td>\n",
       "      <td>Europa</td>\n",
       "      <td>False</td>\n",
       "      <td>T/1/P</td>\n",
       "      <td>TRAPPIST-1e</td>\n",
       "      <td>42.0</td>\n",
       "      <td>False</td>\n",
       "      <td>0.0</td>\n",
       "      <td>1829.0</td>\n",
       "      <td>2.0</td>\n",
       "      <td>...</td>\n",
       "      <td>Mergak Headfair</td>\n",
       "      <td>Train</td>\n",
       "      <td>False</td>\n",
       "      <td>2414</td>\n",
       "      <td>01</td>\n",
       "      <td>T</td>\n",
       "      <td>1.0</td>\n",
       "      <td>P</td>\n",
       "      <td>Mergak</td>\n",
       "      <td>Headfair</td>\n",
       "    </tr>\n",
       "    <tr>\n",
       "      <th>2734</th>\n",
       "      <td>2935_01</td>\n",
       "      <td>Europa</td>\n",
       "      <td>False</td>\n",
       "      <td>T/2/P</td>\n",
       "      <td>TRAPPIST-1e</td>\n",
       "      <td>33.0</td>\n",
       "      <td>False</td>\n",
       "      <td>0.0</td>\n",
       "      <td>28.0</td>\n",
       "      <td>0.0</td>\n",
       "      <td>...</td>\n",
       "      <td>NaN</td>\n",
       "      <td>Train</td>\n",
       "      <td>False</td>\n",
       "      <td>2935</td>\n",
       "      <td>01</td>\n",
       "      <td>T</td>\n",
       "      <td>2.0</td>\n",
       "      <td>P</td>\n",
       "      <td>NaN</td>\n",
       "      <td>NaN</td>\n",
       "    </tr>\n",
       "    <tr>\n",
       "      <th>2763</th>\n",
       "      <td>2971_01</td>\n",
       "      <td>Europa</td>\n",
       "      <td>False</td>\n",
       "      <td>T/3/P</td>\n",
       "      <td>TRAPPIST-1e</td>\n",
       "      <td>38.0</td>\n",
       "      <td>False</td>\n",
       "      <td>0.0</td>\n",
       "      <td>3135.0</td>\n",
       "      <td>0.0</td>\n",
       "      <td>...</td>\n",
       "      <td>Pent Sessiouse</td>\n",
       "      <td>Train</td>\n",
       "      <td>True</td>\n",
       "      <td>2971</td>\n",
       "      <td>01</td>\n",
       "      <td>T</td>\n",
       "      <td>3.0</td>\n",
       "      <td>P</td>\n",
       "      <td>Pent</td>\n",
       "      <td>Sessiouse</td>\n",
       "    </tr>\n",
       "  </tbody>\n",
       "</table>\n",
       "<p>5 rows × 22 columns</p>\n",
       "</div>"
      ],
      "text/plain": [
       "     PassengerId HomePlanet CryoSleep  Cabin  Destination   Age    VIP  \\\n",
       "1494     3208_01     Europa     False  T/4/P  TRAPPIST-1e  27.0  False   \n",
       "1004     1071_01        NaN     False  T/0/P  TRAPPIST-1e  35.0  False   \n",
       "2254     2414_01     Europa     False  T/1/P  TRAPPIST-1e  42.0  False   \n",
       "2734     2935_01     Europa     False  T/2/P  TRAPPIST-1e  33.0  False   \n",
       "2763     2971_01     Europa     False  T/3/P  TRAPPIST-1e  38.0  False   \n",
       "\n",
       "      RoomService  FoodCourt  ShoppingMall  ...               Name    Set  \\\n",
       "1494          0.0    11293.0           0.0  ...  Thabius Reeddommy   Test   \n",
       "1004        415.0     1328.0           0.0  ...   Alraida Dingauge  Train   \n",
       "2254          0.0     1829.0           2.0  ...    Mergak Headfair  Train   \n",
       "2734          0.0       28.0           0.0  ...                NaN  Train   \n",
       "2763          0.0     3135.0           0.0  ...     Pent Sessiouse  Train   \n",
       "\n",
       "     Transported Group GroupNumber Deck Number Side  FirstName   LastName  \n",
       "1494         NaN  3208          01    T    4.0    P    Thabius  Reeddommy  \n",
       "1004       False  1071          01    T    0.0    P    Alraida   Dingauge  \n",
       "2254       False  2414          01    T    1.0    P     Mergak   Headfair  \n",
       "2734       False  2935          01    T    2.0    P        NaN        NaN  \n",
       "2763        True  2971          01    T    3.0    P       Pent  Sessiouse  \n",
       "\n",
       "[5 rows x 22 columns]"
      ]
     },
     "execution_count": 16,
     "metadata": {},
     "output_type": "execute_result"
    }
   ],
   "source": [
    "df[(df.Deck == 'T') & (df.Side == 'P')]"
   ]
  },
  {
   "cell_type": "code",
   "execution_count": 17,
   "metadata": {},
   "outputs": [
    {
     "data": {
      "text/plain": [
       "10005.0"
      ]
     },
     "execution_count": 17,
     "metadata": {},
     "output_type": "execute_result"
    }
   ],
   "source": [
    "a = 0\n",
    "for deck in ['A','B','C','D','E','F','G']:\n",
    "    for side in ['P','S']:\n",
    "        a += max(df[(df.Deck == deck) & (df.Side == side)].Number) + 1\n",
    "a"
   ]
  },
  {
   "cell_type": "code",
   "execution_count": 18,
   "metadata": {},
   "outputs": [],
   "source": [
    "def group_size(df):\n",
    "    def group_size_apply(row):\n",
    "        group = df[df.Group == row.Group]\n",
    "        return len(group)\n",
    "    df['GroupSize'] = df.apply(group_size_apply, axis = 1)\n",
    "    return df\n",
    "df = group_size(df)"
   ]
  },
  {
   "cell_type": "code",
   "execution_count": 19,
   "metadata": {},
   "outputs": [],
   "source": [
    "df['Bills'] = df['RoomService'] + df['FoodCourt'] + df['ShoppingMall'] + df['Spa'] + df['VRDeck']\n",
    "df.loc[(df['Age'] < 13), 'Bills'] = 0\n",
    "df.loc[(df['CryoSleep'] == True),'Bills'] = 0 \n"
   ]
  },
  {
   "cell_type": "code",
   "execution_count": 20,
   "metadata": {},
   "outputs": [],
   "source": [
    "def impute_attribute_based_on_shared_feature(df, attribute, feature):\n",
    "    # Function to fill NaNs in a group based on the first available non-NaN value\n",
    "    def fill_with_first_available(group_df):\n",
    "        if not group_df[attribute].dropna().empty:\n",
    "            first_available = group_df[attribute].dropna().iloc[0]\n",
    "            group_df[attribute] = group_df[attribute].fillna(first_available)\n",
    "        return group_df\n",
    "\n",
    "    # Filter out rows where the feature is NaN, then apply the fill function to each group\n",
    "    filtered_df = df.dropna(subset=[feature])\n",
    "    imputed_df = filtered_df.groupby(feature, group_keys=False).apply(fill_with_first_available)\n",
    "    \n",
    "    # Merge back with original df rows where the feature is NaN to retain those rows unchanged\n",
    "    df_with_nan_feature = df[df[feature].isna()]\n",
    "    final_df = pd.concat([imputed_df, df_with_nan_feature], ignore_index=True)\n",
    "\n",
    "    return final_df"
   ]
  },
  {
   "cell_type": "code",
   "execution_count": 21,
   "metadata": {},
   "outputs": [
    {
     "name": "stderr",
     "output_type": "stream",
     "text": [
      "/var/folders/nk/n25bjxk97j7213hk3kmrl6bm0000gp/T/ipykernel_94475/2494772570.py:11: DeprecationWarning: DataFrameGroupBy.apply operated on the grouping columns. This behavior is deprecated, and in a future version of pandas the grouping columns will be excluded from the operation. Either pass `include_groups=False` to exclude the groupings or explicitly select the grouping columns after groupby to silence this warning.\n",
      "  imputed_df = filtered_df.groupby(feature, group_keys=False).apply(fill_with_first_available)\n"
     ]
    }
   ],
   "source": [
    "df = impute_attribute_based_on_shared_feature(df,'HomePlanet','Group')"
   ]
  },
  {
   "cell_type": "code",
   "execution_count": 22,
   "metadata": {},
   "outputs": [
    {
     "name": "stderr",
     "output_type": "stream",
     "text": [
      "/var/folders/nk/n25bjxk97j7213hk3kmrl6bm0000gp/T/ipykernel_94475/2494772570.py:11: DeprecationWarning: DataFrameGroupBy.apply operated on the grouping columns. This behavior is deprecated, and in a future version of pandas the grouping columns will be excluded from the operation. Either pass `include_groups=False` to exclude the groupings or explicitly select the grouping columns after groupby to silence this warning.\n",
      "  imputed_df = filtered_df.groupby(feature, group_keys=False).apply(fill_with_first_available)\n"
     ]
    }
   ],
   "source": [
    "df = impute_attribute_based_on_shared_feature(df,'HomePlanet','LastName')"
   ]
  },
  {
   "cell_type": "code",
   "execution_count": 23,
   "metadata": {},
   "outputs": [],
   "source": [
    "df = df.sort_values(by = ['Group','GroupNumber'])\n",
    "df = df.reset_index(drop = True)\n"
   ]
  },
  {
   "cell_type": "code",
   "execution_count": 24,
   "metadata": {},
   "outputs": [],
   "source": [
    "decks_by_planet = {\n",
    "    'Earth':['E','F','G'],\n",
    "    'Europa': ['A','B','C','D','E','T'],\n",
    "    'Mars': ['D','E','F']\n",
    "}\n",
    "\n",
    "decks_by_planet_no_bills = {\n",
    "    'Earth':['G'],\n",
    "    'Europa':['B'],\n",
    "    'Mars': ['E','F']\n",
    "}\n",
    "\n",
    "planet_by_deck = {\n",
    "    'A':['Europa'],'B':['Europa'],'C':['Europa'],'D':['Europa','Mars'],'E':['Europa','Mars','Earth'],\n",
    "    'F':['Earth','Mars'],'G':['Earth'],'T':['Europa']\n",
    "}"
   ]
  },
  {
   "cell_type": "code",
   "execution_count": 25,
   "metadata": {},
   "outputs": [],
   "source": [
    "df.to_csv('pre_processed.csv',index = False)"
   ]
  },
  {
   "cell_type": "code",
   "execution_count": null,
   "metadata": {},
   "outputs": [],
   "source": []
  },
  {
   "cell_type": "code",
   "execution_count": 25,
   "metadata": {},
   "outputs": [
    {
     "ename": "NameError",
     "evalue": "name 'togeth' is not defined",
     "output_type": "error",
     "traceback": [
      "\u001b[0;31m---------------------------------------------------------------------------\u001b[0m",
      "\u001b[0;31mNameError\u001b[0m                                 Traceback (most recent call last)",
      "Cell \u001b[0;32mIn[25], line 1\u001b[0m\n\u001b[0;32m----> 1\u001b[0m \u001b[43mtogeth\u001b[49m\u001b[38;5;241m.\u001b[39mCabin\u001b[38;5;241m.\u001b[39munique()\n",
      "\u001b[0;31mNameError\u001b[0m: name 'togeth' is not defined"
     ]
    }
   ],
   "source": []
  }
 ],
 "metadata": {
  "kernelspec": {
   "display_name": "spaceenv",
   "language": "python",
   "name": "python3"
  },
  "language_info": {
   "codemirror_mode": {
    "name": "ipython",
    "version": 3
   },
   "file_extension": ".py",
   "mimetype": "text/x-python",
   "name": "python",
   "nbconvert_exporter": "python",
   "pygments_lexer": "ipython3",
   "version": "3.9.6"
  }
 },
 "nbformat": 4,
 "nbformat_minor": 2
}
